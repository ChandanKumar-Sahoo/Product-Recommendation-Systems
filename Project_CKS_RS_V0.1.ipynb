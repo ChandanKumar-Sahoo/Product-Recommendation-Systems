{
 "cells": [
  {
   "cell_type": "markdown",
   "metadata": {},
   "source": [
    "## <span style=\"font-family: Algerian; font-weight:bold;font-size:1.5em;color:Red; center\">      Project on Recommendation Systems:"
   ]
  },
  {
   "cell_type": "markdown",
   "metadata": {},
   "source": [
    "## <span style=\"font-family: Times New Roman; font-weight:bold;font-size:1.5em;color:violet;\">Contents:\n",
    "\n",
    "[Data Description](#Ds)\n",
    "\n",
    "[Attribute Information](#AI)\n",
    "\n",
    "[Objective](#O)\n",
    "\n",
    "[Steps, Tasks and Solution](#sts)\n",
    "\n",
    "\n",
    "\n",
    "<a id='the_destination'></a>"
   ]
  },
  {
   "cell_type": "markdown",
   "metadata": {},
   "source": [
    "## <span style=\"font-family: Copperplate Gothic Bold; font-weight:bold;font-size:1em;color:Orange;\"> Data Description\n",
    "<a id='Ds'></a>\n",
    "    <font color=darkblue>\n",
    "        \n",
    "\n",
    "- Domain - E-commerce\n",
    "        \n",
    "- Context - Everyday a million products are being recommended to users based on\n",
    "popularity and other metrics on e-commerce websites. The most popular e-commerce\n",
    "website boosts average order value by 50%, increases revenues by 300%, and\n",
    "improves conversion. In addition to being a powerful tool for increasing revenues,\n",
    "product recommendations are so essential that customers now expect to see similar\n",
    "features on all other eCommerce sites.\n",
    "        \n",
    "\n",
    "        \n",
    " </font>"
   ]
  },
  {
   "cell_type": "markdown",
   "metadata": {},
   "source": [
    "## <span style=\"font-family: Copperplate Gothic Bold; font-weight:bold;font-size:1 em;color:Orange;\">Attribute Information\n",
    "<a id='AI'></a>\n",
    "    <font color=darkblue> \n",
    "                       \n",
    "* First three columns are userId, productId, and ratings respectively and the fourth column is timestamp.\n",
    "        \n",
    "</font>"
   ]
  },
  {
   "cell_type": "markdown",
   "metadata": {},
   "source": [
    "## <span style=\"font-family: Copperplate Gothic Bold; font-weight:bold;font-size:1 em;color:Orange;\"> Objective\n",
    "<a id='O'></a>\n",
    "    <font color=darkblue>  The aim of the dataset is to make a recommendation system that recommends at least five(5)\n",
    "new products based on the user's habits.\n",
    "        \n",
    "</font>"
   ]
  },
  {
   "cell_type": "markdown",
   "metadata": {},
   "source": [
    "## <span style=\"font-family: Copperplate Gothic Bold; font-weight:bold;font-size:1 em;color:Orange;\"> Steps, Tasks and Solutions\n",
    "<a id='sts'></a>\n",
    "    <font color=red>\n",
    "        \n",
    "1. [Import the necessary libraries](#I)\n",
    "        \n",
    "2. [Read Explore the dataset](#R)\n",
    "        \n",
    "3. [Perform basic EDA](#EDA)\n",
    "        \n",
    "    * a. [Renaming of columns](#3a)\n",
    "        \n",
    "    * b. [Description of the dataset (general operations and statistical description)](#3b) \n",
    "        \n",
    "    * c. [Histogram](#3c) \n",
    "        \n",
    "    * d. [Observations](#3d)\n",
    "              \n",
    "        \n",
    "4. [Making dataset less sparse/denser & Spliting data into Test and Train Set](#STT)\n",
    "   \n",
    "    \n",
    "5. [Operation -1: Popularity Recommender Model](#O1)\n",
    "              \n",
    "           \n",
    "6. [Operation -2: Collaborative Filtering Model and it's evaluation](#O2)\n",
    "        \n",
    "    * a. [Singular Value Decomposition (SVD)](#O2a) \n",
    "        \n",
    "    * b. [Item-Item Collaborative Model](#O2b) \n",
    "        \n",
    "    * c. [User-User Collaborative model](#O2c) \n",
    "        \n",
    "        \n",
    "7. [Operation -3: Collaborative Filtering Model using Surprise Library and it's evaluation](#O3)\n",
    "        \n",
    "    * a. [Singular Value Decomposition (SVD)](#O3a) \n",
    "        \n",
    "    * b. [Item-Item Collaborative Model](#O3b) \n",
    "        \n",
    "    * c. [User-User Collaborative model](#O3c) \n",
    "   \n",
    "        \n",
    "8. [Get top - K ( K = 5) recommendations to the user](#8K)\n",
    "                  \n",
    "        \n",
    "9. [Summary](#C)\n",
    "        \n",
    "        \n",
    "10. [Optional](#Op)\n",
    "        \n",
    "        \n",
    "</font>\n",
    "    <a id='the_destination'></a>"
   ]
  },
  {
   "cell_type": "markdown",
   "metadata": {},
   "source": [
    "## <span style=\"font-family: Times New Roman; font-weight:bold;font-size:1.3em;color:Purple;\"> 1. Import the necessary libraries\n",
    "<a id='I'></a>"
   ]
  },
  {
   "cell_type": "code",
   "execution_count": 2,
   "metadata": {},
   "outputs": [
    {
     "name": "stderr",
     "output_type": "stream",
     "text": [
      "C:\\Users\\VAIO\\anaconda3\\lib\\site-packages\\sklearn\\externals\\joblib\\__init__.py:15: FutureWarning: sklearn.externals.joblib is deprecated in 0.21 and will be removed in 0.23. Please import this functionality directly from joblib, which can be installed with: pip install joblib. If this warning is raised when loading pickled models, you may need to re-serialize those models with scikit-learn 0.21+.\n",
      "  warnings.warn(msg, category=FutureWarning)\n"
     ]
    }
   ],
   "source": [
    "from IPython.core.interactiveshell import InteractiveShell\n",
    "InteractiveShell.ast_node_interactivity = \"all\"\n",
    "\n",
    "# Import required libraries\n",
    "import numpy as np\n",
    "import pandas as pd\n",
    "import math\n",
    "import json\n",
    "import time\n",
    "import matplotlib.pyplot as plt\n",
    "import seaborn as sns\n",
    "from sklearn.metrics.pairwise import cosine_similarity\n",
    "from sklearn.model_selection import train_test_split\n",
    "from sklearn.neighbors import NearestNeighbors\n",
    "from sklearn.externals import joblib\n",
    "import scipy.sparse\n",
    "from scipy.sparse import csr_matrix\n",
    "import recmetrics\n",
    "import warnings; warnings.simplefilter('ignore')\n",
    "%matplotlib inline"
   ]
  },
  {
   "cell_type": "markdown",
   "metadata": {},
   "source": [
    "## <span style=\"font-family: Times New Roman; font-weight:bold;font-size:1.3em;color:Purple;\"> 2. Read Explore the dataset\n",
    "<a id='R'></a>"
   ]
  },
  {
   "cell_type": "code",
   "execution_count": 3,
   "metadata": {},
   "outputs": [],
   "source": [
    "df = pd.read_csv(\"ratings_Electronics.csv\")"
   ]
  },
  {
   "cell_type": "code",
   "execution_count": 4,
   "metadata": {},
   "outputs": [
    {
     "data": {
      "text/html": [
       "<div>\n",
       "<style scoped>\n",
       "    .dataframe tbody tr th:only-of-type {\n",
       "        vertical-align: middle;\n",
       "    }\n",
       "\n",
       "    .dataframe tbody tr th {\n",
       "        vertical-align: top;\n",
       "    }\n",
       "\n",
       "    .dataframe thead th {\n",
       "        text-align: right;\n",
       "    }\n",
       "</style>\n",
       "<table border=\"1\" class=\"dataframe\">\n",
       "  <thead>\n",
       "    <tr style=\"text-align: right;\">\n",
       "      <th></th>\n",
       "      <th>AKM1MP6P0OYPR</th>\n",
       "      <th>0132793040</th>\n",
       "      <th>5.0</th>\n",
       "      <th>1365811200</th>\n",
       "    </tr>\n",
       "  </thead>\n",
       "  <tbody>\n",
       "    <tr>\n",
       "      <th>0</th>\n",
       "      <td>A2CX7LUOHB2NDG</td>\n",
       "      <td>0321732944</td>\n",
       "      <td>5.0</td>\n",
       "      <td>1341100800</td>\n",
       "    </tr>\n",
       "    <tr>\n",
       "      <th>1</th>\n",
       "      <td>A2NWSAGRHCP8N5</td>\n",
       "      <td>0439886341</td>\n",
       "      <td>1.0</td>\n",
       "      <td>1367193600</td>\n",
       "    </tr>\n",
       "    <tr>\n",
       "      <th>2</th>\n",
       "      <td>A2WNBOD3WNDNKT</td>\n",
       "      <td>0439886341</td>\n",
       "      <td>3.0</td>\n",
       "      <td>1374451200</td>\n",
       "    </tr>\n",
       "    <tr>\n",
       "      <th>3</th>\n",
       "      <td>A1GI0U4ZRJA8WN</td>\n",
       "      <td>0439886341</td>\n",
       "      <td>1.0</td>\n",
       "      <td>1334707200</td>\n",
       "    </tr>\n",
       "    <tr>\n",
       "      <th>4</th>\n",
       "      <td>A1QGNMC6O1VW39</td>\n",
       "      <td>0511189877</td>\n",
       "      <td>5.0</td>\n",
       "      <td>1397433600</td>\n",
       "    </tr>\n",
       "  </tbody>\n",
       "</table>\n",
       "</div>"
      ],
      "text/plain": [
       "    AKM1MP6P0OYPR  0132793040  5.0  1365811200\n",
       "0  A2CX7LUOHB2NDG  0321732944  5.0  1341100800\n",
       "1  A2NWSAGRHCP8N5  0439886341  1.0  1367193600\n",
       "2  A2WNBOD3WNDNKT  0439886341  3.0  1374451200\n",
       "3  A1GI0U4ZRJA8WN  0439886341  1.0  1334707200\n",
       "4  A1QGNMC6O1VW39  0511189877  5.0  1397433600"
      ]
     },
     "execution_count": 4,
     "metadata": {},
     "output_type": "execute_result"
    }
   ],
   "source": [
    "df.head()"
   ]
  },
  {
   "cell_type": "markdown",
   "metadata": {},
   "source": [
    "## <span style=\"font-family: Times New Roman; font-weight:bold;font-size:1.3em;color:Purple;\"> 3. Perform basic EDA\n",
    "<a id='EDA'></a>"
   ]
  },
  {
   "cell_type": "markdown",
   "metadata": {},
   "source": [
    "## <span style=\"font-family: Cambria; font-weight:bold;font-size:1 em;color:green;\">   3.a. Renaming of columns\n",
    "<a id='3a'></a>"
   ]
  },
  {
   "cell_type": "code",
   "execution_count": 5,
   "metadata": {},
   "outputs": [],
   "source": [
    "df.columns = ['userId', 'productId', 'ratings', 'timestamp']"
   ]
  },
  {
   "cell_type": "code",
   "execution_count": 6,
   "metadata": {},
   "outputs": [
    {
     "data": {
      "text/html": [
       "<div>\n",
       "<style scoped>\n",
       "    .dataframe tbody tr th:only-of-type {\n",
       "        vertical-align: middle;\n",
       "    }\n",
       "\n",
       "    .dataframe tbody tr th {\n",
       "        vertical-align: top;\n",
       "    }\n",
       "\n",
       "    .dataframe thead th {\n",
       "        text-align: right;\n",
       "    }\n",
       "</style>\n",
       "<table border=\"1\" class=\"dataframe\">\n",
       "  <thead>\n",
       "    <tr style=\"text-align: right;\">\n",
       "      <th></th>\n",
       "      <th>userId</th>\n",
       "      <th>productId</th>\n",
       "      <th>ratings</th>\n",
       "      <th>timestamp</th>\n",
       "    </tr>\n",
       "  </thead>\n",
       "  <tbody>\n",
       "    <tr>\n",
       "      <th>0</th>\n",
       "      <td>A2CX7LUOHB2NDG</td>\n",
       "      <td>0321732944</td>\n",
       "      <td>5.0</td>\n",
       "      <td>1341100800</td>\n",
       "    </tr>\n",
       "    <tr>\n",
       "      <th>1</th>\n",
       "      <td>A2NWSAGRHCP8N5</td>\n",
       "      <td>0439886341</td>\n",
       "      <td>1.0</td>\n",
       "      <td>1367193600</td>\n",
       "    </tr>\n",
       "    <tr>\n",
       "      <th>2</th>\n",
       "      <td>A2WNBOD3WNDNKT</td>\n",
       "      <td>0439886341</td>\n",
       "      <td>3.0</td>\n",
       "      <td>1374451200</td>\n",
       "    </tr>\n",
       "    <tr>\n",
       "      <th>3</th>\n",
       "      <td>A1GI0U4ZRJA8WN</td>\n",
       "      <td>0439886341</td>\n",
       "      <td>1.0</td>\n",
       "      <td>1334707200</td>\n",
       "    </tr>\n",
       "    <tr>\n",
       "      <th>4</th>\n",
       "      <td>A1QGNMC6O1VW39</td>\n",
       "      <td>0511189877</td>\n",
       "      <td>5.0</td>\n",
       "      <td>1397433600</td>\n",
       "    </tr>\n",
       "  </tbody>\n",
       "</table>\n",
       "</div>"
      ],
      "text/plain": [
       "           userId   productId  ratings   timestamp\n",
       "0  A2CX7LUOHB2NDG  0321732944      5.0  1341100800\n",
       "1  A2NWSAGRHCP8N5  0439886341      1.0  1367193600\n",
       "2  A2WNBOD3WNDNKT  0439886341      3.0  1374451200\n",
       "3  A1GI0U4ZRJA8WN  0439886341      1.0  1334707200\n",
       "4  A1QGNMC6O1VW39  0511189877      5.0  1397433600"
      ]
     },
     "execution_count": 6,
     "metadata": {},
     "output_type": "execute_result"
    }
   ],
   "source": [
    "df.head()"
   ]
  },
  {
   "cell_type": "markdown",
   "metadata": {},
   "source": [
    "## <span style=\"font-family: Cambria; font-weight:bold;font-size:1 em;color:green;\">   3.b. Description of the dataset (general operations and statistical description)\n",
    "<a id='3b'></a>"
   ]
  },
  {
   "cell_type": "code",
   "execution_count": 7,
   "metadata": {},
   "outputs": [
    {
     "name": "stdout",
     "output_type": "stream",
     "text": [
      "<class 'pandas.core.frame.DataFrame'>\n",
      "RangeIndex: 7824481 entries, 0 to 7824480\n",
      "Data columns (total 4 columns):\n",
      " #   Column     Dtype  \n",
      "---  ------     -----  \n",
      " 0   userId     object \n",
      " 1   productId  object \n",
      " 2   ratings    float64\n",
      " 3   timestamp  int64  \n",
      "dtypes: float64(1), int64(1), object(2)\n",
      "memory usage: 238.8+ MB\n"
     ]
    }
   ],
   "source": [
    "df.info()"
   ]
  },
  {
   "cell_type": "code",
   "execution_count": 8,
   "metadata": {},
   "outputs": [],
   "source": [
    "def indetailtable(df):\n",
    "    print(f'Dataset Shape: {df.shape}')\n",
    "    print('Total Number of rows in dataset= {}'.format(df.shape[0]))\n",
    "    print('Total Number of columns in dataset= {}'.format(df.shape[1]))\n",
    "    print('Various datatypes present in the dataset are: {}\\n'.format(df.dtypes.value_counts()))\n",
    "    \n",
    "    summary = pd.DataFrame(df.dtypes, columns = ['dtypes'])\n",
    "    summary = summary.reset_index()\n",
    "    summary['Name'] = summary['index']\n",
    "    summary['Name'] = summary[['Name', 'dtypes']]\n",
    "    summary['Misssing_values'] = df.isnull().sum().values\n",
    "    summary['Unique_values'] = df.nunique().values\n",
    "    summary['Duplicate_values'] = df.duplicated().sum()\n",
    "    summary['1st value'] = df.loc[0].values\n",
    "    summary['2nd Value'] = df.loc[1].values\n",
    "    summary['7824479th Value'] = df.loc[7824479].values\n",
    "    summary['7824480th Value'] = df.loc[7824480].values\n",
    "    \n",
    "    return summary"
   ]
  },
  {
   "cell_type": "code",
   "execution_count": 9,
   "metadata": {},
   "outputs": [
    {
     "name": "stdout",
     "output_type": "stream",
     "text": [
      "Dataset Shape: (7824481, 4)\n",
      "Total Number of rows in dataset= 7824481\n",
      "Total Number of columns in dataset= 4\n",
      "Various datatypes present in the dataset are: object     2\n",
      "float64    1\n",
      "int64      1\n",
      "dtype: int64\n",
      "\n"
     ]
    },
    {
     "data": {
      "text/html": [
       "<div>\n",
       "<style scoped>\n",
       "    .dataframe tbody tr th:only-of-type {\n",
       "        vertical-align: middle;\n",
       "    }\n",
       "\n",
       "    .dataframe tbody tr th {\n",
       "        vertical-align: top;\n",
       "    }\n",
       "\n",
       "    .dataframe thead th {\n",
       "        text-align: right;\n",
       "    }\n",
       "</style>\n",
       "<table border=\"1\" class=\"dataframe\">\n",
       "  <thead>\n",
       "    <tr style=\"text-align: right;\">\n",
       "      <th></th>\n",
       "      <th>index</th>\n",
       "      <th>dtypes</th>\n",
       "      <th>Name</th>\n",
       "      <th>Misssing_values</th>\n",
       "      <th>Unique_values</th>\n",
       "      <th>Duplicate_values</th>\n",
       "      <th>1st value</th>\n",
       "      <th>2nd Value</th>\n",
       "      <th>7824479th Value</th>\n",
       "      <th>7824480th Value</th>\n",
       "    </tr>\n",
       "  </thead>\n",
       "  <tbody>\n",
       "    <tr>\n",
       "      <th>0</th>\n",
       "      <td>userId</td>\n",
       "      <td>object</td>\n",
       "      <td>userId</td>\n",
       "      <td>0</td>\n",
       "      <td>4201696</td>\n",
       "      <td>0</td>\n",
       "      <td>A2CX7LUOHB2NDG</td>\n",
       "      <td>A2NWSAGRHCP8N5</td>\n",
       "      <td>A10M2KEFPEQDHN</td>\n",
       "      <td>A2G81TMIOIDEQQ</td>\n",
       "    </tr>\n",
       "    <tr>\n",
       "      <th>1</th>\n",
       "      <td>productId</td>\n",
       "      <td>object</td>\n",
       "      <td>productId</td>\n",
       "      <td>0</td>\n",
       "      <td>476001</td>\n",
       "      <td>0</td>\n",
       "      <td>0321732944</td>\n",
       "      <td>0439886341</td>\n",
       "      <td>BT008UKTMW</td>\n",
       "      <td>BT008V9J9U</td>\n",
       "    </tr>\n",
       "    <tr>\n",
       "      <th>2</th>\n",
       "      <td>ratings</td>\n",
       "      <td>float64</td>\n",
       "      <td>ratings</td>\n",
       "      <td>0</td>\n",
       "      <td>5</td>\n",
       "      <td>0</td>\n",
       "      <td>5</td>\n",
       "      <td>1</td>\n",
       "      <td>4</td>\n",
       "      <td>5</td>\n",
       "    </tr>\n",
       "    <tr>\n",
       "      <th>3</th>\n",
       "      <td>timestamp</td>\n",
       "      <td>int64</td>\n",
       "      <td>timestamp</td>\n",
       "      <td>0</td>\n",
       "      <td>5489</td>\n",
       "      <td>0</td>\n",
       "      <td>1341100800</td>\n",
       "      <td>1367193600</td>\n",
       "      <td>1297555200</td>\n",
       "      <td>1312675200</td>\n",
       "    </tr>\n",
       "  </tbody>\n",
       "</table>\n",
       "</div>"
      ],
      "text/plain": [
       "       index   dtypes       Name  Misssing_values  Unique_values  \\\n",
       "0     userId   object     userId                0        4201696   \n",
       "1  productId   object  productId                0         476001   \n",
       "2    ratings  float64    ratings                0              5   \n",
       "3  timestamp    int64  timestamp                0           5489   \n",
       "\n",
       "   Duplicate_values       1st value       2nd Value 7824479th Value  \\\n",
       "0                 0  A2CX7LUOHB2NDG  A2NWSAGRHCP8N5  A10M2KEFPEQDHN   \n",
       "1                 0      0321732944      0439886341      BT008UKTMW   \n",
       "2                 0               5               1               4   \n",
       "3                 0      1341100800      1367193600      1297555200   \n",
       "\n",
       "  7824480th Value  \n",
       "0  A2G81TMIOIDEQQ  \n",
       "1      BT008V9J9U  \n",
       "2               5  \n",
       "3      1312675200  "
      ]
     },
     "execution_count": 9,
     "metadata": {},
     "output_type": "execute_result"
    }
   ],
   "source": [
    "brief = indetailtable(df)\n",
    "brief"
   ]
  },
  {
   "cell_type": "markdown",
   "metadata": {},
   "source": [
    "### *Comments:*\n",
    "\n",
    "\n",
    "<font color = blue>\n",
    "\n",
    "- There are total 78,24,481 number of records with 4 number of columns.\n",
    "- Out of 4 number of columns, 1st column indicates the userId , 2nd indicates productId, third indicates the ratings provided users for each products and the fourth one indicates the timespan.\n",
    "- Both userId and productId are object type of datatype and ratings is float64 and timestamp is int64 kind of datatype.\n",
    "- Out of all the 4 number of columns, timestamp has no use in recommendation engine, so it can be deleted while building the engine.\n",
    "- Ratings column has total five number of unique values starting from 1 to 5.\n",
    "- Where 1 indicates the lowest rating and 5 indicates highest rating.\n",
    "- In this dataset, neither we have any missing values nor do we have duplicate values.\n",
    "- However, many number of unique values can be observed except ratings column.\n",
    "- Further we will check for null values and '?' in the dataset."
   ]
  },
  {
   "cell_type": "code",
   "execution_count": 10,
   "metadata": {},
   "outputs": [
    {
     "data": {
      "text/plain": [
       "False"
      ]
     },
     "execution_count": 10,
     "metadata": {},
     "output_type": "execute_result"
    }
   ],
   "source": [
    "df.isnull().values.any()"
   ]
  },
  {
   "cell_type": "code",
   "execution_count": 11,
   "metadata": {},
   "outputs": [
    {
     "name": "stdout",
     "output_type": "stream",
     "text": [
      "userId : 0\n",
      "productId : 0\n",
      "ratings : 0\n",
      "timestamp : 0\n"
     ]
    }
   ],
   "source": [
    "for value in ['userId', 'productId', 'ratings', 'timestamp']:\n",
    "    print(value,':', sum(df[value] == '?'))"
   ]
  },
  {
   "cell_type": "markdown",
   "metadata": {},
   "source": [
    "#### *Comments:*\n",
    "\n",
    "\n",
    "<font color = blue>\n",
    "\n",
    "- We don't have any null values in the dataset\n",
    "- We don't have any symbols like '?' in the dataset.\n",
    "- The dataset seems to be legit for further EDA and building recommendation engine."
   ]
  },
  {
   "cell_type": "code",
   "execution_count": 12,
   "metadata": {},
   "outputs": [
    {
     "data": {
      "text/html": [
       "<div>\n",
       "<style scoped>\n",
       "    .dataframe tbody tr th:only-of-type {\n",
       "        vertical-align: middle;\n",
       "    }\n",
       "\n",
       "    .dataframe tbody tr th {\n",
       "        vertical-align: top;\n",
       "    }\n",
       "\n",
       "    .dataframe thead th {\n",
       "        text-align: right;\n",
       "    }\n",
       "</style>\n",
       "<table border=\"1\" class=\"dataframe\">\n",
       "  <thead>\n",
       "    <tr style=\"text-align: right;\">\n",
       "      <th></th>\n",
       "      <th>count</th>\n",
       "      <th>mean</th>\n",
       "      <th>std</th>\n",
       "      <th>min</th>\n",
       "      <th>25%</th>\n",
       "      <th>50%</th>\n",
       "      <th>75%</th>\n",
       "      <th>max</th>\n",
       "    </tr>\n",
       "  </thead>\n",
       "  <tbody>\n",
       "    <tr>\n",
       "      <th>ratings</th>\n",
       "      <td>7824481.0</td>\n",
       "      <td>4.012337e+00</td>\n",
       "      <td>1.380910e+00</td>\n",
       "      <td>1.0</td>\n",
       "      <td>3.000000e+00</td>\n",
       "      <td>5.000000e+00</td>\n",
       "      <td>5.000000e+00</td>\n",
       "      <td>5.000000e+00</td>\n",
       "    </tr>\n",
       "    <tr>\n",
       "      <th>timestamp</th>\n",
       "      <td>7824481.0</td>\n",
       "      <td>1.338178e+09</td>\n",
       "      <td>6.900426e+07</td>\n",
       "      <td>912729600.0</td>\n",
       "      <td>1.315354e+09</td>\n",
       "      <td>1.361059e+09</td>\n",
       "      <td>1.386115e+09</td>\n",
       "      <td>1.406074e+09</td>\n",
       "    </tr>\n",
       "  </tbody>\n",
       "</table>\n",
       "</div>"
      ],
      "text/plain": [
       "               count          mean           std          min           25%  \\\n",
       "ratings    7824481.0  4.012337e+00  1.380910e+00          1.0  3.000000e+00   \n",
       "timestamp  7824481.0  1.338178e+09  6.900426e+07  912729600.0  1.315354e+09   \n",
       "\n",
       "                    50%           75%           max  \n",
       "ratings    5.000000e+00  5.000000e+00  5.000000e+00  \n",
       "timestamp  1.361059e+09  1.386115e+09  1.406074e+09  "
      ]
     },
     "execution_count": 12,
     "metadata": {},
     "output_type": "execute_result"
    }
   ],
   "source": [
    "# Summary statistics of 'rating' variable\n",
    "df.describe().transpose()"
   ]
  },
  {
   "cell_type": "markdown",
   "metadata": {},
   "source": [
    "### *Comments:*\n",
    "\n",
    "\n",
    "<font color = blue>\n",
    "\n",
    "- Same the minimum value of rating is 1 and maximum value is 5.\n",
    "- timestamp column is of no use here, so we can drop the column."
   ]
  },
  {
   "cell_type": "markdown",
   "metadata": {},
   "source": [
    "## <span style=\"font-family: Cambria; font-weight:bold;font-size:1 em;color:green;\">   3.c. Histogram\n",
    "<a id='3c'></a>"
   ]
  },
  {
   "cell_type": "code",
   "execution_count": 13,
   "metadata": {},
   "outputs": [
    {
     "data": {
      "image/png": "[encoded data removed]",
      "text/plain": [
       "<Figure size 432x288 with 1 Axes>"
      ]
     },
     "metadata": {
      "needs_background": "light"
     },
     "output_type": "display_data"
    }
   ],
   "source": [
    "sns.countplot(df.ratings , color = 'orange', edgecolor = 'green',  alpha = 1.0);\n",
    "plt.xlabel('ratings provided by users');"
   ]
  },
  {
   "cell_type": "markdown",
   "metadata": {},
   "source": [
    "## <span style=\"font-family: Cambria; font-weight:bold;font-size:1 em;color:green;\">   3.d. Observations\n",
    "<a id='3d'></a>"
   ]
  },
  {
   "cell_type": "markdown",
   "metadata": {},
   "source": [
    "#### *Comments:*\n",
    "\n",
    "\n",
    "<font color = blue>\n",
    "    \n",
    "- Ratings column ranges between 1 to 5.\n",
    "- Customers who rated 1 for product indicates the highest dissatisfaction and 5 indicates the highly satisfied customers towards electronics items.\n",
    "- Out of all the ratings, highest number of customers rated 5 for the electronics products they purchased through Amazon. It is almost more than half of the entire number of customers or users.\n",
    "- Comparatively, very less number of customers have given 2 stars or ratings to products they have purchased.\n",
    "- So, the more than half of the users rated 5 for products they purchased followed by 4 stars, 1 star, 3 stars and 2 stars.\n",
    "- Since, the dataset has huge number of records, handling issues will take place, so we've to make it less sparse or dense.\n"
   ]
  },
  {
   "cell_type": "markdown",
   "metadata": {},
   "source": [
    "## <span style=\"font-family: Times New Roman; font-weight:bold;font-size:1.3em;color:Purple;\"> 4. Making dataset less sparse/denser & Spliting data into Test and Train Set\n",
    "<a id='STT'></a>"
   ]
  },
  {
   "cell_type": "code",
   "execution_count": 14,
   "metadata": {},
   "outputs": [],
   "source": [
    "dff = df.drop(columns = ['timestamp'])"
   ]
  },
  {
   "cell_type": "code",
   "execution_count": 15,
   "metadata": {},
   "outputs": [
    {
     "data": {
      "text/html": [
       "<div>\n",
       "<style scoped>\n",
       "    .dataframe tbody tr th:only-of-type {\n",
       "        vertical-align: middle;\n",
       "    }\n",
       "\n",
       "    .dataframe tbody tr th {\n",
       "        vertical-align: top;\n",
       "    }\n",
       "\n",
       "    .dataframe thead th {\n",
       "        text-align: right;\n",
       "    }\n",
       "</style>\n",
       "<table border=\"1\" class=\"dataframe\">\n",
       "  <thead>\n",
       "    <tr style=\"text-align: right;\">\n",
       "      <th></th>\n",
       "      <th>userId</th>\n",
       "      <th>productId</th>\n",
       "      <th>ratings</th>\n",
       "    </tr>\n",
       "  </thead>\n",
       "  <tbody>\n",
       "    <tr>\n",
       "      <th>0</th>\n",
       "      <td>A2CX7LUOHB2NDG</td>\n",
       "      <td>0321732944</td>\n",
       "      <td>5.0</td>\n",
       "    </tr>\n",
       "    <tr>\n",
       "      <th>1</th>\n",
       "      <td>A2NWSAGRHCP8N5</td>\n",
       "      <td>0439886341</td>\n",
       "      <td>1.0</td>\n",
       "    </tr>\n",
       "    <tr>\n",
       "      <th>2</th>\n",
       "      <td>A2WNBOD3WNDNKT</td>\n",
       "      <td>0439886341</td>\n",
       "      <td>3.0</td>\n",
       "    </tr>\n",
       "    <tr>\n",
       "      <th>3</th>\n",
       "      <td>A1GI0U4ZRJA8WN</td>\n",
       "      <td>0439886341</td>\n",
       "      <td>1.0</td>\n",
       "    </tr>\n",
       "    <tr>\n",
       "      <th>4</th>\n",
       "      <td>A1QGNMC6O1VW39</td>\n",
       "      <td>0511189877</td>\n",
       "      <td>5.0</td>\n",
       "    </tr>\n",
       "  </tbody>\n",
       "</table>\n",
       "</div>"
      ],
      "text/plain": [
       "           userId   productId  ratings\n",
       "0  A2CX7LUOHB2NDG  0321732944      5.0\n",
       "1  A2NWSAGRHCP8N5  0439886341      1.0\n",
       "2  A2WNBOD3WNDNKT  0439886341      3.0\n",
       "3  A1GI0U4ZRJA8WN  0439886341      1.0\n",
       "4  A1QGNMC6O1VW39  0511189877      5.0"
      ]
     },
     "execution_count": 15,
     "metadata": {},
     "output_type": "execute_result"
    }
   ],
   "source": [
    "dff.head()"
   ]
  },
  {
   "cell_type": "code",
   "execution_count": 16,
   "metadata": {},
   "outputs": [
    {
     "data": {
      "text/plain": [
       "array([5., 1., 3., 2., 4.])"
      ]
     },
     "execution_count": 16,
     "metadata": {},
     "output_type": "execute_result"
    }
   ],
   "source": [
    "dff.ratings.unique()"
   ]
  },
  {
   "cell_type": "markdown",
   "metadata": {},
   "source": [
    "<font color = blue>\n",
    "    \n",
    "- Let’s check the users who have given highest number of ratings."
   ]
  },
  {
   "cell_type": "code",
   "execution_count": 17,
   "metadata": {},
   "outputs": [
    {
     "data": {
      "text/plain": [
       "A5JLAU2ARJ0BO     520\n",
       "ADLVFFE4VBT8      501\n",
       "A3OXHLG6DIBRW8    498\n",
       "A6FIAB28IS79      431\n",
       "A680RUE1FDO8B     406\n",
       "                 ... \n",
       "AH6YUR9A96IES       1\n",
       "A2SDKPQEBTWOZW      1\n",
       "A1LPMD49GJYYPL      1\n",
       "AML673H7ITRDM       1\n",
       "A3HV7GYV4F1Z19      1\n",
       "Name: userId, Length: 4201696, dtype: int64"
      ]
     },
     "execution_count": 17,
     "metadata": {},
     "output_type": "execute_result"
    }
   ],
   "source": [
    "count = dff['userId'].value_counts()\n",
    "count"
   ]
  },
  {
   "cell_type": "markdown",
   "metadata": {},
   "source": [
    "<font color = blue>\n",
    "\n",
    "- Take subset of dataset to make it less sparse/dense. (For example, keep the users only who has given 50 or more number of ratings)"
   ]
  },
  {
   "cell_type": "code",
   "execution_count": 18,
   "metadata": {},
   "outputs": [],
   "source": [
    "ratings_50 = dff[dff['userId'].isin(count[count>=50].index)]"
   ]
  },
  {
   "cell_type": "code",
   "execution_count": 19,
   "metadata": {},
   "outputs": [
    {
     "data": {
      "text/html": [
       "<div>\n",
       "<style scoped>\n",
       "    .dataframe tbody tr th:only-of-type {\n",
       "        vertical-align: middle;\n",
       "    }\n",
       "\n",
       "    .dataframe tbody tr th {\n",
       "        vertical-align: top;\n",
       "    }\n",
       "\n",
       "    .dataframe thead th {\n",
       "        text-align: right;\n",
       "    }\n",
       "</style>\n",
       "<table border=\"1\" class=\"dataframe\">\n",
       "  <thead>\n",
       "    <tr style=\"text-align: right;\">\n",
       "      <th></th>\n",
       "      <th>userId</th>\n",
       "      <th>productId</th>\n",
       "      <th>ratings</th>\n",
       "    </tr>\n",
       "  </thead>\n",
       "  <tbody>\n",
       "    <tr>\n",
       "      <th>93</th>\n",
       "      <td>A3BY5KCNQZXV5U</td>\n",
       "      <td>0594451647</td>\n",
       "      <td>5.0</td>\n",
       "    </tr>\n",
       "    <tr>\n",
       "      <th>117</th>\n",
       "      <td>AT09WGFUM934H</td>\n",
       "      <td>0594481813</td>\n",
       "      <td>3.0</td>\n",
       "    </tr>\n",
       "    <tr>\n",
       "      <th>176</th>\n",
       "      <td>A32HSNCNPRUMTR</td>\n",
       "      <td>0970407998</td>\n",
       "      <td>1.0</td>\n",
       "    </tr>\n",
       "    <tr>\n",
       "      <th>177</th>\n",
       "      <td>A17HMM1M7T9PJ1</td>\n",
       "      <td>0970407998</td>\n",
       "      <td>4.0</td>\n",
       "    </tr>\n",
       "    <tr>\n",
       "      <th>491</th>\n",
       "      <td>A3CLWR1UUZT6TG</td>\n",
       "      <td>0972683275</td>\n",
       "      <td>5.0</td>\n",
       "    </tr>\n",
       "  </tbody>\n",
       "</table>\n",
       "</div>"
      ],
      "text/plain": [
       "             userId   productId  ratings\n",
       "93   A3BY5KCNQZXV5U  0594451647      5.0\n",
       "117   AT09WGFUM934H  0594481813      3.0\n",
       "176  A32HSNCNPRUMTR  0970407998      1.0\n",
       "177  A17HMM1M7T9PJ1  0970407998      4.0\n",
       "491  A3CLWR1UUZT6TG  0972683275      5.0"
      ]
     },
     "execution_count": 19,
     "metadata": {},
     "output_type": "execute_result"
    }
   ],
   "source": [
    "ratings_50.head()"
   ]
  },
  {
   "cell_type": "code",
   "execution_count": 20,
   "metadata": {},
   "outputs": [
    {
     "data": {
      "text/plain": [
       "(7824481, 3)"
      ]
     },
     "execution_count": 20,
     "metadata": {},
     "output_type": "execute_result"
    }
   ],
   "source": [
    "dff.shape"
   ]
  },
  {
   "cell_type": "code",
   "execution_count": 21,
   "metadata": {},
   "outputs": [
    {
     "data": {
      "text/plain": [
       "(125871, 3)"
      ]
     },
     "execution_count": 21,
     "metadata": {},
     "output_type": "execute_result"
    }
   ],
   "source": [
    "ratings_50.shape"
   ]
  },
  {
   "cell_type": "markdown",
   "metadata": {},
   "source": [
    "\n",
    "<font color = blue>\n",
    "\n",
    "\n",
    "- After considering the users who have rated more than 50 items, we ended up having 1,25,871 records, which makes our dataset less sparse and more dense and accurate with genuine users."
   ]
  },
  {
   "cell_type": "code",
   "execution_count": 22,
   "metadata": {},
   "outputs": [
    {
     "name": "stdout",
     "output_type": "stream",
     "text": [
      "Number of USERS in raw data set = 4201696\n",
      "Number of USERS in modified data set = 1540\n",
      "Number of PRODUCTS in raw data set = 476001\n",
      "Number of PRODUCTS in modified data set = 48190\n"
     ]
    }
   ],
   "source": [
    "# Number of unique userid and productid in the new data after considering the users who has given 50 or more number of ratings\n",
    "\n",
    "print('Number of USERS in raw data set =', df['userId'].nunique())\n",
    "\n",
    "print('Number of USERS in modified data set =', ratings_50['userId'].nunique())\n",
    "\n",
    "print('Number of PRODUCTS in raw data set =', df['productId'].nunique())\n",
    "\n",
    "print('Number of PRODUCTS in modified data set =', ratings_50['productId'].nunique())\n"
   ]
  },
  {
   "cell_type": "code",
   "execution_count": 23,
   "metadata": {},
   "outputs": [
    {
     "name": "stdout",
     "output_type": "stream",
     "text": [
      "<class 'pandas.core.frame.DataFrame'>\n",
      "Int64Index: 125871 entries, 93 to 7824443\n",
      "Data columns (total 3 columns):\n",
      " #   Column     Non-Null Count   Dtype  \n",
      "---  ------     --------------   -----  \n",
      " 0   userId     125871 non-null  object \n",
      " 1   productId  125871 non-null  object \n",
      " 2   ratings    125871 non-null  float64\n",
      "dtypes: float64(1), object(2)\n",
      "memory usage: 3.8+ MB\n"
     ]
    }
   ],
   "source": [
    "ratings_50.info()"
   ]
  },
  {
   "cell_type": "code",
   "execution_count": 24,
   "metadata": {},
   "outputs": [],
   "source": [
    "def indetailtable(ratings_50):\n",
    "    print(f'Dataset Shape: {ratings_50.shape}')\n",
    "    print('Total Number of rows in dataset= {}'.format(ratings_50.shape[0]))\n",
    "    print('Total Number of columns in dataset= {}'.format(ratings_50.shape[1]))\n",
    "    print('Various datatypes present in the dataset are: {}\\n'.format(ratings_50.dtypes.value_counts()))\n",
    "    \n",
    "    summary = pd.DataFrame(ratings_50.dtypes, columns = ['dtypes'])\n",
    "    summary = summary.reset_index()\n",
    "    summary['Name'] = summary['index']\n",
    "    summary['Name'] = summary[['Name', 'dtypes']]\n",
    "    summary['Misssing_values'] = ratings_50.isnull().sum().values\n",
    "    summary['Unique_values'] = ratings_50.nunique().values\n",
    "    summary['Duplicate_values'] = ratings_50.duplicated().sum()\n",
    "\n",
    "   \n",
    "    return summary"
   ]
  },
  {
   "cell_type": "code",
   "execution_count": 25,
   "metadata": {},
   "outputs": [
    {
     "name": "stdout",
     "output_type": "stream",
     "text": [
      "Dataset Shape: (125871, 3)\n",
      "Total Number of rows in dataset= 125871\n",
      "Total Number of columns in dataset= 3\n",
      "Various datatypes present in the dataset are: object     2\n",
      "float64    1\n",
      "dtype: int64\n",
      "\n"
     ]
    },
    {
     "data": {
      "text/html": [
       "<div>\n",
       "<style scoped>\n",
       "    .dataframe tbody tr th:only-of-type {\n",
       "        vertical-align: middle;\n",
       "    }\n",
       "\n",
       "    .dataframe tbody tr th {\n",
       "        vertical-align: top;\n",
       "    }\n",
       "\n",
       "    .dataframe thead th {\n",
       "        text-align: right;\n",
       "    }\n",
       "</style>\n",
       "<table border=\"1\" class=\"dataframe\">\n",
       "  <thead>\n",
       "    <tr style=\"text-align: right;\">\n",
       "      <th></th>\n",
       "      <th>index</th>\n",
       "      <th>dtypes</th>\n",
       "      <th>Name</th>\n",
       "      <th>Misssing_values</th>\n",
       "      <th>Unique_values</th>\n",
       "      <th>Duplicate_values</th>\n",
       "    </tr>\n",
       "  </thead>\n",
       "  <tbody>\n",
       "    <tr>\n",
       "      <th>0</th>\n",
       "      <td>userId</td>\n",
       "      <td>object</td>\n",
       "      <td>userId</td>\n",
       "      <td>0</td>\n",
       "      <td>1540</td>\n",
       "      <td>0</td>\n",
       "    </tr>\n",
       "    <tr>\n",
       "      <th>1</th>\n",
       "      <td>productId</td>\n",
       "      <td>object</td>\n",
       "      <td>productId</td>\n",
       "      <td>0</td>\n",
       "      <td>48190</td>\n",
       "      <td>0</td>\n",
       "    </tr>\n",
       "    <tr>\n",
       "      <th>2</th>\n",
       "      <td>ratings</td>\n",
       "      <td>float64</td>\n",
       "      <td>ratings</td>\n",
       "      <td>0</td>\n",
       "      <td>5</td>\n",
       "      <td>0</td>\n",
       "    </tr>\n",
       "  </tbody>\n",
       "</table>\n",
       "</div>"
      ],
      "text/plain": [
       "       index   dtypes       Name  Misssing_values  Unique_values  \\\n",
       "0     userId   object     userId                0           1540   \n",
       "1  productId   object  productId                0          48190   \n",
       "2    ratings  float64    ratings                0              5   \n",
       "\n",
       "   Duplicate_values  \n",
       "0                 0  \n",
       "1                 0  \n",
       "2                 0  "
      ]
     },
     "execution_count": 25,
     "metadata": {},
     "output_type": "execute_result"
    }
   ],
   "source": [
    "brief_50 = indetailtable(ratings_50)\n",
    "brief_50"
   ]
  },
  {
   "cell_type": "markdown",
   "metadata": {},
   "source": [
    "#### Let's start the the recommender project by looking at the Long Tail Plot."
   ]
  },
  {
   "cell_type": "code",
   "execution_count": 26,
   "metadata": {},
   "outputs": [
    {
     "data": {
      "image/png": "[encoded data removed]",
      "text/plain": [
       "<Figure size 1080x504 with 1 Axes>"
      ]
     },
     "metadata": {
      "needs_background": "light"
     },
     "output_type": "display_data"
    }
   ],
   "source": [
    "import matplotlib.pyplot as plt\n",
    "fig = plt.figure(figsize=(15, 7))\n",
    "recmetrics.long_tail_plot(df = ratings_50, \n",
    "             item_id_column=\"productId\", \n",
    "             interaction_type=\"item ratings\", \n",
    "             percentage=0.5,\n",
    "             x_labels=False)"
   ]
  },
  {
   "cell_type": "markdown",
   "metadata": {},
   "source": [
    "#### *Comments:*\n",
    "<font color = blue>\n",
    "    \n",
    "- This plot helps us to explore the popularity patterns in user-product or item interaction. Here this interaction happens with respect to ratings.\n",
    "    \n",
    "- Typically, only a small percentage of items have a high volume of interactions, and this is referred to as the 'head'. And most items are in the 'long tail' region, however, they make up a small percentage of interactions.\n",
    "    \n",
    "- Here, we have taken the users who have rated at least 50 products to make the dataset less sparse and dense. \n",
    "    \n",
    "- So, we have total 48,190 number of products in this sub data set. Out of which, 5,218 number of items are present in Head region, it means these products/items have a high volume of interactions. And 42,972 number of products are present in tail region with less amount of interaction.\n"
   ]
  },
  {
   "cell_type": "markdown",
   "metadata": {},
   "source": [
    "## <span style=\"font-family: Times New Roman; font-weight:bold;font-size:1.3em;color:Purple;\"> 5. Operation -1: Popularity Recommender Model\n",
    "<a id='O1'></a>"
   ]
  },
  {
   "cell_type": "markdown",
   "metadata": {},
   "source": [
    "#### *Comments:*\n",
    "<font color = blue>\n",
    "    \n",
    "    \n",
    "- Popularity based recommendation system works by recommending items viewed / purchased by most people and rated high.\n",
    "- To recommend, it will rank list of items by their purchase count / viewed count.\n",
    "- Here, we'll be taking mean of ratings at all the items and based upon that, we'll recommend the product.\n",
    "- However, it's not a personalized recommendation engine.\n",
    "- Two demerits of this model are, it doesn't take number of customers/ users into considerations and also it doesn't take time or release date of items.\n"
   ]
  },
  {
   "cell_type": "markdown",
   "metadata": {},
   "source": [
    "#### - Let's check top 10 users who have rated for maximum number of items."
   ]
  },
  {
   "cell_type": "code",
   "execution_count": 27,
   "metadata": {},
   "outputs": [
    {
     "data": {
      "text/plain": [
       "userId\n",
       "A5JLAU2ARJ0BO     520\n",
       "ADLVFFE4VBT8      501\n",
       "A3OXHLG6DIBRW8    498\n",
       "A6FIAB28IS79      431\n",
       "A680RUE1FDO8B     406\n",
       "A1ODOGXEYECQQ8    380\n",
       "A36K2N527TXXJN    314\n",
       "A2AY4YUOX2N1BQ    311\n",
       "AWPODHOB4GFWL     308\n",
       "A25C2M3QF9G7OQ    296\n",
       "dtype: int64"
      ]
     },
     "execution_count": 27,
     "metadata": {},
     "output_type": "execute_result"
    }
   ],
   "source": [
    "# Top 10 users based on rating\n",
    "most_rated = dff.groupby('userId').size().sort_values(ascending = False)[:10]\n",
    "most_rated"
   ]
  },
  {
   "cell_type": "code",
   "execution_count": 28,
   "metadata": {},
   "outputs": [
    {
     "data": {
      "text/plain": [
       "125871"
      ]
     },
     "execution_count": 28,
     "metadata": {},
     "output_type": "execute_result"
    }
   ],
   "source": [
    "ratings_50.shape[0]"
   ]
  },
  {
   "cell_type": "code",
   "execution_count": 29,
   "metadata": {},
   "outputs": [
    {
     "data": {
      "text/plain": [
       "3"
      ]
     },
     "execution_count": 29,
     "metadata": {},
     "output_type": "execute_result"
    }
   ],
   "source": [
    "ratings_50.shape[1]"
   ]
  },
  {
   "cell_type": "markdown",
   "metadata": {},
   "source": [
    "### Calculate the density of the rating matrix"
   ]
  },
  {
   "cell_type": "code",
   "execution_count": 30,
   "metadata": {},
   "outputs": [
    {
     "name": "stdout",
     "output_type": "stream",
     "text": [
      "Shape of final_ratings_matrix: (1540, 48190)\n",
      "Total given num of ratings =  74212600\n",
      "Possible number of ratings =  74212600\n",
      "density: 100.00%\n"
     ]
    }
   ],
   "source": [
    "final_ratings_matrix = ratings_50.pivot(index = 'userId', columns = 'productId', values = 'ratings' )\n",
    "\n",
    "final_ratings_matrix = final_ratings_matrix.fillna(final_ratings_matrix.mean(axis =0))\n",
    "print('Shape of final_ratings_matrix:', final_ratings_matrix.shape)\n",
    "\n",
    "given_number_of_ratings = np.count_nonzero(final_ratings_matrix)\n",
    "print('Total given num of ratings = ', given_number_of_ratings)\n",
    "\n",
    "possible_num_of_ratings = final_ratings_matrix.shape[0] * final_ratings_matrix.shape[1]\n",
    "print('Possible number of ratings = ', possible_num_of_ratings)\n",
    "\n",
    "density = (given_number_of_ratings/possible_num_of_ratings)\n",
    "density *= 100\n",
    "print('density: {:4.2f}%'.format(density))"
   ]
  },
  {
   "cell_type": "code",
   "execution_count": 31,
   "metadata": {},
   "outputs": [
    {
     "data": {
      "text/html": [
       "<div>\n",
       "<style scoped>\n",
       "    .dataframe tbody tr th:only-of-type {\n",
       "        vertical-align: middle;\n",
       "    }\n",
       "\n",
       "    .dataframe tbody tr th {\n",
       "        vertical-align: top;\n",
       "    }\n",
       "\n",
       "    .dataframe thead th {\n",
       "        text-align: right;\n",
       "    }\n",
       "</style>\n",
       "<table border=\"1\" class=\"dataframe\">\n",
       "  <thead>\n",
       "    <tr style=\"text-align: right;\">\n",
       "      <th>productId</th>\n",
       "      <th>0594451647</th>\n",
       "      <th>0594481813</th>\n",
       "      <th>0970407998</th>\n",
       "      <th>0972683275</th>\n",
       "      <th>1400501466</th>\n",
       "      <th>1400501520</th>\n",
       "      <th>1400501776</th>\n",
       "      <th>1400532620</th>\n",
       "      <th>1400532655</th>\n",
       "      <th>140053271X</th>\n",
       "      <th>...</th>\n",
       "      <th>B00L5YZCCG</th>\n",
       "      <th>B00L8I6SFY</th>\n",
       "      <th>B00L8QCVL6</th>\n",
       "      <th>B00LA6T0LS</th>\n",
       "      <th>B00LBZ1Z7K</th>\n",
       "      <th>B00LED02VY</th>\n",
       "      <th>B00LGN7Y3G</th>\n",
       "      <th>B00LGQ6HL8</th>\n",
       "      <th>B00LI4ZZO8</th>\n",
       "      <th>B00LKG1MC8</th>\n",
       "    </tr>\n",
       "    <tr>\n",
       "      <th>userId</th>\n",
       "      <th></th>\n",
       "      <th></th>\n",
       "      <th></th>\n",
       "      <th></th>\n",
       "      <th></th>\n",
       "      <th></th>\n",
       "      <th></th>\n",
       "      <th></th>\n",
       "      <th></th>\n",
       "      <th></th>\n",
       "      <th></th>\n",
       "      <th></th>\n",
       "      <th></th>\n",
       "      <th></th>\n",
       "      <th></th>\n",
       "      <th></th>\n",
       "      <th></th>\n",
       "      <th></th>\n",
       "      <th></th>\n",
       "      <th></th>\n",
       "      <th></th>\n",
       "    </tr>\n",
       "  </thead>\n",
       "  <tbody>\n",
       "    <tr>\n",
       "      <th>A100UD67AHFODS</th>\n",
       "      <td>5.0</td>\n",
       "      <td>3.0</td>\n",
       "      <td>2.5</td>\n",
       "      <td>4.75</td>\n",
       "      <td>3.333333</td>\n",
       "      <td>5.0</td>\n",
       "      <td>4.5</td>\n",
       "      <td>3.0</td>\n",
       "      <td>3.833333</td>\n",
       "      <td>2.5</td>\n",
       "      <td>...</td>\n",
       "      <td>4.0</td>\n",
       "      <td>5.0</td>\n",
       "      <td>5.0</td>\n",
       "      <td>4.0</td>\n",
       "      <td>3.0</td>\n",
       "      <td>4.0</td>\n",
       "      <td>5.0</td>\n",
       "      <td>5.0</td>\n",
       "      <td>4.5</td>\n",
       "      <td>5.0</td>\n",
       "    </tr>\n",
       "    <tr>\n",
       "      <th>A100WO06OQR8BQ</th>\n",
       "      <td>5.0</td>\n",
       "      <td>3.0</td>\n",
       "      <td>2.5</td>\n",
       "      <td>4.75</td>\n",
       "      <td>3.333333</td>\n",
       "      <td>5.0</td>\n",
       "      <td>4.5</td>\n",
       "      <td>3.0</td>\n",
       "      <td>3.833333</td>\n",
       "      <td>2.5</td>\n",
       "      <td>...</td>\n",
       "      <td>4.0</td>\n",
       "      <td>5.0</td>\n",
       "      <td>5.0</td>\n",
       "      <td>4.0</td>\n",
       "      <td>3.0</td>\n",
       "      <td>4.0</td>\n",
       "      <td>5.0</td>\n",
       "      <td>5.0</td>\n",
       "      <td>4.5</td>\n",
       "      <td>5.0</td>\n",
       "    </tr>\n",
       "    <tr>\n",
       "      <th>A105S56ODHGJEK</th>\n",
       "      <td>5.0</td>\n",
       "      <td>3.0</td>\n",
       "      <td>2.5</td>\n",
       "      <td>4.75</td>\n",
       "      <td>3.333333</td>\n",
       "      <td>5.0</td>\n",
       "      <td>4.5</td>\n",
       "      <td>3.0</td>\n",
       "      <td>3.833333</td>\n",
       "      <td>2.5</td>\n",
       "      <td>...</td>\n",
       "      <td>4.0</td>\n",
       "      <td>5.0</td>\n",
       "      <td>5.0</td>\n",
       "      <td>4.0</td>\n",
       "      <td>3.0</td>\n",
       "      <td>4.0</td>\n",
       "      <td>5.0</td>\n",
       "      <td>5.0</td>\n",
       "      <td>4.5</td>\n",
       "      <td>5.0</td>\n",
       "    </tr>\n",
       "    <tr>\n",
       "      <th>A105TOJ6LTVMBG</th>\n",
       "      <td>5.0</td>\n",
       "      <td>3.0</td>\n",
       "      <td>2.5</td>\n",
       "      <td>4.75</td>\n",
       "      <td>3.333333</td>\n",
       "      <td>5.0</td>\n",
       "      <td>4.5</td>\n",
       "      <td>3.0</td>\n",
       "      <td>3.833333</td>\n",
       "      <td>2.5</td>\n",
       "      <td>...</td>\n",
       "      <td>4.0</td>\n",
       "      <td>5.0</td>\n",
       "      <td>5.0</td>\n",
       "      <td>4.0</td>\n",
       "      <td>3.0</td>\n",
       "      <td>4.0</td>\n",
       "      <td>5.0</td>\n",
       "      <td>5.0</td>\n",
       "      <td>4.5</td>\n",
       "      <td>5.0</td>\n",
       "    </tr>\n",
       "    <tr>\n",
       "      <th>A10AFVU66A79Y1</th>\n",
       "      <td>5.0</td>\n",
       "      <td>3.0</td>\n",
       "      <td>2.5</td>\n",
       "      <td>4.75</td>\n",
       "      <td>3.333333</td>\n",
       "      <td>5.0</td>\n",
       "      <td>4.5</td>\n",
       "      <td>3.0</td>\n",
       "      <td>3.833333</td>\n",
       "      <td>2.5</td>\n",
       "      <td>...</td>\n",
       "      <td>4.0</td>\n",
       "      <td>5.0</td>\n",
       "      <td>5.0</td>\n",
       "      <td>4.0</td>\n",
       "      <td>3.0</td>\n",
       "      <td>4.0</td>\n",
       "      <td>5.0</td>\n",
       "      <td>5.0</td>\n",
       "      <td>4.5</td>\n",
       "      <td>5.0</td>\n",
       "    </tr>\n",
       "  </tbody>\n",
       "</table>\n",
       "<p>5 rows × 48190 columns</p>\n",
       "</div>"
      ],
      "text/plain": [
       "productId       0594451647  0594481813  0970407998  0972683275  1400501466  \\\n",
       "userId                                                                       \n",
       "A100UD67AHFODS         5.0         3.0         2.5        4.75    3.333333   \n",
       "A100WO06OQR8BQ         5.0         3.0         2.5        4.75    3.333333   \n",
       "A105S56ODHGJEK         5.0         3.0         2.5        4.75    3.333333   \n",
       "A105TOJ6LTVMBG         5.0         3.0         2.5        4.75    3.333333   \n",
       "A10AFVU66A79Y1         5.0         3.0         2.5        4.75    3.333333   \n",
       "\n",
       "productId       1400501520  1400501776  1400532620  1400532655  140053271X  \\\n",
       "userId                                                                       \n",
       "A100UD67AHFODS         5.0         4.5         3.0    3.833333         2.5   \n",
       "A100WO06OQR8BQ         5.0         4.5         3.0    3.833333         2.5   \n",
       "A105S56ODHGJEK         5.0         4.5         3.0    3.833333         2.5   \n",
       "A105TOJ6LTVMBG         5.0         4.5         3.0    3.833333         2.5   \n",
       "A10AFVU66A79Y1         5.0         4.5         3.0    3.833333         2.5   \n",
       "\n",
       "productId       ...  B00L5YZCCG  B00L8I6SFY  B00L8QCVL6  B00LA6T0LS  \\\n",
       "userId          ...                                                   \n",
       "A100UD67AHFODS  ...         4.0         5.0         5.0         4.0   \n",
       "A100WO06OQR8BQ  ...         4.0         5.0         5.0         4.0   \n",
       "A105S56ODHGJEK  ...         4.0         5.0         5.0         4.0   \n",
       "A105TOJ6LTVMBG  ...         4.0         5.0         5.0         4.0   \n",
       "A10AFVU66A79Y1  ...         4.0         5.0         5.0         4.0   \n",
       "\n",
       "productId       B00LBZ1Z7K  B00LED02VY  B00LGN7Y3G  B00LGQ6HL8  B00LI4ZZO8  \\\n",
       "userId                                                                       \n",
       "A100UD67AHFODS         3.0         4.0         5.0         5.0         4.5   \n",
       "A100WO06OQR8BQ         3.0         4.0         5.0         5.0         4.5   \n",
       "A105S56ODHGJEK         3.0         4.0         5.0         5.0         4.5   \n",
       "A105TOJ6LTVMBG         3.0         4.0         5.0         5.0         4.5   \n",
       "A10AFVU66A79Y1         3.0         4.0         5.0         5.0         4.5   \n",
       "\n",
       "productId       B00LKG1MC8  \n",
       "userId                      \n",
       "A100UD67AHFODS         5.0  \n",
       "A100WO06OQR8BQ         5.0  \n",
       "A105S56ODHGJEK         5.0  \n",
       "A105TOJ6LTVMBG         5.0  \n",
       "A10AFVU66A79Y1         5.0  \n",
       "\n",
       "[5 rows x 48190 columns]"
      ]
     },
     "execution_count": 31,
     "metadata": {},
     "output_type": "execute_result"
    }
   ],
   "source": [
    "final_ratings_matrix.head()"
   ]
  },
  {
   "cell_type": "code",
   "execution_count": 32,
   "metadata": {},
   "outputs": [
    {
     "data": {
      "text/html": [
       "<div>\n",
       "<style scoped>\n",
       "    .dataframe tbody tr th:only-of-type {\n",
       "        vertical-align: middle;\n",
       "    }\n",
       "\n",
       "    .dataframe tbody tr th {\n",
       "        vertical-align: top;\n",
       "    }\n",
       "\n",
       "    .dataframe thead th {\n",
       "        text-align: right;\n",
       "    }\n",
       "</style>\n",
       "<table border=\"1\" class=\"dataframe\">\n",
       "  <thead>\n",
       "    <tr style=\"text-align: right;\">\n",
       "      <th>userId</th>\n",
       "      <th>A100UD67AHFODS</th>\n",
       "      <th>A100WO06OQR8BQ</th>\n",
       "      <th>A105S56ODHGJEK</th>\n",
       "      <th>A105TOJ6LTVMBG</th>\n",
       "      <th>A10AFVU66A79Y1</th>\n",
       "      <th>A10H24TDLK2VDP</th>\n",
       "      <th>A10NMELR4KX0J6</th>\n",
       "      <th>A10O7THJ2O20AG</th>\n",
       "      <th>A10PEXB6XAQ5XF</th>\n",
       "      <th>A10X9ME6R66JDX</th>\n",
       "      <th>...</th>\n",
       "      <th>AYOTEJ617O60K</th>\n",
       "      <th>AYP0YPLSP9ISM</th>\n",
       "      <th>AZ515FFZ7I2P7</th>\n",
       "      <th>AZ8XSDMIX04VJ</th>\n",
       "      <th>AZAC8O310IK4E</th>\n",
       "      <th>AZBXKUH4AIW3X</th>\n",
       "      <th>AZCE11PSTCH1L</th>\n",
       "      <th>AZMY6E8B52L2T</th>\n",
       "      <th>AZNUHQSHZHSUE</th>\n",
       "      <th>AZOK5STV85FBJ</th>\n",
       "    </tr>\n",
       "    <tr>\n",
       "      <th>productId</th>\n",
       "      <th></th>\n",
       "      <th></th>\n",
       "      <th></th>\n",
       "      <th></th>\n",
       "      <th></th>\n",
       "      <th></th>\n",
       "      <th></th>\n",
       "      <th></th>\n",
       "      <th></th>\n",
       "      <th></th>\n",
       "      <th></th>\n",
       "      <th></th>\n",
       "      <th></th>\n",
       "      <th></th>\n",
       "      <th></th>\n",
       "      <th></th>\n",
       "      <th></th>\n",
       "      <th></th>\n",
       "      <th></th>\n",
       "      <th></th>\n",
       "      <th></th>\n",
       "    </tr>\n",
       "  </thead>\n",
       "  <tbody>\n",
       "    <tr>\n",
       "      <th>0594451647</th>\n",
       "      <td>5.000000</td>\n",
       "      <td>5.000000</td>\n",
       "      <td>5.000000</td>\n",
       "      <td>5.000000</td>\n",
       "      <td>5.000000</td>\n",
       "      <td>5.000000</td>\n",
       "      <td>5.000000</td>\n",
       "      <td>5.000000</td>\n",
       "      <td>5.000000</td>\n",
       "      <td>5.000000</td>\n",
       "      <td>...</td>\n",
       "      <td>5.000000</td>\n",
       "      <td>5.000000</td>\n",
       "      <td>5.000000</td>\n",
       "      <td>5.000000</td>\n",
       "      <td>5.000000</td>\n",
       "      <td>5.000000</td>\n",
       "      <td>5.000000</td>\n",
       "      <td>5.000000</td>\n",
       "      <td>5.000000</td>\n",
       "      <td>5.000000</td>\n",
       "    </tr>\n",
       "    <tr>\n",
       "      <th>0594481813</th>\n",
       "      <td>3.000000</td>\n",
       "      <td>3.000000</td>\n",
       "      <td>3.000000</td>\n",
       "      <td>3.000000</td>\n",
       "      <td>3.000000</td>\n",
       "      <td>3.000000</td>\n",
       "      <td>3.000000</td>\n",
       "      <td>3.000000</td>\n",
       "      <td>3.000000</td>\n",
       "      <td>3.000000</td>\n",
       "      <td>...</td>\n",
       "      <td>3.000000</td>\n",
       "      <td>3.000000</td>\n",
       "      <td>3.000000</td>\n",
       "      <td>3.000000</td>\n",
       "      <td>3.000000</td>\n",
       "      <td>3.000000</td>\n",
       "      <td>3.000000</td>\n",
       "      <td>3.000000</td>\n",
       "      <td>3.000000</td>\n",
       "      <td>3.000000</td>\n",
       "    </tr>\n",
       "    <tr>\n",
       "      <th>0970407998</th>\n",
       "      <td>2.500000</td>\n",
       "      <td>2.500000</td>\n",
       "      <td>2.500000</td>\n",
       "      <td>2.500000</td>\n",
       "      <td>2.500000</td>\n",
       "      <td>2.500000</td>\n",
       "      <td>2.500000</td>\n",
       "      <td>2.500000</td>\n",
       "      <td>2.500000</td>\n",
       "      <td>2.500000</td>\n",
       "      <td>...</td>\n",
       "      <td>2.500000</td>\n",
       "      <td>2.500000</td>\n",
       "      <td>2.500000</td>\n",
       "      <td>2.500000</td>\n",
       "      <td>2.500000</td>\n",
       "      <td>2.500000</td>\n",
       "      <td>2.500000</td>\n",
       "      <td>2.500000</td>\n",
       "      <td>2.500000</td>\n",
       "      <td>2.500000</td>\n",
       "    </tr>\n",
       "    <tr>\n",
       "      <th>0972683275</th>\n",
       "      <td>4.750000</td>\n",
       "      <td>4.750000</td>\n",
       "      <td>4.750000</td>\n",
       "      <td>4.750000</td>\n",
       "      <td>4.750000</td>\n",
       "      <td>4.750000</td>\n",
       "      <td>4.750000</td>\n",
       "      <td>4.750000</td>\n",
       "      <td>4.750000</td>\n",
       "      <td>4.750000</td>\n",
       "      <td>...</td>\n",
       "      <td>4.750000</td>\n",
       "      <td>4.750000</td>\n",
       "      <td>4.750000</td>\n",
       "      <td>4.750000</td>\n",
       "      <td>4.750000</td>\n",
       "      <td>4.750000</td>\n",
       "      <td>4.750000</td>\n",
       "      <td>4.750000</td>\n",
       "      <td>4.750000</td>\n",
       "      <td>4.750000</td>\n",
       "    </tr>\n",
       "    <tr>\n",
       "      <th>1400501466</th>\n",
       "      <td>3.333333</td>\n",
       "      <td>3.333333</td>\n",
       "      <td>3.333333</td>\n",
       "      <td>3.333333</td>\n",
       "      <td>3.333333</td>\n",
       "      <td>3.333333</td>\n",
       "      <td>3.333333</td>\n",
       "      <td>3.333333</td>\n",
       "      <td>3.333333</td>\n",
       "      <td>3.333333</td>\n",
       "      <td>...</td>\n",
       "      <td>3.333333</td>\n",
       "      <td>3.333333</td>\n",
       "      <td>3.333333</td>\n",
       "      <td>3.333333</td>\n",
       "      <td>3.333333</td>\n",
       "      <td>3.333333</td>\n",
       "      <td>3.333333</td>\n",
       "      <td>3.333333</td>\n",
       "      <td>3.333333</td>\n",
       "      <td>3.333333</td>\n",
       "    </tr>\n",
       "  </tbody>\n",
       "</table>\n",
       "<p>5 rows × 1540 columns</p>\n",
       "</div>"
      ],
      "text/plain": [
       "userId      A100UD67AHFODS  A100WO06OQR8BQ  A105S56ODHGJEK  A105TOJ6LTVMBG  \\\n",
       "productId                                                                    \n",
       "0594451647        5.000000        5.000000        5.000000        5.000000   \n",
       "0594481813        3.000000        3.000000        3.000000        3.000000   \n",
       "0970407998        2.500000        2.500000        2.500000        2.500000   \n",
       "0972683275        4.750000        4.750000        4.750000        4.750000   \n",
       "1400501466        3.333333        3.333333        3.333333        3.333333   \n",
       "\n",
       "userId      A10AFVU66A79Y1  A10H24TDLK2VDP  A10NMELR4KX0J6  A10O7THJ2O20AG  \\\n",
       "productId                                                                    \n",
       "0594451647        5.000000        5.000000        5.000000        5.000000   \n",
       "0594481813        3.000000        3.000000        3.000000        3.000000   \n",
       "0970407998        2.500000        2.500000        2.500000        2.500000   \n",
       "0972683275        4.750000        4.750000        4.750000        4.750000   \n",
       "1400501466        3.333333        3.333333        3.333333        3.333333   \n",
       "\n",
       "userId      A10PEXB6XAQ5XF  A10X9ME6R66JDX  ...  AYOTEJ617O60K  AYP0YPLSP9ISM  \\\n",
       "productId                                   ...                                 \n",
       "0594451647        5.000000        5.000000  ...       5.000000       5.000000   \n",
       "0594481813        3.000000        3.000000  ...       3.000000       3.000000   \n",
       "0970407998        2.500000        2.500000  ...       2.500000       2.500000   \n",
       "0972683275        4.750000        4.750000  ...       4.750000       4.750000   \n",
       "1400501466        3.333333        3.333333  ...       3.333333       3.333333   \n",
       "\n",
       "userId      AZ515FFZ7I2P7  AZ8XSDMIX04VJ  AZAC8O310IK4E  AZBXKUH4AIW3X  \\\n",
       "productId                                                                \n",
       "0594451647       5.000000       5.000000       5.000000       5.000000   \n",
       "0594481813       3.000000       3.000000       3.000000       3.000000   \n",
       "0970407998       2.500000       2.500000       2.500000       2.500000   \n",
       "0972683275       4.750000       4.750000       4.750000       4.750000   \n",
       "1400501466       3.333333       3.333333       3.333333       3.333333   \n",
       "\n",
       "userId      AZCE11PSTCH1L  AZMY6E8B52L2T  AZNUHQSHZHSUE  AZOK5STV85FBJ  \n",
       "productId                                                               \n",
       "0594451647       5.000000       5.000000       5.000000       5.000000  \n",
       "0594481813       3.000000       3.000000       3.000000       3.000000  \n",
       "0970407998       2.500000       2.500000       2.500000       2.500000  \n",
       "0972683275       4.750000       4.750000       4.750000       4.750000  \n",
       "1400501466       3.333333       3.333333       3.333333       3.333333  \n",
       "\n",
       "[5 rows x 1540 columns]"
      ]
     },
     "execution_count": 32,
     "metadata": {},
     "output_type": "execute_result"
    }
   ],
   "source": [
    "final_ratings_matrix_T = final_ratings_matrix.transpose()\n",
    "final_ratings_matrix_T.head()"
   ]
  },
  {
   "cell_type": "code",
   "execution_count": 33,
   "metadata": {},
   "outputs": [
    {
     "data": {
      "text/html": [
       "<div>\n",
       "<style scoped>\n",
       "    .dataframe tbody tr th:only-of-type {\n",
       "        vertical-align: middle;\n",
       "    }\n",
       "\n",
       "    .dataframe tbody tr th {\n",
       "        vertical-align: top;\n",
       "    }\n",
       "\n",
       "    .dataframe thead th {\n",
       "        text-align: right;\n",
       "    }\n",
       "</style>\n",
       "<table border=\"1\" class=\"dataframe\">\n",
       "  <thead>\n",
       "    <tr style=\"text-align: right;\">\n",
       "      <th></th>\n",
       "      <th>userId</th>\n",
       "      <th>productId</th>\n",
       "      <th>ratings</th>\n",
       "    </tr>\n",
       "  </thead>\n",
       "  <tbody>\n",
       "    <tr>\n",
       "      <th>7760153</th>\n",
       "      <td>A2JKM8KF3296CW</td>\n",
       "      <td>B00HPM1G8Q</td>\n",
       "      <td>5.0</td>\n",
       "    </tr>\n",
       "    <tr>\n",
       "      <th>4898725</th>\n",
       "      <td>A2MSBIA18RXYQC</td>\n",
       "      <td>B005F5II1I</td>\n",
       "      <td>2.0</td>\n",
       "    </tr>\n",
       "    <tr>\n",
       "      <th>2725557</th>\n",
       "      <td>AGYH5U11ZKPFB</td>\n",
       "      <td>B002MZUNXU</td>\n",
       "      <td>5.0</td>\n",
       "    </tr>\n",
       "    <tr>\n",
       "      <th>3600595</th>\n",
       "      <td>A6FIAB28IS79</td>\n",
       "      <td>B003VAHYXW</td>\n",
       "      <td>4.0</td>\n",
       "    </tr>\n",
       "    <tr>\n",
       "      <th>3084187</th>\n",
       "      <td>A3IJ4Z18FTIIP</td>\n",
       "      <td>B00365EVXI</td>\n",
       "      <td>1.0</td>\n",
       "    </tr>\n",
       "  </tbody>\n",
       "</table>\n",
       "</div>"
      ],
      "text/plain": [
       "                 userId   productId  ratings\n",
       "7760153  A2JKM8KF3296CW  B00HPM1G8Q      5.0\n",
       "4898725  A2MSBIA18RXYQC  B005F5II1I      2.0\n",
       "2725557   AGYH5U11ZKPFB  B002MZUNXU      5.0\n",
       "3600595    A6FIAB28IS79  B003VAHYXW      4.0\n",
       "3084187   A3IJ4Z18FTIIP  B00365EVXI      1.0"
      ]
     },
     "execution_count": 33,
     "metadata": {},
     "output_type": "execute_result"
    }
   ],
   "source": [
    "#Split the data randomnly into test and train datasets\n",
    "#Split the training and test data in the ratio 70:30\n",
    "train_data, test_data = train_test_split(ratings_50, test_size = 0.3, random_state=10)\n",
    "train_data.head()"
   ]
  },
  {
   "cell_type": "code",
   "execution_count": 34,
   "metadata": {},
   "outputs": [
    {
     "data": {
      "text/plain": [
       "(88109, 3)"
      ]
     },
     "execution_count": 34,
     "metadata": {},
     "output_type": "execute_result"
    },
    {
     "data": {
      "text/plain": [
       "(37762, 3)"
      ]
     },
     "execution_count": 34,
     "metadata": {},
     "output_type": "execute_result"
    }
   ],
   "source": [
    "train_data.shape\n",
    "test_data.shape"
   ]
  },
  {
   "cell_type": "markdown",
   "metadata": {},
   "source": [
    "# Model Building Popularity Recommender model. (Non-Personalized)"
   ]
  },
  {
   "cell_type": "code",
   "execution_count": 35,
   "metadata": {},
   "outputs": [
    {
     "data": {
      "text/html": [
       "<div>\n",
       "<style scoped>\n",
       "    .dataframe tbody tr th:only-of-type {\n",
       "        vertical-align: middle;\n",
       "    }\n",
       "\n",
       "    .dataframe tbody tr th {\n",
       "        vertical-align: top;\n",
       "    }\n",
       "\n",
       "    .dataframe thead th {\n",
       "        text-align: right;\n",
       "    }\n",
       "</style>\n",
       "<table border=\"1\" class=\"dataframe\">\n",
       "  <thead>\n",
       "    <tr style=\"text-align: right;\">\n",
       "      <th></th>\n",
       "      <th>productId</th>\n",
       "      <th>score</th>\n",
       "    </tr>\n",
       "  </thead>\n",
       "  <tbody>\n",
       "    <tr>\n",
       "      <th>0</th>\n",
       "      <td>0594451647</td>\n",
       "      <td>1</td>\n",
       "    </tr>\n",
       "    <tr>\n",
       "      <th>1</th>\n",
       "      <td>0970407998</td>\n",
       "      <td>2</td>\n",
       "    </tr>\n",
       "    <tr>\n",
       "      <th>2</th>\n",
       "      <td>0972683275</td>\n",
       "      <td>3</td>\n",
       "    </tr>\n",
       "    <tr>\n",
       "      <th>3</th>\n",
       "      <td>1400501466</td>\n",
       "      <td>4</td>\n",
       "    </tr>\n",
       "    <tr>\n",
       "      <th>4</th>\n",
       "      <td>1400501520</td>\n",
       "      <td>1</td>\n",
       "    </tr>\n",
       "  </tbody>\n",
       "</table>\n",
       "</div>"
      ],
      "text/plain": [
       "    productId  score\n",
       "0  0594451647      1\n",
       "1  0970407998      2\n",
       "2  0972683275      3\n",
       "3  1400501466      4\n",
       "4  1400501520      1"
      ]
     },
     "execution_count": 35,
     "metadata": {},
     "output_type": "execute_result"
    }
   ],
   "source": [
    "# Count of userId for each unique product as recommendation score\n",
    "train_data_grouped = train_data.groupby('productId').agg({'userId': 'count'}).reset_index()\n",
    "train_data_grouped.rename(columns = {'userId':'score'}, inplace = True)\n",
    "train_data_grouped.head()"
   ]
  },
  {
   "cell_type": "code",
   "execution_count": 36,
   "metadata": {},
   "outputs": [
    {
     "data": {
      "text/html": [
       "<div>\n",
       "<style scoped>\n",
       "    .dataframe tbody tr th:only-of-type {\n",
       "        vertical-align: middle;\n",
       "    }\n",
       "\n",
       "    .dataframe tbody tr th {\n",
       "        vertical-align: top;\n",
       "    }\n",
       "\n",
       "    .dataframe thead th {\n",
       "        text-align: right;\n",
       "    }\n",
       "</style>\n",
       "<table border=\"1\" class=\"dataframe\">\n",
       "  <thead>\n",
       "    <tr style=\"text-align: right;\">\n",
       "      <th></th>\n",
       "      <th>productId</th>\n",
       "      <th>score</th>\n",
       "      <th>Rank</th>\n",
       "    </tr>\n",
       "  </thead>\n",
       "  <tbody>\n",
       "    <tr>\n",
       "      <th>30874</th>\n",
       "      <td>B0088CJT4U</td>\n",
       "      <td>142</td>\n",
       "      <td>1.0</td>\n",
       "    </tr>\n",
       "    <tr>\n",
       "      <th>19570</th>\n",
       "      <td>B003ES5ZUU</td>\n",
       "      <td>134</td>\n",
       "      <td>2.0</td>\n",
       "    </tr>\n",
       "    <tr>\n",
       "      <th>30273</th>\n",
       "      <td>B007WTAJTO</td>\n",
       "      <td>126</td>\n",
       "      <td>3.0</td>\n",
       "    </tr>\n",
       "    <tr>\n",
       "      <th>8700</th>\n",
       "      <td>B000N99BBC</td>\n",
       "      <td>117</td>\n",
       "      <td>4.0</td>\n",
       "    </tr>\n",
       "    <tr>\n",
       "      <th>30561</th>\n",
       "      <td>B00829TIEK</td>\n",
       "      <td>104</td>\n",
       "      <td>5.0</td>\n",
       "    </tr>\n",
       "  </tbody>\n",
       "</table>\n",
       "</div>"
      ],
      "text/plain": [
       "        productId  score  Rank\n",
       "30874  B0088CJT4U    142   1.0\n",
       "19570  B003ES5ZUU    134   2.0\n",
       "30273  B007WTAJTO    126   3.0\n",
       "8700   B000N99BBC    117   4.0\n",
       "30561  B00829TIEK    104   5.0"
      ]
     },
     "execution_count": 36,
     "metadata": {},
     "output_type": "execute_result"
    }
   ],
   "source": [
    "# Sort the products on recommendation score\n",
    "train_data_sort = train_data_grouped.sort_values(['score', 'productId'], ascending = [0,1])\n",
    "\n",
    "# Generate a recommendation rank based upon score\n",
    "train_data_sort['Rank'] = train_data_sort['score'].rank(ascending = 0, method = 'first')\n",
    "\n",
    "# Get the top 5 recommedations\n",
    "popularity_recommendations = train_data_sort.head(5)\n",
    "popularity_recommendations"
   ]
  },
  {
   "cell_type": "code",
   "execution_count": 37,
   "metadata": {},
   "outputs": [],
   "source": [
    "# Use popularity based recommender model to make predictions\n",
    "def recommend(userId):\n",
    "    user_recommendations = popularity_recommendations\n",
    "    \n",
    "    #add userid column for which the recommendations are being generated\n",
    "    user_recommendations['userId'] = userId\n",
    "    \n",
    "    # Bring userId column to the front\n",
    "    cols = user_recommendations.columns.tolist()\n",
    "    cols = cols[-1:] + cols[:-1]\n",
    "    user_recommendations = user_recommendations[cols]\n",
    "    \n",
    "    return user_recommendations\n"
   ]
  },
  {
   "cell_type": "code",
   "execution_count": 38,
   "metadata": {},
   "outputs": [
    {
     "name": "stdout",
     "output_type": "stream",
     "text": [
      "Here is the recommendations for the userId: 30\n",
      "\n",
      "       userId   productId  score  Rank\n",
      "30874      30  B0088CJT4U    142   1.0\n",
      "19570      30  B003ES5ZUU    134   2.0\n",
      "30273      30  B007WTAJTO    126   3.0\n",
      "8700       30  B000N99BBC    117   4.0\n",
      "30561      30  B00829TIEK    104   5.0\n",
      "\n",
      "\n",
      "Here is the recommendations for the userId: 160\n",
      "\n",
      "       userId   productId  score  Rank\n",
      "30874     160  B0088CJT4U    142   1.0\n",
      "19570     160  B003ES5ZUU    134   2.0\n",
      "30273     160  B007WTAJTO    126   3.0\n",
      "8700      160  B000N99BBC    117   4.0\n",
      "30561     160  B00829TIEK    104   5.0\n",
      "\n",
      "\n",
      "Here is the recommendations for the userId: 40\n",
      "\n",
      "       userId   productId  score  Rank\n",
      "30874      40  B0088CJT4U    142   1.0\n",
      "19570      40  B003ES5ZUU    134   2.0\n",
      "30273      40  B007WTAJTO    126   3.0\n",
      "8700       40  B000N99BBC    117   4.0\n",
      "30561      40  B00829TIEK    104   5.0\n",
      "\n",
      "\n"
     ]
    }
   ],
   "source": [
    "find_recom = [30,160,40]         # This list is user choice.\n",
    "for i in find_recom:\n",
    "    print('Here is the recommendations for the userId: %d\\n'%(i))\n",
    "    print(recommend(i))\n",
    "    print('\\n')"
   ]
  },
  {
   "cell_type": "markdown",
   "metadata": {},
   "source": [
    "<font color = blue>\n",
    "    \n",
    "- Here, score means the total count of users rated the product."
   ]
  },
  {
   "cell_type": "markdown",
   "metadata": {},
   "source": [
    "<font color = blue>\n",
    "\n",
    "- Since this is a popularity-based recommender model, recommendations remain the same for all users\n",
    "\n",
    "- We predict the products based on the popularity. It is not personalized to particular user"
   ]
  },
  {
   "cell_type": "markdown",
   "metadata": {},
   "source": [
    "## <span style=\"font-family: Times New Roman; font-weight:bold;font-size:1.3em;color:Purple;\"> 6. Operation -2: Collaborative Filtering Model and it's evaluation\n",
    "<a id='O2'></a>"
   ]
  },
  {
   "cell_type": "markdown",
   "metadata": {},
   "source": [
    "## <span style=\"font-family: Cambria; font-weight:bold;font-size:1 em;color:green;\">   6.a. Singular Value Decomposition (SVD)\n",
    "<a id='O2a'></a>"
   ]
  },
  {
   "cell_type": "markdown",
   "metadata": {},
   "source": [
    "#### Model-Based Collaborative filtering: Singular Value Decomposition"
   ]
  },
  {
   "cell_type": "code",
   "execution_count": 39,
   "metadata": {},
   "outputs": [
    {
     "data": {
      "text/plain": [
       "(1540, 48190)"
      ]
     },
     "execution_count": 39,
     "metadata": {},
     "output_type": "execute_result"
    },
    {
     "data": {
      "text/html": [
       "<div>\n",
       "<style scoped>\n",
       "    .dataframe tbody tr th:only-of-type {\n",
       "        vertical-align: middle;\n",
       "    }\n",
       "\n",
       "    .dataframe tbody tr th {\n",
       "        vertical-align: top;\n",
       "    }\n",
       "\n",
       "    .dataframe thead th {\n",
       "        text-align: right;\n",
       "    }\n",
       "</style>\n",
       "<table border=\"1\" class=\"dataframe\">\n",
       "  <thead>\n",
       "    <tr style=\"text-align: right;\">\n",
       "      <th>productId</th>\n",
       "      <th>0594451647</th>\n",
       "      <th>0594481813</th>\n",
       "      <th>0970407998</th>\n",
       "      <th>0972683275</th>\n",
       "      <th>1400501466</th>\n",
       "      <th>1400501520</th>\n",
       "      <th>1400501776</th>\n",
       "      <th>1400532620</th>\n",
       "      <th>1400532655</th>\n",
       "      <th>140053271X</th>\n",
       "      <th>...</th>\n",
       "      <th>B00L5YZCCG</th>\n",
       "      <th>B00L8I6SFY</th>\n",
       "      <th>B00L8QCVL6</th>\n",
       "      <th>B00LA6T0LS</th>\n",
       "      <th>B00LBZ1Z7K</th>\n",
       "      <th>B00LED02VY</th>\n",
       "      <th>B00LGN7Y3G</th>\n",
       "      <th>B00LGQ6HL8</th>\n",
       "      <th>B00LI4ZZO8</th>\n",
       "      <th>B00LKG1MC8</th>\n",
       "    </tr>\n",
       "    <tr>\n",
       "      <th>userId</th>\n",
       "      <th></th>\n",
       "      <th></th>\n",
       "      <th></th>\n",
       "      <th></th>\n",
       "      <th></th>\n",
       "      <th></th>\n",
       "      <th></th>\n",
       "      <th></th>\n",
       "      <th></th>\n",
       "      <th></th>\n",
       "      <th></th>\n",
       "      <th></th>\n",
       "      <th></th>\n",
       "      <th></th>\n",
       "      <th></th>\n",
       "      <th></th>\n",
       "      <th></th>\n",
       "      <th></th>\n",
       "      <th></th>\n",
       "      <th></th>\n",
       "      <th></th>\n",
       "    </tr>\n",
       "  </thead>\n",
       "  <tbody>\n",
       "    <tr>\n",
       "      <th>A100UD67AHFODS</th>\n",
       "      <td>5.0</td>\n",
       "      <td>3.0</td>\n",
       "      <td>2.5</td>\n",
       "      <td>4.75</td>\n",
       "      <td>3.333333</td>\n",
       "      <td>5.0</td>\n",
       "      <td>4.5</td>\n",
       "      <td>3.0</td>\n",
       "      <td>3.833333</td>\n",
       "      <td>2.5</td>\n",
       "      <td>...</td>\n",
       "      <td>4.0</td>\n",
       "      <td>5.0</td>\n",
       "      <td>5.0</td>\n",
       "      <td>4.0</td>\n",
       "      <td>3.0</td>\n",
       "      <td>4.0</td>\n",
       "      <td>5.0</td>\n",
       "      <td>5.0</td>\n",
       "      <td>4.5</td>\n",
       "      <td>5.0</td>\n",
       "    </tr>\n",
       "    <tr>\n",
       "      <th>A100WO06OQR8BQ</th>\n",
       "      <td>5.0</td>\n",
       "      <td>3.0</td>\n",
       "      <td>2.5</td>\n",
       "      <td>4.75</td>\n",
       "      <td>3.333333</td>\n",
       "      <td>5.0</td>\n",
       "      <td>4.5</td>\n",
       "      <td>3.0</td>\n",
       "      <td>3.833333</td>\n",
       "      <td>2.5</td>\n",
       "      <td>...</td>\n",
       "      <td>4.0</td>\n",
       "      <td>5.0</td>\n",
       "      <td>5.0</td>\n",
       "      <td>4.0</td>\n",
       "      <td>3.0</td>\n",
       "      <td>4.0</td>\n",
       "      <td>5.0</td>\n",
       "      <td>5.0</td>\n",
       "      <td>4.5</td>\n",
       "      <td>5.0</td>\n",
       "    </tr>\n",
       "    <tr>\n",
       "      <th>A105S56ODHGJEK</th>\n",
       "      <td>5.0</td>\n",
       "      <td>3.0</td>\n",
       "      <td>2.5</td>\n",
       "      <td>4.75</td>\n",
       "      <td>3.333333</td>\n",
       "      <td>5.0</td>\n",
       "      <td>4.5</td>\n",
       "      <td>3.0</td>\n",
       "      <td>3.833333</td>\n",
       "      <td>2.5</td>\n",
       "      <td>...</td>\n",
       "      <td>4.0</td>\n",
       "      <td>5.0</td>\n",
       "      <td>5.0</td>\n",
       "      <td>4.0</td>\n",
       "      <td>3.0</td>\n",
       "      <td>4.0</td>\n",
       "      <td>5.0</td>\n",
       "      <td>5.0</td>\n",
       "      <td>4.5</td>\n",
       "      <td>5.0</td>\n",
       "    </tr>\n",
       "    <tr>\n",
       "      <th>A105TOJ6LTVMBG</th>\n",
       "      <td>5.0</td>\n",
       "      <td>3.0</td>\n",
       "      <td>2.5</td>\n",
       "      <td>4.75</td>\n",
       "      <td>3.333333</td>\n",
       "      <td>5.0</td>\n",
       "      <td>4.5</td>\n",
       "      <td>3.0</td>\n",
       "      <td>3.833333</td>\n",
       "      <td>2.5</td>\n",
       "      <td>...</td>\n",
       "      <td>4.0</td>\n",
       "      <td>5.0</td>\n",
       "      <td>5.0</td>\n",
       "      <td>4.0</td>\n",
       "      <td>3.0</td>\n",
       "      <td>4.0</td>\n",
       "      <td>5.0</td>\n",
       "      <td>5.0</td>\n",
       "      <td>4.5</td>\n",
       "      <td>5.0</td>\n",
       "    </tr>\n",
       "    <tr>\n",
       "      <th>A10AFVU66A79Y1</th>\n",
       "      <td>5.0</td>\n",
       "      <td>3.0</td>\n",
       "      <td>2.5</td>\n",
       "      <td>4.75</td>\n",
       "      <td>3.333333</td>\n",
       "      <td>5.0</td>\n",
       "      <td>4.5</td>\n",
       "      <td>3.0</td>\n",
       "      <td>3.833333</td>\n",
       "      <td>2.5</td>\n",
       "      <td>...</td>\n",
       "      <td>4.0</td>\n",
       "      <td>5.0</td>\n",
       "      <td>5.0</td>\n",
       "      <td>4.0</td>\n",
       "      <td>3.0</td>\n",
       "      <td>4.0</td>\n",
       "      <td>5.0</td>\n",
       "      <td>5.0</td>\n",
       "      <td>4.5</td>\n",
       "      <td>5.0</td>\n",
       "    </tr>\n",
       "  </tbody>\n",
       "</table>\n",
       "<p>5 rows × 48190 columns</p>\n",
       "</div>"
      ],
      "text/plain": [
       "productId       0594451647  0594481813  0970407998  0972683275  1400501466  \\\n",
       "userId                                                                       \n",
       "A100UD67AHFODS         5.0         3.0         2.5        4.75    3.333333   \n",
       "A100WO06OQR8BQ         5.0         3.0         2.5        4.75    3.333333   \n",
       "A105S56ODHGJEK         5.0         3.0         2.5        4.75    3.333333   \n",
       "A105TOJ6LTVMBG         5.0         3.0         2.5        4.75    3.333333   \n",
       "A10AFVU66A79Y1         5.0         3.0         2.5        4.75    3.333333   \n",
       "\n",
       "productId       1400501520  1400501776  1400532620  1400532655  140053271X  \\\n",
       "userId                                                                       \n",
       "A100UD67AHFODS         5.0         4.5         3.0    3.833333         2.5   \n",
       "A100WO06OQR8BQ         5.0         4.5         3.0    3.833333         2.5   \n",
       "A105S56ODHGJEK         5.0         4.5         3.0    3.833333         2.5   \n",
       "A105TOJ6LTVMBG         5.0         4.5         3.0    3.833333         2.5   \n",
       "A10AFVU66A79Y1         5.0         4.5         3.0    3.833333         2.5   \n",
       "\n",
       "productId       ...  B00L5YZCCG  B00L8I6SFY  B00L8QCVL6  B00LA6T0LS  \\\n",
       "userId          ...                                                   \n",
       "A100UD67AHFODS  ...         4.0         5.0         5.0         4.0   \n",
       "A100WO06OQR8BQ  ...         4.0         5.0         5.0         4.0   \n",
       "A105S56ODHGJEK  ...         4.0         5.0         5.0         4.0   \n",
       "A105TOJ6LTVMBG  ...         4.0         5.0         5.0         4.0   \n",
       "A10AFVU66A79Y1  ...         4.0         5.0         5.0         4.0   \n",
       "\n",
       "productId       B00LBZ1Z7K  B00LED02VY  B00LGN7Y3G  B00LGQ6HL8  B00LI4ZZO8  \\\n",
       "userId                                                                       \n",
       "A100UD67AHFODS         3.0         4.0         5.0         5.0         4.5   \n",
       "A100WO06OQR8BQ         3.0         4.0         5.0         5.0         4.5   \n",
       "A105S56ODHGJEK         3.0         4.0         5.0         5.0         4.5   \n",
       "A105TOJ6LTVMBG         3.0         4.0         5.0         5.0         4.5   \n",
       "A10AFVU66A79Y1         3.0         4.0         5.0         5.0         4.5   \n",
       "\n",
       "productId       B00LKG1MC8  \n",
       "userId                      \n",
       "A100UD67AHFODS         5.0  \n",
       "A100WO06OQR8BQ         5.0  \n",
       "A105S56ODHGJEK         5.0  \n",
       "A105TOJ6LTVMBG         5.0  \n",
       "A10AFVU66A79Y1         5.0  \n",
       "\n",
       "[5 rows x 48190 columns]"
      ]
     },
     "execution_count": 39,
     "metadata": {},
     "output_type": "execute_result"
    }
   ],
   "source": [
    "pivot_df = ratings_50.pivot(index = 'userId', columns = 'productId', values = 'ratings').fillna(final_ratings_matrix.mean(axis=0))\n",
    "pivot_df.shape\n",
    "pivot_df.head()"
   ]
  },
  {
   "cell_type": "code",
   "execution_count": 42,
   "metadata": {},
   "outputs": [
    {
     "data": {
      "text/html": [
       "<div>\n",
       "<style scoped>\n",
       "    .dataframe tbody tr th:only-of-type {\n",
       "        vertical-align: middle;\n",
       "    }\n",
       "\n",
       "    .dataframe tbody tr th {\n",
       "        vertical-align: top;\n",
       "    }\n",
       "\n",
       "    .dataframe thead th {\n",
       "        text-align: right;\n",
       "    }\n",
       "</style>\n",
       "<table border=\"1\" class=\"dataframe\">\n",
       "  <thead>\n",
       "    <tr style=\"text-align: right;\">\n",
       "      <th>productId</th>\n",
       "      <th>0594451647</th>\n",
       "      <th>0594481813</th>\n",
       "      <th>0970407998</th>\n",
       "      <th>0972683275</th>\n",
       "      <th>1400501466</th>\n",
       "      <th>1400501520</th>\n",
       "      <th>1400501776</th>\n",
       "      <th>1400532620</th>\n",
       "      <th>1400532655</th>\n",
       "      <th>140053271X</th>\n",
       "      <th>...</th>\n",
       "      <th>B00L5YZCCG</th>\n",
       "      <th>B00L8I6SFY</th>\n",
       "      <th>B00L8QCVL6</th>\n",
       "      <th>B00LA6T0LS</th>\n",
       "      <th>B00LBZ1Z7K</th>\n",
       "      <th>B00LED02VY</th>\n",
       "      <th>B00LGN7Y3G</th>\n",
       "      <th>B00LGQ6HL8</th>\n",
       "      <th>B00LI4ZZO8</th>\n",
       "      <th>B00LKG1MC8</th>\n",
       "    </tr>\n",
       "    <tr>\n",
       "      <th>user_index</th>\n",
       "      <th></th>\n",
       "      <th></th>\n",
       "      <th></th>\n",
       "      <th></th>\n",
       "      <th></th>\n",
       "      <th></th>\n",
       "      <th></th>\n",
       "      <th></th>\n",
       "      <th></th>\n",
       "      <th></th>\n",
       "      <th></th>\n",
       "      <th></th>\n",
       "      <th></th>\n",
       "      <th></th>\n",
       "      <th></th>\n",
       "      <th></th>\n",
       "      <th></th>\n",
       "      <th></th>\n",
       "      <th></th>\n",
       "      <th></th>\n",
       "      <th></th>\n",
       "    </tr>\n",
       "  </thead>\n",
       "  <tbody>\n",
       "    <tr>\n",
       "      <th>0</th>\n",
       "      <td>5.0</td>\n",
       "      <td>3.0</td>\n",
       "      <td>2.5</td>\n",
       "      <td>4.75</td>\n",
       "      <td>3.333333</td>\n",
       "      <td>5.0</td>\n",
       "      <td>4.5</td>\n",
       "      <td>3.0</td>\n",
       "      <td>3.833333</td>\n",
       "      <td>2.5</td>\n",
       "      <td>...</td>\n",
       "      <td>4.0</td>\n",
       "      <td>5.0</td>\n",
       "      <td>5.0</td>\n",
       "      <td>4.0</td>\n",
       "      <td>3.0</td>\n",
       "      <td>4.0</td>\n",
       "      <td>5.0</td>\n",
       "      <td>5.0</td>\n",
       "      <td>4.5</td>\n",
       "      <td>5.0</td>\n",
       "    </tr>\n",
       "    <tr>\n",
       "      <th>1</th>\n",
       "      <td>5.0</td>\n",
       "      <td>3.0</td>\n",
       "      <td>2.5</td>\n",
       "      <td>4.75</td>\n",
       "      <td>3.333333</td>\n",
       "      <td>5.0</td>\n",
       "      <td>4.5</td>\n",
       "      <td>3.0</td>\n",
       "      <td>3.833333</td>\n",
       "      <td>2.5</td>\n",
       "      <td>...</td>\n",
       "      <td>4.0</td>\n",
       "      <td>5.0</td>\n",
       "      <td>5.0</td>\n",
       "      <td>4.0</td>\n",
       "      <td>3.0</td>\n",
       "      <td>4.0</td>\n",
       "      <td>5.0</td>\n",
       "      <td>5.0</td>\n",
       "      <td>4.5</td>\n",
       "      <td>5.0</td>\n",
       "    </tr>\n",
       "    <tr>\n",
       "      <th>2</th>\n",
       "      <td>5.0</td>\n",
       "      <td>3.0</td>\n",
       "      <td>2.5</td>\n",
       "      <td>4.75</td>\n",
       "      <td>3.333333</td>\n",
       "      <td>5.0</td>\n",
       "      <td>4.5</td>\n",
       "      <td>3.0</td>\n",
       "      <td>3.833333</td>\n",
       "      <td>2.5</td>\n",
       "      <td>...</td>\n",
       "      <td>4.0</td>\n",
       "      <td>5.0</td>\n",
       "      <td>5.0</td>\n",
       "      <td>4.0</td>\n",
       "      <td>3.0</td>\n",
       "      <td>4.0</td>\n",
       "      <td>5.0</td>\n",
       "      <td>5.0</td>\n",
       "      <td>4.5</td>\n",
       "      <td>5.0</td>\n",
       "    </tr>\n",
       "    <tr>\n",
       "      <th>3</th>\n",
       "      <td>5.0</td>\n",
       "      <td>3.0</td>\n",
       "      <td>2.5</td>\n",
       "      <td>4.75</td>\n",
       "      <td>3.333333</td>\n",
       "      <td>5.0</td>\n",
       "      <td>4.5</td>\n",
       "      <td>3.0</td>\n",
       "      <td>3.833333</td>\n",
       "      <td>2.5</td>\n",
       "      <td>...</td>\n",
       "      <td>4.0</td>\n",
       "      <td>5.0</td>\n",
       "      <td>5.0</td>\n",
       "      <td>4.0</td>\n",
       "      <td>3.0</td>\n",
       "      <td>4.0</td>\n",
       "      <td>5.0</td>\n",
       "      <td>5.0</td>\n",
       "      <td>4.5</td>\n",
       "      <td>5.0</td>\n",
       "    </tr>\n",
       "    <tr>\n",
       "      <th>4</th>\n",
       "      <td>5.0</td>\n",
       "      <td>3.0</td>\n",
       "      <td>2.5</td>\n",
       "      <td>4.75</td>\n",
       "      <td>3.333333</td>\n",
       "      <td>5.0</td>\n",
       "      <td>4.5</td>\n",
       "      <td>3.0</td>\n",
       "      <td>3.833333</td>\n",
       "      <td>2.5</td>\n",
       "      <td>...</td>\n",
       "      <td>4.0</td>\n",
       "      <td>5.0</td>\n",
       "      <td>5.0</td>\n",
       "      <td>4.0</td>\n",
       "      <td>3.0</td>\n",
       "      <td>4.0</td>\n",
       "      <td>5.0</td>\n",
       "      <td>5.0</td>\n",
       "      <td>4.5</td>\n",
       "      <td>5.0</td>\n",
       "    </tr>\n",
       "  </tbody>\n",
       "</table>\n",
       "<p>5 rows × 48190 columns</p>\n",
       "</div>"
      ],
      "text/plain": [
       "productId   0594451647  0594481813  0970407998  0972683275  1400501466  \\\n",
       "user_index                                                               \n",
       "0                  5.0         3.0         2.5        4.75    3.333333   \n",
       "1                  5.0         3.0         2.5        4.75    3.333333   \n",
       "2                  5.0         3.0         2.5        4.75    3.333333   \n",
       "3                  5.0         3.0         2.5        4.75    3.333333   \n",
       "4                  5.0         3.0         2.5        4.75    3.333333   \n",
       "\n",
       "productId   1400501520  1400501776  1400532620  1400532655  140053271X  ...  \\\n",
       "user_index                                                              ...   \n",
       "0                  5.0         4.5         3.0    3.833333         2.5  ...   \n",
       "1                  5.0         4.5         3.0    3.833333         2.5  ...   \n",
       "2                  5.0         4.5         3.0    3.833333         2.5  ...   \n",
       "3                  5.0         4.5         3.0    3.833333         2.5  ...   \n",
       "4                  5.0         4.5         3.0    3.833333         2.5  ...   \n",
       "\n",
       "productId   B00L5YZCCG  B00L8I6SFY  B00L8QCVL6  B00LA6T0LS  B00LBZ1Z7K  \\\n",
       "user_index                                                               \n",
       "0                  4.0         5.0         5.0         4.0         3.0   \n",
       "1                  4.0         5.0         5.0         4.0         3.0   \n",
       "2                  4.0         5.0         5.0         4.0         3.0   \n",
       "3                  4.0         5.0         5.0         4.0         3.0   \n",
       "4                  4.0         5.0         5.0         4.0         3.0   \n",
       "\n",
       "productId   B00LED02VY  B00LGN7Y3G  B00LGQ6HL8  B00LI4ZZO8  B00LKG1MC8  \n",
       "user_index                                                              \n",
       "0                  4.0         5.0         5.0         4.5         5.0  \n",
       "1                  4.0         5.0         5.0         4.5         5.0  \n",
       "2                  4.0         5.0         5.0         4.5         5.0  \n",
       "3                  4.0         5.0         5.0         4.5         5.0  \n",
       "4                  4.0         5.0         5.0         4.5         5.0  \n",
       "\n",
       "[5 rows x 48190 columns]"
      ]
     },
     "execution_count": 42,
     "metadata": {},
     "output_type": "execute_result"
    }
   ],
   "source": [
    "pivot_df['user_index'] = np.arange(0, pivot_df.shape[0], 1)\n",
    "pivot_df.set_index(['user_index'], inplace = True)\n",
    "\n",
    "# Actual ratings given by users\n",
    "pivot_df.head()"
   ]
  },
  {
   "cell_type": "markdown",
   "metadata": {},
   "source": [
    "<font color = blue>\n",
    "    \n",
    "Now, next step is to calculate the similarity between the users"
   ]
  },
  {
   "cell_type": "code",
   "execution_count": 43,
   "metadata": {},
   "outputs": [],
   "source": [
    "from sklearn.metrics.pairwise import cosine_similarity\n",
    "cosine = cosine_similarity(pivot_df)\n"
   ]
  },
  {
   "cell_type": "code",
   "execution_count": 44,
   "metadata": {},
   "outputs": [
    {
     "data": {
      "text/html": [
       "<div>\n",
       "<style scoped>\n",
       "    .dataframe tbody tr th:only-of-type {\n",
       "        vertical-align: middle;\n",
       "    }\n",
       "\n",
       "    .dataframe tbody tr th {\n",
       "        vertical-align: top;\n",
       "    }\n",
       "\n",
       "    .dataframe thead th {\n",
       "        text-align: right;\n",
       "    }\n",
       "</style>\n",
       "<table border=\"1\" class=\"dataframe\">\n",
       "  <thead>\n",
       "    <tr style=\"text-align: right;\">\n",
       "      <th>user_index</th>\n",
       "      <th>0</th>\n",
       "      <th>1</th>\n",
       "      <th>2</th>\n",
       "      <th>3</th>\n",
       "      <th>4</th>\n",
       "      <th>5</th>\n",
       "      <th>6</th>\n",
       "      <th>7</th>\n",
       "      <th>8</th>\n",
       "      <th>9</th>\n",
       "      <th>...</th>\n",
       "      <th>1530</th>\n",
       "      <th>1531</th>\n",
       "      <th>1532</th>\n",
       "      <th>1533</th>\n",
       "      <th>1534</th>\n",
       "      <th>1535</th>\n",
       "      <th>1536</th>\n",
       "      <th>1537</th>\n",
       "      <th>1538</th>\n",
       "      <th>1539</th>\n",
       "    </tr>\n",
       "    <tr>\n",
       "      <th>user_index</th>\n",
       "      <th></th>\n",
       "      <th></th>\n",
       "      <th></th>\n",
       "      <th></th>\n",
       "      <th></th>\n",
       "      <th></th>\n",
       "      <th></th>\n",
       "      <th></th>\n",
       "      <th></th>\n",
       "      <th></th>\n",
       "      <th></th>\n",
       "      <th></th>\n",
       "      <th></th>\n",
       "      <th></th>\n",
       "      <th></th>\n",
       "      <th></th>\n",
       "      <th></th>\n",
       "      <th></th>\n",
       "      <th></th>\n",
       "      <th></th>\n",
       "      <th></th>\n",
       "    </tr>\n",
       "  </thead>\n",
       "  <tbody>\n",
       "    <tr>\n",
       "      <th>436</th>\n",
       "      <td>0.999943</td>\n",
       "      <td>0.999844</td>\n",
       "      <td>0.999941</td>\n",
       "      <td>0.999933</td>\n",
       "      <td>0.999955</td>\n",
       "      <td>0.999952</td>\n",
       "      <td>0.999942</td>\n",
       "      <td>0.999963</td>\n",
       "      <td>0.999939</td>\n",
       "      <td>0.999960</td>\n",
       "      <td>...</td>\n",
       "      <td>0.999948</td>\n",
       "      <td>0.999924</td>\n",
       "      <td>0.999940</td>\n",
       "      <td>0.999963</td>\n",
       "      <td>0.999938</td>\n",
       "      <td>0.999946</td>\n",
       "      <td>0.999948</td>\n",
       "      <td>0.999915</td>\n",
       "      <td>0.999961</td>\n",
       "      <td>0.999961</td>\n",
       "    </tr>\n",
       "    <tr>\n",
       "      <th>146</th>\n",
       "      <td>0.999950</td>\n",
       "      <td>0.999859</td>\n",
       "      <td>0.999948</td>\n",
       "      <td>0.999939</td>\n",
       "      <td>0.999962</td>\n",
       "      <td>0.999958</td>\n",
       "      <td>0.999948</td>\n",
       "      <td>0.999970</td>\n",
       "      <td>0.999945</td>\n",
       "      <td>0.999968</td>\n",
       "      <td>...</td>\n",
       "      <td>0.999955</td>\n",
       "      <td>0.999934</td>\n",
       "      <td>0.999946</td>\n",
       "      <td>0.999970</td>\n",
       "      <td>0.999946</td>\n",
       "      <td>0.999953</td>\n",
       "      <td>0.999955</td>\n",
       "      <td>0.999922</td>\n",
       "      <td>0.999969</td>\n",
       "      <td>0.999968</td>\n",
       "    </tr>\n",
       "    <tr>\n",
       "      <th>989</th>\n",
       "      <td>0.999948</td>\n",
       "      <td>0.999853</td>\n",
       "      <td>0.999946</td>\n",
       "      <td>0.999934</td>\n",
       "      <td>0.999960</td>\n",
       "      <td>0.999956</td>\n",
       "      <td>0.999945</td>\n",
       "      <td>0.999968</td>\n",
       "      <td>0.999944</td>\n",
       "      <td>0.999966</td>\n",
       "      <td>...</td>\n",
       "      <td>0.999954</td>\n",
       "      <td>0.999932</td>\n",
       "      <td>0.999945</td>\n",
       "      <td>0.999969</td>\n",
       "      <td>0.999943</td>\n",
       "      <td>0.999950</td>\n",
       "      <td>0.999953</td>\n",
       "      <td>0.999918</td>\n",
       "      <td>0.999966</td>\n",
       "      <td>0.999966</td>\n",
       "    </tr>\n",
       "    <tr>\n",
       "      <th>171</th>\n",
       "      <td>0.999929</td>\n",
       "      <td>0.999832</td>\n",
       "      <td>0.999927</td>\n",
       "      <td>0.999918</td>\n",
       "      <td>0.999939</td>\n",
       "      <td>0.999936</td>\n",
       "      <td>0.999927</td>\n",
       "      <td>0.999949</td>\n",
       "      <td>0.999925</td>\n",
       "      <td>0.999946</td>\n",
       "      <td>...</td>\n",
       "      <td>0.999935</td>\n",
       "      <td>0.999911</td>\n",
       "      <td>0.999926</td>\n",
       "      <td>0.999949</td>\n",
       "      <td>0.999925</td>\n",
       "      <td>0.999932</td>\n",
       "      <td>0.999934</td>\n",
       "      <td>0.999901</td>\n",
       "      <td>0.999947</td>\n",
       "      <td>0.999947</td>\n",
       "    </tr>\n",
       "    <tr>\n",
       "      <th>670</th>\n",
       "      <td>0.999968</td>\n",
       "      <td>0.999873</td>\n",
       "      <td>0.999966</td>\n",
       "      <td>0.999958</td>\n",
       "      <td>0.999980</td>\n",
       "      <td>0.999976</td>\n",
       "      <td>0.999966</td>\n",
       "      <td>0.999988</td>\n",
       "      <td>0.999964</td>\n",
       "      <td>0.999986</td>\n",
       "      <td>...</td>\n",
       "      <td>0.999974</td>\n",
       "      <td>0.999952</td>\n",
       "      <td>0.999965</td>\n",
       "      <td>0.999989</td>\n",
       "      <td>0.999965</td>\n",
       "      <td>0.999972</td>\n",
       "      <td>0.999973</td>\n",
       "      <td>0.999940</td>\n",
       "      <td>0.999987</td>\n",
       "      <td>0.999986</td>\n",
       "    </tr>\n",
       "  </tbody>\n",
       "</table>\n",
       "<p>5 rows × 1540 columns</p>\n",
       "</div>"
      ],
      "text/plain": [
       "user_index      0         1         2         3         4         5     \\\n",
       "user_index                                                               \n",
       "436         0.999943  0.999844  0.999941  0.999933  0.999955  0.999952   \n",
       "146         0.999950  0.999859  0.999948  0.999939  0.999962  0.999958   \n",
       "989         0.999948  0.999853  0.999946  0.999934  0.999960  0.999956   \n",
       "171         0.999929  0.999832  0.999927  0.999918  0.999939  0.999936   \n",
       "670         0.999968  0.999873  0.999966  0.999958  0.999980  0.999976   \n",
       "\n",
       "user_index      6         7         8         9     ...      1530      1531  \\\n",
       "user_index                                          ...                       \n",
       "436         0.999942  0.999963  0.999939  0.999960  ...  0.999948  0.999924   \n",
       "146         0.999948  0.999970  0.999945  0.999968  ...  0.999955  0.999934   \n",
       "989         0.999945  0.999968  0.999944  0.999966  ...  0.999954  0.999932   \n",
       "171         0.999927  0.999949  0.999925  0.999946  ...  0.999935  0.999911   \n",
       "670         0.999966  0.999988  0.999964  0.999986  ...  0.999974  0.999952   \n",
       "\n",
       "user_index      1532      1533      1534      1535      1536      1537  \\\n",
       "user_index                                                               \n",
       "436         0.999940  0.999963  0.999938  0.999946  0.999948  0.999915   \n",
       "146         0.999946  0.999970  0.999946  0.999953  0.999955  0.999922   \n",
       "989         0.999945  0.999969  0.999943  0.999950  0.999953  0.999918   \n",
       "171         0.999926  0.999949  0.999925  0.999932  0.999934  0.999901   \n",
       "670         0.999965  0.999989  0.999965  0.999972  0.999973  0.999940   \n",
       "\n",
       "user_index      1538      1539  \n",
       "user_index                      \n",
       "436         0.999961  0.999961  \n",
       "146         0.999969  0.999968  \n",
       "989         0.999966  0.999966  \n",
       "171         0.999947  0.999947  \n",
       "670         0.999987  0.999986  \n",
       "\n",
       "[5 rows x 1540 columns]"
      ]
     },
     "execution_count": 44,
     "metadata": {},
     "output_type": "execute_result"
    }
   ],
   "source": [
    "similarity_with_items = pd.DataFrame(cosine, index = pivot_df.index)\n",
    "\n",
    "similarity_with_items.columns = pivot_df.index\n",
    "similarity_with_items.sample(5)"
   ]
  },
  {
   "cell_type": "markdown",
   "metadata": {},
   "source": [
    "<font color = blue>\n",
    "\n",
    "- Dissimilarity among users can be observed"
   ]
  },
  {
   "cell_type": "markdown",
   "metadata": {},
   "source": [
    "# SVD Method\n",
    "\n",
    "<font color = blue>\n",
    "    \n",
    "    \n",
    "- This is the best method to apply on a large sparse matrix\n",
    "- Apart from matrix decomposition, it is useful in many ways, such as data compression, noise reduction similar to Principal Component Analysis and Latent Semantic Indexing (LSI), used in document retrieval and word similarity in Text mining.\n"
   ]
  },
  {
   "cell_type": "code",
   "execution_count": 45,
   "metadata": {},
   "outputs": [],
   "source": [
    "from scipy.sparse.linalg import svds\n",
    "# Singular value decomposition\n",
    "U, sigma, Vt = svds (pivot_df, k= 10)\n",
    "# constructing diagonal array in SVD\n",
    "sigma = np.diag(sigma)"
   ]
  },
  {
   "cell_type": "code",
   "execution_count": 46,
   "metadata": {},
   "outputs": [
    {
     "data": {
      "text/html": [
       "<div>\n",
       "<style scoped>\n",
       "    .dataframe tbody tr th:only-of-type {\n",
       "        vertical-align: middle;\n",
       "    }\n",
       "\n",
       "    .dataframe tbody tr th {\n",
       "        vertical-align: top;\n",
       "    }\n",
       "\n",
       "    .dataframe thead th {\n",
       "        text-align: right;\n",
       "    }\n",
       "</style>\n",
       "<table border=\"1\" class=\"dataframe\">\n",
       "  <thead>\n",
       "    <tr style=\"text-align: right;\">\n",
       "      <th></th>\n",
       "      <th>0</th>\n",
       "      <th>1</th>\n",
       "      <th>2</th>\n",
       "      <th>3</th>\n",
       "      <th>4</th>\n",
       "      <th>5</th>\n",
       "      <th>6</th>\n",
       "      <th>7</th>\n",
       "      <th>8</th>\n",
       "      <th>9</th>\n",
       "    </tr>\n",
       "  </thead>\n",
       "  <tbody>\n",
       "    <tr>\n",
       "      <th>0</th>\n",
       "      <td>15.155483</td>\n",
       "      <td>0.000000</td>\n",
       "      <td>0.000000</td>\n",
       "      <td>0.000000</td>\n",
       "      <td>0.000000</td>\n",
       "      <td>0.0</td>\n",
       "      <td>0.0</td>\n",
       "      <td>0.0</td>\n",
       "      <td>0.0</td>\n",
       "      <td>0.0</td>\n",
       "    </tr>\n",
       "    <tr>\n",
       "      <th>1</th>\n",
       "      <td>0.000000</td>\n",
       "      <td>15.316889</td>\n",
       "      <td>0.000000</td>\n",
       "      <td>0.000000</td>\n",
       "      <td>0.000000</td>\n",
       "      <td>0.0</td>\n",
       "      <td>0.0</td>\n",
       "      <td>0.0</td>\n",
       "      <td>0.0</td>\n",
       "      <td>0.0</td>\n",
       "    </tr>\n",
       "    <tr>\n",
       "      <th>2</th>\n",
       "      <td>0.000000</td>\n",
       "      <td>0.000000</td>\n",
       "      <td>15.842244</td>\n",
       "      <td>0.000000</td>\n",
       "      <td>0.000000</td>\n",
       "      <td>0.0</td>\n",
       "      <td>0.0</td>\n",
       "      <td>0.0</td>\n",
       "      <td>0.0</td>\n",
       "      <td>0.0</td>\n",
       "    </tr>\n",
       "    <tr>\n",
       "      <th>3</th>\n",
       "      <td>0.000000</td>\n",
       "      <td>0.000000</td>\n",
       "      <td>0.000000</td>\n",
       "      <td>16.392685</td>\n",
       "      <td>0.000000</td>\n",
       "      <td>0.0</td>\n",
       "      <td>0.0</td>\n",
       "      <td>0.0</td>\n",
       "      <td>0.0</td>\n",
       "      <td>0.0</td>\n",
       "    </tr>\n",
       "    <tr>\n",
       "      <th>4</th>\n",
       "      <td>0.000000</td>\n",
       "      <td>0.000000</td>\n",
       "      <td>0.000000</td>\n",
       "      <td>0.000000</td>\n",
       "      <td>16.719592</td>\n",
       "      <td>0.0</td>\n",
       "      <td>0.0</td>\n",
       "      <td>0.0</td>\n",
       "      <td>0.0</td>\n",
       "      <td>0.0</td>\n",
       "    </tr>\n",
       "  </tbody>\n",
       "</table>\n",
       "</div>"
      ],
      "text/plain": [
       "           0          1          2          3          4    5    6    7    8  \\\n",
       "0  15.155483   0.000000   0.000000   0.000000   0.000000  0.0  0.0  0.0  0.0   \n",
       "1   0.000000  15.316889   0.000000   0.000000   0.000000  0.0  0.0  0.0  0.0   \n",
       "2   0.000000   0.000000  15.842244   0.000000   0.000000  0.0  0.0  0.0  0.0   \n",
       "3   0.000000   0.000000   0.000000  16.392685   0.000000  0.0  0.0  0.0  0.0   \n",
       "4   0.000000   0.000000   0.000000   0.000000  16.719592  0.0  0.0  0.0  0.0   \n",
       "\n",
       "     9  \n",
       "0  0.0  \n",
       "1  0.0  \n",
       "2  0.0  \n",
       "3  0.0  \n",
       "4  0.0  "
      ]
     },
     "execution_count": 46,
     "metadata": {},
     "output_type": "execute_result"
    }
   ],
   "source": [
    "pd.DataFrame(sigma).head()"
   ]
  },
  {
   "cell_type": "markdown",
   "metadata": {},
   "source": [
    "\n",
    "#### *Comments:*\n",
    "\n",
    "\n",
    "<font color = blue>\n",
    "\n",
    "- Above Matrix is the Diagonal Matrix, which contains the square root of Eigen vectors in descending order\n",
    "\n",
    "- Lets get the predicted matrix by multiplying the left singular vector matrix / orthogonal matrix (U), Diagonal matrix (Sigma) and Right singular vector matrix (Vt).\n"
   ]
  },
  {
   "cell_type": "code",
   "execution_count": 47,
   "metadata": {},
   "outputs": [
    {
     "data": {
      "text/html": [
       "<div>\n",
       "<style scoped>\n",
       "    .dataframe tbody tr th:only-of-type {\n",
       "        vertical-align: middle;\n",
       "    }\n",
       "\n",
       "    .dataframe tbody tr th {\n",
       "        vertical-align: top;\n",
       "    }\n",
       "\n",
       "    .dataframe thead th {\n",
       "        text-align: right;\n",
       "    }\n",
       "</style>\n",
       "<table border=\"1\" class=\"dataframe\">\n",
       "  <thead>\n",
       "    <tr style=\"text-align: right;\">\n",
       "      <th>productId</th>\n",
       "      <th>0594451647</th>\n",
       "      <th>0594481813</th>\n",
       "      <th>0970407998</th>\n",
       "      <th>0972683275</th>\n",
       "      <th>1400501466</th>\n",
       "      <th>1400501520</th>\n",
       "      <th>1400501776</th>\n",
       "      <th>1400532620</th>\n",
       "      <th>1400532655</th>\n",
       "      <th>140053271X</th>\n",
       "      <th>...</th>\n",
       "      <th>B00L5YZCCG</th>\n",
       "      <th>B00L8I6SFY</th>\n",
       "      <th>B00L8QCVL6</th>\n",
       "      <th>B00LA6T0LS</th>\n",
       "      <th>B00LBZ1Z7K</th>\n",
       "      <th>B00LED02VY</th>\n",
       "      <th>B00LGN7Y3G</th>\n",
       "      <th>B00LGQ6HL8</th>\n",
       "      <th>B00LI4ZZO8</th>\n",
       "      <th>B00LKG1MC8</th>\n",
       "    </tr>\n",
       "  </thead>\n",
       "  <tbody>\n",
       "    <tr>\n",
       "      <th>0</th>\n",
       "      <td>5.000206</td>\n",
       "      <td>3.000123</td>\n",
       "      <td>2.499814</td>\n",
       "      <td>4.750204</td>\n",
       "      <td>3.333421</td>\n",
       "      <td>5.000206</td>\n",
       "      <td>4.500283</td>\n",
       "      <td>3.000325</td>\n",
       "      <td>3.833856</td>\n",
       "      <td>2.500236</td>\n",
       "      <td>...</td>\n",
       "      <td>4.000165</td>\n",
       "      <td>5.000206</td>\n",
       "      <td>5.000206</td>\n",
       "      <td>4.000165</td>\n",
       "      <td>3.000123</td>\n",
       "      <td>4.000165</td>\n",
       "      <td>5.000206</td>\n",
       "      <td>5.000206</td>\n",
       "      <td>4.499991</td>\n",
       "      <td>5.000206</td>\n",
       "    </tr>\n",
       "    <tr>\n",
       "      <th>1</th>\n",
       "      <td>5.000698</td>\n",
       "      <td>3.000419</td>\n",
       "      <td>2.512097</td>\n",
       "      <td>4.744042</td>\n",
       "      <td>3.342292</td>\n",
       "      <td>5.000698</td>\n",
       "      <td>4.512528</td>\n",
       "      <td>3.003193</td>\n",
       "      <td>3.852004</td>\n",
       "      <td>2.506053</td>\n",
       "      <td>...</td>\n",
       "      <td>4.000559</td>\n",
       "      <td>5.000698</td>\n",
       "      <td>5.000698</td>\n",
       "      <td>4.000559</td>\n",
       "      <td>3.000419</td>\n",
       "      <td>4.000559</td>\n",
       "      <td>5.000698</td>\n",
       "      <td>5.000698</td>\n",
       "      <td>4.496086</td>\n",
       "      <td>5.000698</td>\n",
       "    </tr>\n",
       "    <tr>\n",
       "      <th>2</th>\n",
       "      <td>4.999847</td>\n",
       "      <td>2.999908</td>\n",
       "      <td>2.500837</td>\n",
       "      <td>4.750344</td>\n",
       "      <td>3.332642</td>\n",
       "      <td>4.999847</td>\n",
       "      <td>4.499897</td>\n",
       "      <td>2.998982</td>\n",
       "      <td>3.833574</td>\n",
       "      <td>2.499981</td>\n",
       "      <td>...</td>\n",
       "      <td>3.999878</td>\n",
       "      <td>4.999847</td>\n",
       "      <td>4.999847</td>\n",
       "      <td>3.999878</td>\n",
       "      <td>2.999908</td>\n",
       "      <td>3.999878</td>\n",
       "      <td>4.999847</td>\n",
       "      <td>4.999847</td>\n",
       "      <td>4.500337</td>\n",
       "      <td>4.999847</td>\n",
       "    </tr>\n",
       "    <tr>\n",
       "      <th>3</th>\n",
       "      <td>4.999429</td>\n",
       "      <td>2.999658</td>\n",
       "      <td>2.497307</td>\n",
       "      <td>4.749658</td>\n",
       "      <td>3.332764</td>\n",
       "      <td>4.999429</td>\n",
       "      <td>4.499708</td>\n",
       "      <td>2.999225</td>\n",
       "      <td>3.834418</td>\n",
       "      <td>2.499620</td>\n",
       "      <td>...</td>\n",
       "      <td>3.999543</td>\n",
       "      <td>4.999429</td>\n",
       "      <td>4.999429</td>\n",
       "      <td>3.999543</td>\n",
       "      <td>2.999658</td>\n",
       "      <td>3.999543</td>\n",
       "      <td>4.999429</td>\n",
       "      <td>4.999429</td>\n",
       "      <td>4.499791</td>\n",
       "      <td>4.999429</td>\n",
       "    </tr>\n",
       "    <tr>\n",
       "      <th>4</th>\n",
       "      <td>5.000100</td>\n",
       "      <td>3.000060</td>\n",
       "      <td>2.500537</td>\n",
       "      <td>4.750312</td>\n",
       "      <td>3.333167</td>\n",
       "      <td>5.000100</td>\n",
       "      <td>4.500057</td>\n",
       "      <td>2.999728</td>\n",
       "      <td>3.833806</td>\n",
       "      <td>2.500370</td>\n",
       "      <td>...</td>\n",
       "      <td>4.000080</td>\n",
       "      <td>5.000100</td>\n",
       "      <td>5.000100</td>\n",
       "      <td>4.000080</td>\n",
       "      <td>3.000060</td>\n",
       "      <td>4.000080</td>\n",
       "      <td>5.000100</td>\n",
       "      <td>5.000100</td>\n",
       "      <td>4.500143</td>\n",
       "      <td>5.000100</td>\n",
       "    </tr>\n",
       "  </tbody>\n",
       "</table>\n",
       "<p>5 rows × 48190 columns</p>\n",
       "</div>"
      ],
      "text/plain": [
       "productId  0594451647  0594481813  0970407998  0972683275  1400501466  \\\n",
       "0            5.000206    3.000123    2.499814    4.750204    3.333421   \n",
       "1            5.000698    3.000419    2.512097    4.744042    3.342292   \n",
       "2            4.999847    2.999908    2.500837    4.750344    3.332642   \n",
       "3            4.999429    2.999658    2.497307    4.749658    3.332764   \n",
       "4            5.000100    3.000060    2.500537    4.750312    3.333167   \n",
       "\n",
       "productId  1400501520  1400501776  1400532620  1400532655  140053271X  ...  \\\n",
       "0            5.000206    4.500283    3.000325    3.833856    2.500236  ...   \n",
       "1            5.000698    4.512528    3.003193    3.852004    2.506053  ...   \n",
       "2            4.999847    4.499897    2.998982    3.833574    2.499981  ...   \n",
       "3            4.999429    4.499708    2.999225    3.834418    2.499620  ...   \n",
       "4            5.000100    4.500057    2.999728    3.833806    2.500370  ...   \n",
       "\n",
       "productId  B00L5YZCCG  B00L8I6SFY  B00L8QCVL6  B00LA6T0LS  B00LBZ1Z7K  \\\n",
       "0            4.000165    5.000206    5.000206    4.000165    3.000123   \n",
       "1            4.000559    5.000698    5.000698    4.000559    3.000419   \n",
       "2            3.999878    4.999847    4.999847    3.999878    2.999908   \n",
       "3            3.999543    4.999429    4.999429    3.999543    2.999658   \n",
       "4            4.000080    5.000100    5.000100    4.000080    3.000060   \n",
       "\n",
       "productId  B00LED02VY  B00LGN7Y3G  B00LGQ6HL8  B00LI4ZZO8  B00LKG1MC8  \n",
       "0            4.000165    5.000206    5.000206    4.499991    5.000206  \n",
       "1            4.000559    5.000698    5.000698    4.496086    5.000698  \n",
       "2            3.999878    4.999847    4.999847    4.500337    4.999847  \n",
       "3            3.999543    4.999429    4.999429    4.499791    4.999429  \n",
       "4            4.000080    5.000100    5.000100    4.500143    5.000100  \n",
       "\n",
       "[5 rows x 48190 columns]"
      ]
     },
     "execution_count": 47,
     "metadata": {},
     "output_type": "execute_result"
    }
   ],
   "source": [
    "predicted_ratings_all_users = np.dot(np.dot(U, sigma), Vt)\n",
    "\n",
    "# Predicted ratings\n",
    "preds_df = pd.DataFrame(predicted_ratings_all_users, columns = pivot_df.columns)\n",
    "preds_df.head()"
   ]
  },
  {
   "cell_type": "markdown",
   "metadata": {},
   "source": [
    "<font color = blue>\n",
    "\n",
    "- Let's recommend the items based on the predicted ratings matrix"
   ]
  },
  {
   "cell_type": "code",
   "execution_count": 48,
   "metadata": {},
   "outputs": [],
   "source": [
    "# Recommend the items with the highest predicted ratings\n",
    "\n",
    "def recommend_items(userId, pivot_df, preds_df, num_recommendations):\n",
    "    \n",
    "    user_idx = userId - 1  # index starts at 0\n",
    "    \n",
    "    # Get and sort the user's ratings\n",
    "    sorted_user_ratings = pivot_df.iloc[user_idx].sort_values(ascending = False)\n",
    "    # sorted user ratings\n",
    "    \n",
    "    sorted_user_predictions = preds_df.iloc[user_idx].sort_values(ascending = False)\n",
    "    # Sorted user predictions\n",
    "    \n",
    "    temp = pd.concat([sorted_user_ratings, sorted_user_predictions], axis =1)\n",
    "    temp.index.name = 'Recommended Items'\n",
    "    temp.columns = ['user_ratings', 'user_predictions']\n",
    "    \n",
    "    temp = temp.sort_values('user_predictions', ascending = False)\n",
    "    print('\\nBelow are the recommended items for user (user_id = {}:\\n)'.format(userId))\n",
    "    print(temp.head(num_recommendations))"
   ]
  },
  {
   "cell_type": "code",
   "execution_count": 49,
   "metadata": {},
   "outputs": [
    {
     "name": "stdout",
     "output_type": "stream",
     "text": [
      "\n",
      "Below are the recommended items for user (user_id = 36:\n",
      ")\n",
      "                   user_ratings  user_predictions\n",
      "Recommended Items                                \n",
      "B00LKG1MC8                  5.0          4.999846\n",
      "B000QJ56WW                  5.0          4.999846\n",
      "B000QJ3IIG                  5.0          4.999846\n",
      "B000QJ34JE                  5.0          4.999846\n",
      "B000QIZXHG                  5.0          4.999846\n"
     ]
    }
   ],
   "source": [
    "# Enter 'userId' and 'num_recommendations' for any user\n",
    "\n",
    "userId = 36\n",
    "num_recommendations = 5\n",
    "recommend_items(userId, pivot_df, preds_df, num_recommendations)"
   ]
  },
  {
   "cell_type": "markdown",
   "metadata": {},
   "source": [
    "<font color = blue>\n",
    "\n",
    "- Evaluate both the models. (Once the model is trained on the training data, it can be used to compute the error (RMSE) on predictions made on the test data.)\n",
    "\n",
    "- Evaluation of Model-based Collaborative Filtering (SVD)"
   ]
  },
  {
   "cell_type": "code",
   "execution_count": 50,
   "metadata": {},
   "outputs": [
    {
     "data": {
      "text/html": [
       "<div>\n",
       "<style scoped>\n",
       "    .dataframe tbody tr th:only-of-type {\n",
       "        vertical-align: middle;\n",
       "    }\n",
       "\n",
       "    .dataframe tbody tr th {\n",
       "        vertical-align: top;\n",
       "    }\n",
       "\n",
       "    .dataframe thead th {\n",
       "        text-align: right;\n",
       "    }\n",
       "</style>\n",
       "<table border=\"1\" class=\"dataframe\">\n",
       "  <thead>\n",
       "    <tr style=\"text-align: right;\">\n",
       "      <th>productId</th>\n",
       "      <th>0594451647</th>\n",
       "      <th>0594481813</th>\n",
       "      <th>0970407998</th>\n",
       "      <th>0972683275</th>\n",
       "      <th>1400501466</th>\n",
       "      <th>1400501520</th>\n",
       "      <th>1400501776</th>\n",
       "      <th>1400532620</th>\n",
       "      <th>1400532655</th>\n",
       "      <th>140053271X</th>\n",
       "      <th>...</th>\n",
       "      <th>B00L5YZCCG</th>\n",
       "      <th>B00L8I6SFY</th>\n",
       "      <th>B00L8QCVL6</th>\n",
       "      <th>B00LA6T0LS</th>\n",
       "      <th>B00LBZ1Z7K</th>\n",
       "      <th>B00LED02VY</th>\n",
       "      <th>B00LGN7Y3G</th>\n",
       "      <th>B00LGQ6HL8</th>\n",
       "      <th>B00LI4ZZO8</th>\n",
       "      <th>B00LKG1MC8</th>\n",
       "    </tr>\n",
       "    <tr>\n",
       "      <th>userId</th>\n",
       "      <th></th>\n",
       "      <th></th>\n",
       "      <th></th>\n",
       "      <th></th>\n",
       "      <th></th>\n",
       "      <th></th>\n",
       "      <th></th>\n",
       "      <th></th>\n",
       "      <th></th>\n",
       "      <th></th>\n",
       "      <th></th>\n",
       "      <th></th>\n",
       "      <th></th>\n",
       "      <th></th>\n",
       "      <th></th>\n",
       "      <th></th>\n",
       "      <th></th>\n",
       "      <th></th>\n",
       "      <th></th>\n",
       "      <th></th>\n",
       "      <th></th>\n",
       "    </tr>\n",
       "  </thead>\n",
       "  <tbody>\n",
       "    <tr>\n",
       "      <th>A100UD67AHFODS</th>\n",
       "      <td>5.0</td>\n",
       "      <td>3.0</td>\n",
       "      <td>2.5</td>\n",
       "      <td>4.75</td>\n",
       "      <td>3.333333</td>\n",
       "      <td>5.0</td>\n",
       "      <td>4.5</td>\n",
       "      <td>3.0</td>\n",
       "      <td>3.833333</td>\n",
       "      <td>2.5</td>\n",
       "      <td>...</td>\n",
       "      <td>4.0</td>\n",
       "      <td>5.0</td>\n",
       "      <td>5.0</td>\n",
       "      <td>4.0</td>\n",
       "      <td>3.0</td>\n",
       "      <td>4.0</td>\n",
       "      <td>5.0</td>\n",
       "      <td>5.0</td>\n",
       "      <td>4.5</td>\n",
       "      <td>5.0</td>\n",
       "    </tr>\n",
       "    <tr>\n",
       "      <th>A100WO06OQR8BQ</th>\n",
       "      <td>5.0</td>\n",
       "      <td>3.0</td>\n",
       "      <td>2.5</td>\n",
       "      <td>4.75</td>\n",
       "      <td>3.333333</td>\n",
       "      <td>5.0</td>\n",
       "      <td>4.5</td>\n",
       "      <td>3.0</td>\n",
       "      <td>3.833333</td>\n",
       "      <td>2.5</td>\n",
       "      <td>...</td>\n",
       "      <td>4.0</td>\n",
       "      <td>5.0</td>\n",
       "      <td>5.0</td>\n",
       "      <td>4.0</td>\n",
       "      <td>3.0</td>\n",
       "      <td>4.0</td>\n",
       "      <td>5.0</td>\n",
       "      <td>5.0</td>\n",
       "      <td>4.5</td>\n",
       "      <td>5.0</td>\n",
       "    </tr>\n",
       "    <tr>\n",
       "      <th>A105S56ODHGJEK</th>\n",
       "      <td>5.0</td>\n",
       "      <td>3.0</td>\n",
       "      <td>2.5</td>\n",
       "      <td>4.75</td>\n",
       "      <td>3.333333</td>\n",
       "      <td>5.0</td>\n",
       "      <td>4.5</td>\n",
       "      <td>3.0</td>\n",
       "      <td>3.833333</td>\n",
       "      <td>2.5</td>\n",
       "      <td>...</td>\n",
       "      <td>4.0</td>\n",
       "      <td>5.0</td>\n",
       "      <td>5.0</td>\n",
       "      <td>4.0</td>\n",
       "      <td>3.0</td>\n",
       "      <td>4.0</td>\n",
       "      <td>5.0</td>\n",
       "      <td>5.0</td>\n",
       "      <td>4.5</td>\n",
       "      <td>5.0</td>\n",
       "    </tr>\n",
       "    <tr>\n",
       "      <th>A105TOJ6LTVMBG</th>\n",
       "      <td>5.0</td>\n",
       "      <td>3.0</td>\n",
       "      <td>2.5</td>\n",
       "      <td>4.75</td>\n",
       "      <td>3.333333</td>\n",
       "      <td>5.0</td>\n",
       "      <td>4.5</td>\n",
       "      <td>3.0</td>\n",
       "      <td>3.833333</td>\n",
       "      <td>2.5</td>\n",
       "      <td>...</td>\n",
       "      <td>4.0</td>\n",
       "      <td>5.0</td>\n",
       "      <td>5.0</td>\n",
       "      <td>4.0</td>\n",
       "      <td>3.0</td>\n",
       "      <td>4.0</td>\n",
       "      <td>5.0</td>\n",
       "      <td>5.0</td>\n",
       "      <td>4.5</td>\n",
       "      <td>5.0</td>\n",
       "    </tr>\n",
       "    <tr>\n",
       "      <th>A10AFVU66A79Y1</th>\n",
       "      <td>5.0</td>\n",
       "      <td>3.0</td>\n",
       "      <td>2.5</td>\n",
       "      <td>4.75</td>\n",
       "      <td>3.333333</td>\n",
       "      <td>5.0</td>\n",
       "      <td>4.5</td>\n",
       "      <td>3.0</td>\n",
       "      <td>3.833333</td>\n",
       "      <td>2.5</td>\n",
       "      <td>...</td>\n",
       "      <td>4.0</td>\n",
       "      <td>5.0</td>\n",
       "      <td>5.0</td>\n",
       "      <td>4.0</td>\n",
       "      <td>3.0</td>\n",
       "      <td>4.0</td>\n",
       "      <td>5.0</td>\n",
       "      <td>5.0</td>\n",
       "      <td>4.5</td>\n",
       "      <td>5.0</td>\n",
       "    </tr>\n",
       "  </tbody>\n",
       "</table>\n",
       "<p>5 rows × 48190 columns</p>\n",
       "</div>"
      ],
      "text/plain": [
       "productId       0594451647  0594481813  0970407998  0972683275  1400501466  \\\n",
       "userId                                                                       \n",
       "A100UD67AHFODS         5.0         3.0         2.5        4.75    3.333333   \n",
       "A100WO06OQR8BQ         5.0         3.0         2.5        4.75    3.333333   \n",
       "A105S56ODHGJEK         5.0         3.0         2.5        4.75    3.333333   \n",
       "A105TOJ6LTVMBG         5.0         3.0         2.5        4.75    3.333333   \n",
       "A10AFVU66A79Y1         5.0         3.0         2.5        4.75    3.333333   \n",
       "\n",
       "productId       1400501520  1400501776  1400532620  1400532655  140053271X  \\\n",
       "userId                                                                       \n",
       "A100UD67AHFODS         5.0         4.5         3.0    3.833333         2.5   \n",
       "A100WO06OQR8BQ         5.0         4.5         3.0    3.833333         2.5   \n",
       "A105S56ODHGJEK         5.0         4.5         3.0    3.833333         2.5   \n",
       "A105TOJ6LTVMBG         5.0         4.5         3.0    3.833333         2.5   \n",
       "A10AFVU66A79Y1         5.0         4.5         3.0    3.833333         2.5   \n",
       "\n",
       "productId       ...  B00L5YZCCG  B00L8I6SFY  B00L8QCVL6  B00LA6T0LS  \\\n",
       "userId          ...                                                   \n",
       "A100UD67AHFODS  ...         4.0         5.0         5.0         4.0   \n",
       "A100WO06OQR8BQ  ...         4.0         5.0         5.0         4.0   \n",
       "A105S56ODHGJEK  ...         4.0         5.0         5.0         4.0   \n",
       "A105TOJ6LTVMBG  ...         4.0         5.0         5.0         4.0   \n",
       "A10AFVU66A79Y1  ...         4.0         5.0         5.0         4.0   \n",
       "\n",
       "productId       B00LBZ1Z7K  B00LED02VY  B00LGN7Y3G  B00LGQ6HL8  B00LI4ZZO8  \\\n",
       "userId                                                                       \n",
       "A100UD67AHFODS         3.0         4.0         5.0         5.0         4.5   \n",
       "A100WO06OQR8BQ         3.0         4.0         5.0         5.0         4.5   \n",
       "A105S56ODHGJEK         3.0         4.0         5.0         5.0         4.5   \n",
       "A105TOJ6LTVMBG         3.0         4.0         5.0         5.0         4.5   \n",
       "A10AFVU66A79Y1         3.0         4.0         5.0         5.0         4.5   \n",
       "\n",
       "productId       B00LKG1MC8  \n",
       "userId                      \n",
       "A100UD67AHFODS         5.0  \n",
       "A100WO06OQR8BQ         5.0  \n",
       "A105S56ODHGJEK         5.0  \n",
       "A105TOJ6LTVMBG         5.0  \n",
       "A10AFVU66A79Y1         5.0  \n",
       "\n",
       "[5 rows x 48190 columns]"
      ]
     },
     "execution_count": 50,
     "metadata": {},
     "output_type": "execute_result"
    }
   ],
   "source": [
    "# Actual ratings given by the users\n",
    "final_ratings_matrix.head()"
   ]
  },
  {
   "cell_type": "code",
   "execution_count": 51,
   "metadata": {},
   "outputs": [
    {
     "data": {
      "text/plain": [
       "productId\n",
       "0594451647    5.000000\n",
       "0594481813    3.000000\n",
       "0970407998    2.500000\n",
       "0972683275    4.750000\n",
       "1400501466    3.333333\n",
       "dtype: float64"
      ]
     },
     "execution_count": 51,
     "metadata": {},
     "output_type": "execute_result"
    }
   ],
   "source": [
    "# Average Actual rating for each item\n",
    "final_ratings_matrix.mean().head()"
   ]
  },
  {
   "cell_type": "code",
   "execution_count": 52,
   "metadata": {},
   "outputs": [
    {
     "data": {
      "text/html": [
       "<div>\n",
       "<style scoped>\n",
       "    .dataframe tbody tr th:only-of-type {\n",
       "        vertical-align: middle;\n",
       "    }\n",
       "\n",
       "    .dataframe tbody tr th {\n",
       "        vertical-align: top;\n",
       "    }\n",
       "\n",
       "    .dataframe thead th {\n",
       "        text-align: right;\n",
       "    }\n",
       "</style>\n",
       "<table border=\"1\" class=\"dataframe\">\n",
       "  <thead>\n",
       "    <tr style=\"text-align: right;\">\n",
       "      <th>productId</th>\n",
       "      <th>0594451647</th>\n",
       "      <th>0594481813</th>\n",
       "      <th>0970407998</th>\n",
       "      <th>0972683275</th>\n",
       "      <th>1400501466</th>\n",
       "      <th>1400501520</th>\n",
       "      <th>1400501776</th>\n",
       "      <th>1400532620</th>\n",
       "      <th>1400532655</th>\n",
       "      <th>140053271X</th>\n",
       "      <th>...</th>\n",
       "      <th>B00L5YZCCG</th>\n",
       "      <th>B00L8I6SFY</th>\n",
       "      <th>B00L8QCVL6</th>\n",
       "      <th>B00LA6T0LS</th>\n",
       "      <th>B00LBZ1Z7K</th>\n",
       "      <th>B00LED02VY</th>\n",
       "      <th>B00LGN7Y3G</th>\n",
       "      <th>B00LGQ6HL8</th>\n",
       "      <th>B00LI4ZZO8</th>\n",
       "      <th>B00LKG1MC8</th>\n",
       "    </tr>\n",
       "  </thead>\n",
       "  <tbody>\n",
       "    <tr>\n",
       "      <th>0</th>\n",
       "      <td>5.000206</td>\n",
       "      <td>3.000123</td>\n",
       "      <td>2.499814</td>\n",
       "      <td>4.750204</td>\n",
       "      <td>3.333421</td>\n",
       "      <td>5.000206</td>\n",
       "      <td>4.500283</td>\n",
       "      <td>3.000325</td>\n",
       "      <td>3.833856</td>\n",
       "      <td>2.500236</td>\n",
       "      <td>...</td>\n",
       "      <td>4.000165</td>\n",
       "      <td>5.000206</td>\n",
       "      <td>5.000206</td>\n",
       "      <td>4.000165</td>\n",
       "      <td>3.000123</td>\n",
       "      <td>4.000165</td>\n",
       "      <td>5.000206</td>\n",
       "      <td>5.000206</td>\n",
       "      <td>4.499991</td>\n",
       "      <td>5.000206</td>\n",
       "    </tr>\n",
       "    <tr>\n",
       "      <th>1</th>\n",
       "      <td>5.000698</td>\n",
       "      <td>3.000419</td>\n",
       "      <td>2.512097</td>\n",
       "      <td>4.744042</td>\n",
       "      <td>3.342292</td>\n",
       "      <td>5.000698</td>\n",
       "      <td>4.512528</td>\n",
       "      <td>3.003193</td>\n",
       "      <td>3.852004</td>\n",
       "      <td>2.506053</td>\n",
       "      <td>...</td>\n",
       "      <td>4.000559</td>\n",
       "      <td>5.000698</td>\n",
       "      <td>5.000698</td>\n",
       "      <td>4.000559</td>\n",
       "      <td>3.000419</td>\n",
       "      <td>4.000559</td>\n",
       "      <td>5.000698</td>\n",
       "      <td>5.000698</td>\n",
       "      <td>4.496086</td>\n",
       "      <td>5.000698</td>\n",
       "    </tr>\n",
       "    <tr>\n",
       "      <th>2</th>\n",
       "      <td>4.999847</td>\n",
       "      <td>2.999908</td>\n",
       "      <td>2.500837</td>\n",
       "      <td>4.750344</td>\n",
       "      <td>3.332642</td>\n",
       "      <td>4.999847</td>\n",
       "      <td>4.499897</td>\n",
       "      <td>2.998982</td>\n",
       "      <td>3.833574</td>\n",
       "      <td>2.499981</td>\n",
       "      <td>...</td>\n",
       "      <td>3.999878</td>\n",
       "      <td>4.999847</td>\n",
       "      <td>4.999847</td>\n",
       "      <td>3.999878</td>\n",
       "      <td>2.999908</td>\n",
       "      <td>3.999878</td>\n",
       "      <td>4.999847</td>\n",
       "      <td>4.999847</td>\n",
       "      <td>4.500337</td>\n",
       "      <td>4.999847</td>\n",
       "    </tr>\n",
       "    <tr>\n",
       "      <th>3</th>\n",
       "      <td>4.999429</td>\n",
       "      <td>2.999658</td>\n",
       "      <td>2.497307</td>\n",
       "      <td>4.749658</td>\n",
       "      <td>3.332764</td>\n",
       "      <td>4.999429</td>\n",
       "      <td>4.499708</td>\n",
       "      <td>2.999225</td>\n",
       "      <td>3.834418</td>\n",
       "      <td>2.499620</td>\n",
       "      <td>...</td>\n",
       "      <td>3.999543</td>\n",
       "      <td>4.999429</td>\n",
       "      <td>4.999429</td>\n",
       "      <td>3.999543</td>\n",
       "      <td>2.999658</td>\n",
       "      <td>3.999543</td>\n",
       "      <td>4.999429</td>\n",
       "      <td>4.999429</td>\n",
       "      <td>4.499791</td>\n",
       "      <td>4.999429</td>\n",
       "    </tr>\n",
       "    <tr>\n",
       "      <th>4</th>\n",
       "      <td>5.000100</td>\n",
       "      <td>3.000060</td>\n",
       "      <td>2.500537</td>\n",
       "      <td>4.750312</td>\n",
       "      <td>3.333167</td>\n",
       "      <td>5.000100</td>\n",
       "      <td>4.500057</td>\n",
       "      <td>2.999728</td>\n",
       "      <td>3.833806</td>\n",
       "      <td>2.500370</td>\n",
       "      <td>...</td>\n",
       "      <td>4.000080</td>\n",
       "      <td>5.000100</td>\n",
       "      <td>5.000100</td>\n",
       "      <td>4.000080</td>\n",
       "      <td>3.000060</td>\n",
       "      <td>4.000080</td>\n",
       "      <td>5.000100</td>\n",
       "      <td>5.000100</td>\n",
       "      <td>4.500143</td>\n",
       "      <td>5.000100</td>\n",
       "    </tr>\n",
       "  </tbody>\n",
       "</table>\n",
       "<p>5 rows × 48190 columns</p>\n",
       "</div>"
      ],
      "text/plain": [
       "productId  0594451647  0594481813  0970407998  0972683275  1400501466  \\\n",
       "0            5.000206    3.000123    2.499814    4.750204    3.333421   \n",
       "1            5.000698    3.000419    2.512097    4.744042    3.342292   \n",
       "2            4.999847    2.999908    2.500837    4.750344    3.332642   \n",
       "3            4.999429    2.999658    2.497307    4.749658    3.332764   \n",
       "4            5.000100    3.000060    2.500537    4.750312    3.333167   \n",
       "\n",
       "productId  1400501520  1400501776  1400532620  1400532655  140053271X  ...  \\\n",
       "0            5.000206    4.500283    3.000325    3.833856    2.500236  ...   \n",
       "1            5.000698    4.512528    3.003193    3.852004    2.506053  ...   \n",
       "2            4.999847    4.499897    2.998982    3.833574    2.499981  ...   \n",
       "3            4.999429    4.499708    2.999225    3.834418    2.499620  ...   \n",
       "4            5.000100    4.500057    2.999728    3.833806    2.500370  ...   \n",
       "\n",
       "productId  B00L5YZCCG  B00L8I6SFY  B00L8QCVL6  B00LA6T0LS  B00LBZ1Z7K  \\\n",
       "0            4.000165    5.000206    5.000206    4.000165    3.000123   \n",
       "1            4.000559    5.000698    5.000698    4.000559    3.000419   \n",
       "2            3.999878    4.999847    4.999847    3.999878    2.999908   \n",
       "3            3.999543    4.999429    4.999429    3.999543    2.999658   \n",
       "4            4.000080    5.000100    5.000100    4.000080    3.000060   \n",
       "\n",
       "productId  B00LED02VY  B00LGN7Y3G  B00LGQ6HL8  B00LI4ZZO8  B00LKG1MC8  \n",
       "0            4.000165    5.000206    5.000206    4.499991    5.000206  \n",
       "1            4.000559    5.000698    5.000698    4.496086    5.000698  \n",
       "2            3.999878    4.999847    4.999847    4.500337    4.999847  \n",
       "3            3.999543    4.999429    4.999429    4.499791    4.999429  \n",
       "4            4.000080    5.000100    5.000100    4.500143    5.000100  \n",
       "\n",
       "[5 rows x 48190 columns]"
      ]
     },
     "execution_count": 52,
     "metadata": {},
     "output_type": "execute_result"
    }
   ],
   "source": [
    "# predicted ratings\n",
    "preds_df.head()"
   ]
  },
  {
   "cell_type": "code",
   "execution_count": 53,
   "metadata": {},
   "outputs": [
    {
     "name": "stdout",
     "output_type": "stream",
     "text": [
      "(48190, 2)\n"
     ]
    },
    {
     "data": {
      "text/html": [
       "<div>\n",
       "<style scoped>\n",
       "    .dataframe tbody tr th:only-of-type {\n",
       "        vertical-align: middle;\n",
       "    }\n",
       "\n",
       "    .dataframe tbody tr th {\n",
       "        vertical-align: top;\n",
       "    }\n",
       "\n",
       "    .dataframe thead th {\n",
       "        text-align: right;\n",
       "    }\n",
       "</style>\n",
       "<table border=\"1\" class=\"dataframe\">\n",
       "  <thead>\n",
       "    <tr style=\"text-align: right;\">\n",
       "      <th></th>\n",
       "      <th>Avg_actual_ratings</th>\n",
       "      <th>Avg_predicted_ratings</th>\n",
       "      <th>product_index</th>\n",
       "    </tr>\n",
       "    <tr>\n",
       "      <th>productId</th>\n",
       "      <th></th>\n",
       "      <th></th>\n",
       "      <th></th>\n",
       "    </tr>\n",
       "  </thead>\n",
       "  <tbody>\n",
       "    <tr>\n",
       "      <th>0594451647</th>\n",
       "      <td>5.000000</td>\n",
       "      <td>5.000000</td>\n",
       "      <td>0</td>\n",
       "    </tr>\n",
       "    <tr>\n",
       "      <th>0594481813</th>\n",
       "      <td>3.000000</td>\n",
       "      <td>3.000000</td>\n",
       "      <td>1</td>\n",
       "    </tr>\n",
       "    <tr>\n",
       "      <th>0970407998</th>\n",
       "      <td>2.500000</td>\n",
       "      <td>2.500000</td>\n",
       "      <td>2</td>\n",
       "    </tr>\n",
       "    <tr>\n",
       "      <th>0972683275</th>\n",
       "      <td>4.750000</td>\n",
       "      <td>4.750000</td>\n",
       "      <td>3</td>\n",
       "    </tr>\n",
       "    <tr>\n",
       "      <th>1400501466</th>\n",
       "      <td>3.333333</td>\n",
       "      <td>3.333333</td>\n",
       "      <td>4</td>\n",
       "    </tr>\n",
       "  </tbody>\n",
       "</table>\n",
       "</div>"
      ],
      "text/plain": [
       "            Avg_actual_ratings  Avg_predicted_ratings  product_index\n",
       "productId                                                           \n",
       "0594451647            5.000000               5.000000              0\n",
       "0594481813            3.000000               3.000000              1\n",
       "0970407998            2.500000               2.500000              2\n",
       "0972683275            4.750000               4.750000              3\n",
       "1400501466            3.333333               3.333333              4"
      ]
     },
     "execution_count": 53,
     "metadata": {},
     "output_type": "execute_result"
    }
   ],
   "source": [
    "rmse_df = pd.concat([final_ratings_matrix.mean(), preds_df.mean()] , axis =1)\n",
    "rmse_df.columns = ['Avg_actual_ratings', 'Avg_predicted_ratings']\n",
    "print(rmse_df.shape)\n",
    "rmse_df['product_index'] = np.arange(0, rmse_df.shape[0], 1)\n",
    "rmse_df.head()"
   ]
  },
  {
   "cell_type": "code",
   "execution_count": 54,
   "metadata": {},
   "outputs": [
    {
     "name": "stdout",
     "output_type": "stream",
     "text": [
      "\n",
      " RMSE SVD Model = 0.0\n",
      "\n"
     ]
    }
   ],
   "source": [
    "RMSE = round((((rmse_df.Avg_actual_ratings - rmse_df.Avg_predicted_ratings)**2).mean()**0.5),5)\n",
    "print('\\n RMSE SVD Model = {}\\n'.format(RMSE))"
   ]
  },
  {
   "cell_type": "markdown",
   "metadata": {},
   "source": [
    "<font color = Brown>\n",
    "\n",
    "### - Get top-K (K = 5) recommendations. Since our goal is to recommend new products to each user based on his/her habits, so we will recommend 5 new products"
   ]
  },
  {
   "cell_type": "code",
   "execution_count": 55,
   "metadata": {},
   "outputs": [
    {
     "name": "stdout",
     "output_type": "stream",
     "text": [
      "\n",
      "Below are the recommended items for user (user_id = 125:\n",
      ")\n",
      "                   user_ratings  user_predictions\n",
      "Recommended Items                                \n",
      "B00LKG1MC8                  5.0          5.000512\n",
      "B000QJ6KXQ                  5.0          5.000512\n",
      "B000QJ46SW                  5.0          5.000512\n",
      "B000QJ3IIG                  5.0          5.000512\n",
      "B000QJ34JE                  5.0          5.000512\n",
      "B000QIZXHG                  5.0          5.000512\n",
      "B000QGITWO                  5.0          5.000512\n",
      "B000QFSO5M                  5.0          5.000512\n",
      "B000QFKDJ2                  5.0          5.000512\n",
      "B000QFDIIU                  5.0          5.000512\n"
     ]
    }
   ],
   "source": [
    "# Enter 'userId' and 'num_recommendations' for the user\n",
    "userId = 125\n",
    "num_recommendations = 10\n",
    "recommend_items(userId, pivot_df, preds_df, num_recommendations)"
   ]
  },
  {
   "cell_type": "markdown",
   "metadata": {},
   "source": [
    "## <span style=\"font-family: Cambria; font-weight:bold;font-size:1 em;color:green;\">   6.b. Item-Item Collaborative Model\n",
    "<a id='O2b'></a>"
   ]
  },
  {
   "cell_type": "markdown",
   "metadata": {},
   "source": [
    "- This model is covered under Surprised library section "
   ]
  },
  {
   "cell_type": "markdown",
   "metadata": {},
   "source": [
    "## <span style=\"font-family: Cambria; font-weight:bold;font-size:1 em;color:green;\">   6.c. User-User Collaborative model\n",
    "<a id='O2c'></a>"
   ]
  },
  {
   "cell_type": "markdown",
   "metadata": {},
   "source": [
    "- This model is covered under Surprised library section"
   ]
  },
  {
   "cell_type": "markdown",
   "metadata": {},
   "source": [
    "## <span style=\"font-family: Times New Roman; font-weight:bold;font-size:1.3em;color:Purple;\"> 7. Operation -3: Collaborative Filtering Model using Surprise Library and it's evaluation\n",
    "<a id='O3'></a>"
   ]
  },
  {
   "cell_type": "markdown",
   "metadata": {},
   "source": [
    "#### Transform data to Surprise format"
   ]
  },
  {
   "cell_type": "code",
   "execution_count": 56,
   "metadata": {},
   "outputs": [],
   "source": [
    "from surprise import Dataset, Reader\n",
    "from surprise.model_selection import cross_validate\n",
    "from surprise import NormalPredictor\n",
    "from surprise import SVD, KNNWithMeans\n",
    "from surprise import accuracy\n",
    "\n",
    "\n",
    "reader = Reader(rating_scale = (1,5))"
   ]
  },
  {
   "cell_type": "code",
   "execution_count": 57,
   "metadata": {},
   "outputs": [
    {
     "data": {
      "text/html": [
       "<div>\n",
       "<style scoped>\n",
       "    .dataframe tbody tr th:only-of-type {\n",
       "        vertical-align: middle;\n",
       "    }\n",
       "\n",
       "    .dataframe tbody tr th {\n",
       "        vertical-align: top;\n",
       "    }\n",
       "\n",
       "    .dataframe thead th {\n",
       "        text-align: right;\n",
       "    }\n",
       "</style>\n",
       "<table border=\"1\" class=\"dataframe\">\n",
       "  <thead>\n",
       "    <tr style=\"text-align: right;\">\n",
       "      <th></th>\n",
       "      <th>userId</th>\n",
       "      <th>productId</th>\n",
       "      <th>ratings</th>\n",
       "    </tr>\n",
       "  </thead>\n",
       "  <tbody>\n",
       "    <tr>\n",
       "      <th>93</th>\n",
       "      <td>A3BY5KCNQZXV5U</td>\n",
       "      <td>0594451647</td>\n",
       "      <td>5.0</td>\n",
       "    </tr>\n",
       "    <tr>\n",
       "      <th>117</th>\n",
       "      <td>AT09WGFUM934H</td>\n",
       "      <td>0594481813</td>\n",
       "      <td>3.0</td>\n",
       "    </tr>\n",
       "  </tbody>\n",
       "</table>\n",
       "</div>"
      ],
      "text/plain": [
       "             userId   productId  ratings\n",
       "93   A3BY5KCNQZXV5U  0594451647      5.0\n",
       "117   AT09WGFUM934H  0594481813      3.0"
      ]
     },
     "execution_count": 57,
     "metadata": {},
     "output_type": "execute_result"
    }
   ],
   "source": [
    "ratings_50.head(2)"
   ]
  },
  {
   "cell_type": "code",
   "execution_count": 58,
   "metadata": {},
   "outputs": [
    {
     "data": {
      "text/plain": [
       "(125871, 3)"
      ]
     },
     "execution_count": 58,
     "metadata": {},
     "output_type": "execute_result"
    }
   ],
   "source": [
    "ratings_50.shape"
   ]
  },
  {
   "cell_type": "code",
   "execution_count": 59,
   "metadata": {},
   "outputs": [],
   "source": [
    "data = Dataset.load_from_df(ratings_50[['userId', 'productId', 'ratings' ]],reader)"
   ]
  },
  {
   "cell_type": "code",
   "execution_count": 60,
   "metadata": {},
   "outputs": [
    {
     "data": {
      "text/html": [
       "<div>\n",
       "<style scoped>\n",
       "    .dataframe tbody tr th:only-of-type {\n",
       "        vertical-align: middle;\n",
       "    }\n",
       "\n",
       "    .dataframe tbody tr th {\n",
       "        vertical-align: top;\n",
       "    }\n",
       "\n",
       "    .dataframe thead th {\n",
       "        text-align: right;\n",
       "    }\n",
       "</style>\n",
       "<table border=\"1\" class=\"dataframe\">\n",
       "  <thead>\n",
       "    <tr style=\"text-align: right;\">\n",
       "      <th></th>\n",
       "      <th>userId</th>\n",
       "      <th>productId</th>\n",
       "      <th>ratings</th>\n",
       "    </tr>\n",
       "  </thead>\n",
       "  <tbody>\n",
       "    <tr>\n",
       "      <th>93</th>\n",
       "      <td>A3BY5KCNQZXV5U</td>\n",
       "      <td>0594451647</td>\n",
       "      <td>5.0</td>\n",
       "    </tr>\n",
       "    <tr>\n",
       "      <th>117</th>\n",
       "      <td>AT09WGFUM934H</td>\n",
       "      <td>0594481813</td>\n",
       "      <td>3.0</td>\n",
       "    </tr>\n",
       "  </tbody>\n",
       "</table>\n",
       "</div>"
      ],
      "text/plain": [
       "             userId   productId  ratings\n",
       "93   A3BY5KCNQZXV5U  0594451647      5.0\n",
       "117   AT09WGFUM934H  0594481813      3.0"
      ]
     },
     "execution_count": 60,
     "metadata": {},
     "output_type": "execute_result"
    }
   ],
   "source": [
    "data.df.head(2)"
   ]
  },
  {
   "cell_type": "markdown",
   "metadata": {},
   "source": [
    "##### *Comments:*\n",
    "\n",
    "\n",
    "<font color = blue>\n",
    "\n",
    "\n",
    "- Here we will be dealing with surprise library to build SVD based, Item-Item & User-User Collaborative filtering recommendation models. \n",
    "- Here we are taking ratings from 1 to 5 through reader variable."
   ]
  },
  {
   "cell_type": "markdown",
   "metadata": {},
   "source": [
    "## <span style=\"font-family: Cambria; font-weight:bold;font-size:1 em;color:green;\">   7.a. Singular Value Decomposition (SVD)\n",
    "<a id='O3a'></a>"
   ]
  },
  {
   "cell_type": "code",
   "execution_count": 61,
   "metadata": {},
   "outputs": [],
   "source": [
    "from surprise import Dataset, Reader\n",
    "\n",
    "reader = Reader(rating_scale = (1,5))\n",
    "data = Dataset.load_from_df(ratings_50[['userId', 'productId', 'ratings' ]],reader)"
   ]
  },
  {
   "cell_type": "code",
   "execution_count": 62,
   "metadata": {},
   "outputs": [],
   "source": [
    "# split data set to train and test\n",
    "from surprise.model_selection import train_test_split\n",
    "trainset, testset = train_test_split(data, test_size = 0.30, random_state = 302578)"
   ]
  },
  {
   "cell_type": "code",
   "execution_count": 63,
   "metadata": {},
   "outputs": [
    {
     "data": {
      "text/plain": [
       "<generator object Trainset.all_ratings at 0x00000000937F1F48>"
      ]
     },
     "execution_count": 63,
     "metadata": {},
     "output_type": "execute_result"
    }
   ],
   "source": [
    "trainset.all_ratings()"
   ]
  },
  {
   "cell_type": "code",
   "execution_count": 64,
   "metadata": {},
   "outputs": [
    {
     "name": "stdout",
     "output_type": "stream",
     "text": [
      "A18L9A64XNGVGU\n"
     ]
    }
   ],
   "source": [
    "# However the ids are the inner ids and not the row ids\n",
    "# raw ids can be obtained as follows\n",
    "\n",
    "print(trainset.to_raw_uid(0))"
   ]
  },
  {
   "cell_type": "code",
   "execution_count": 65,
   "metadata": {},
   "outputs": [
    {
     "data": {
      "text/plain": [
       "<surprise.prediction_algorithms.matrix_factorization.SVD at 0x957f66c8>"
      ]
     },
     "execution_count": 65,
     "metadata": {},
     "output_type": "execute_result"
    }
   ],
   "source": [
    "svd_model= SVD(n_factors =5, biased=False)\n",
    "svd_model.fit(trainset)"
   ]
  },
  {
   "cell_type": "code",
   "execution_count": 66,
   "metadata": {},
   "outputs": [],
   "source": [
    "test_pred = svd_model.test(testset)"
   ]
  },
  {
   "cell_type": "code",
   "execution_count": 67,
   "metadata": {},
   "outputs": [
    {
     "data": {
      "text/html": [
       "<div>\n",
       "<style scoped>\n",
       "    .dataframe tbody tr th:only-of-type {\n",
       "        vertical-align: middle;\n",
       "    }\n",
       "\n",
       "    .dataframe tbody tr th {\n",
       "        vertical-align: top;\n",
       "    }\n",
       "\n",
       "    .dataframe thead th {\n",
       "        text-align: right;\n",
       "    }\n",
       "</style>\n",
       "<table border=\"1\" class=\"dataframe\">\n",
       "  <thead>\n",
       "    <tr style=\"text-align: right;\">\n",
       "      <th></th>\n",
       "      <th>uid</th>\n",
       "      <th>iid</th>\n",
       "      <th>r_ui</th>\n",
       "      <th>est</th>\n",
       "      <th>details</th>\n",
       "    </tr>\n",
       "  </thead>\n",
       "  <tbody>\n",
       "    <tr>\n",
       "      <th>0</th>\n",
       "      <td>ACP9S40H3SHY1</td>\n",
       "      <td>B004J1G2MQ</td>\n",
       "      <td>5.0</td>\n",
       "      <td>1.780432</td>\n",
       "      <td>{'was_impossible': False}</td>\n",
       "    </tr>\n",
       "    <tr>\n",
       "      <th>1</th>\n",
       "      <td>A11YIHB6IW352W</td>\n",
       "      <td>B00008Y1BX</td>\n",
       "      <td>5.0</td>\n",
       "      <td>1.804389</td>\n",
       "      <td>{'was_impossible': False}</td>\n",
       "    </tr>\n",
       "    <tr>\n",
       "      <th>2</th>\n",
       "      <td>A36K2N527TXXJN</td>\n",
       "      <td>B00HR3J65I</td>\n",
       "      <td>4.0</td>\n",
       "      <td>5.000000</td>\n",
       "      <td>{'was_impossible': False}</td>\n",
       "    </tr>\n",
       "    <tr>\n",
       "      <th>3</th>\n",
       "      <td>A3Q4TYJVAM4IRM</td>\n",
       "      <td>B000NBBWNU</td>\n",
       "      <td>5.0</td>\n",
       "      <td>4.261619</td>\n",
       "      <td>{'was_impossible': True, 'reason': 'User and i...</td>\n",
       "    </tr>\n",
       "    <tr>\n",
       "      <th>4</th>\n",
       "      <td>A3BACUOZV1M0WM</td>\n",
       "      <td>B000066CCU</td>\n",
       "      <td>4.0</td>\n",
       "      <td>2.632804</td>\n",
       "      <td>{'was_impossible': False}</td>\n",
       "    </tr>\n",
       "    <tr>\n",
       "      <th>5</th>\n",
       "      <td>A3MMR2WDKAK0PA</td>\n",
       "      <td>B000HKIPVE</td>\n",
       "      <td>3.0</td>\n",
       "      <td>1.206295</td>\n",
       "      <td>{'was_impossible': False}</td>\n",
       "    </tr>\n",
       "  </tbody>\n",
       "</table>\n",
       "</div>"
      ],
      "text/plain": [
       "              uid         iid  r_ui       est  \\\n",
       "0   ACP9S40H3SHY1  B004J1G2MQ   5.0  1.780432   \n",
       "1  A11YIHB6IW352W  B00008Y1BX   5.0  1.804389   \n",
       "2  A36K2N527TXXJN  B00HR3J65I   4.0  5.000000   \n",
       "3  A3Q4TYJVAM4IRM  B000NBBWNU   5.0  4.261619   \n",
       "4  A3BACUOZV1M0WM  B000066CCU   4.0  2.632804   \n",
       "5  A3MMR2WDKAK0PA  B000HKIPVE   3.0  1.206295   \n",
       "\n",
       "                                             details  \n",
       "0                          {'was_impossible': False}  \n",
       "1                          {'was_impossible': False}  \n",
       "2                          {'was_impossible': False}  \n",
       "3  {'was_impossible': True, 'reason': 'User and i...  \n",
       "4                          {'was_impossible': False}  \n",
       "5                          {'was_impossible': False}  "
      ]
     },
     "execution_count": 67,
     "metadata": {},
     "output_type": "execute_result"
    }
   ],
   "source": [
    "test_pred_pd = pd.DataFrame(test_pred)\n",
    "test_pred_pd.head(6)"
   ]
  },
  {
   "cell_type": "code",
   "execution_count": 68,
   "metadata": {},
   "outputs": [],
   "source": [
    "test_pred_pd.columns = ['userId', 'productId', 'actual', 'cf_predicted', 'details']"
   ]
  },
  {
   "cell_type": "code",
   "execution_count": 69,
   "metadata": {},
   "outputs": [
    {
     "data": {
      "text/html": [
       "<div>\n",
       "<style scoped>\n",
       "    .dataframe tbody tr th:only-of-type {\n",
       "        vertical-align: middle;\n",
       "    }\n",
       "\n",
       "    .dataframe tbody tr th {\n",
       "        vertical-align: top;\n",
       "    }\n",
       "\n",
       "    .dataframe thead th {\n",
       "        text-align: right;\n",
       "    }\n",
       "</style>\n",
       "<table border=\"1\" class=\"dataframe\">\n",
       "  <thead>\n",
       "    <tr style=\"text-align: right;\">\n",
       "      <th></th>\n",
       "      <th>userId</th>\n",
       "      <th>productId</th>\n",
       "      <th>actual</th>\n",
       "      <th>cf_predicted</th>\n",
       "      <th>details</th>\n",
       "    </tr>\n",
       "  </thead>\n",
       "  <tbody>\n",
       "    <tr>\n",
       "      <th>0</th>\n",
       "      <td>ACP9S40H3SHY1</td>\n",
       "      <td>B004J1G2MQ</td>\n",
       "      <td>5.0</td>\n",
       "      <td>1.780432</td>\n",
       "      <td>{'was_impossible': False}</td>\n",
       "    </tr>\n",
       "    <tr>\n",
       "      <th>1</th>\n",
       "      <td>A11YIHB6IW352W</td>\n",
       "      <td>B00008Y1BX</td>\n",
       "      <td>5.0</td>\n",
       "      <td>1.804389</td>\n",
       "      <td>{'was_impossible': False}</td>\n",
       "    </tr>\n",
       "    <tr>\n",
       "      <th>2</th>\n",
       "      <td>A36K2N527TXXJN</td>\n",
       "      <td>B00HR3J65I</td>\n",
       "      <td>4.0</td>\n",
       "      <td>5.000000</td>\n",
       "      <td>{'was_impossible': False}</td>\n",
       "    </tr>\n",
       "    <tr>\n",
       "      <th>3</th>\n",
       "      <td>A3Q4TYJVAM4IRM</td>\n",
       "      <td>B000NBBWNU</td>\n",
       "      <td>5.0</td>\n",
       "      <td>4.261619</td>\n",
       "      <td>{'was_impossible': True, 'reason': 'User and i...</td>\n",
       "    </tr>\n",
       "    <tr>\n",
       "      <th>4</th>\n",
       "      <td>A3BACUOZV1M0WM</td>\n",
       "      <td>B000066CCU</td>\n",
       "      <td>4.0</td>\n",
       "      <td>2.632804</td>\n",
       "      <td>{'was_impossible': False}</td>\n",
       "    </tr>\n",
       "  </tbody>\n",
       "</table>\n",
       "</div>"
      ],
      "text/plain": [
       "           userId   productId  actual  cf_predicted  \\\n",
       "0   ACP9S40H3SHY1  B004J1G2MQ     5.0      1.780432   \n",
       "1  A11YIHB6IW352W  B00008Y1BX     5.0      1.804389   \n",
       "2  A36K2N527TXXJN  B00HR3J65I     4.0      5.000000   \n",
       "3  A3Q4TYJVAM4IRM  B000NBBWNU     5.0      4.261619   \n",
       "4  A3BACUOZV1M0WM  B000066CCU     4.0      2.632804   \n",
       "\n",
       "                                             details  \n",
       "0                          {'was_impossible': False}  \n",
       "1                          {'was_impossible': False}  \n",
       "2                          {'was_impossible': False}  \n",
       "3  {'was_impossible': True, 'reason': 'User and i...  \n",
       "4                          {'was_impossible': False}  "
      ]
     },
     "execution_count": 69,
     "metadata": {},
     "output_type": "execute_result"
    }
   ],
   "source": [
    "test_pred_pd.head()"
   ]
  },
  {
   "cell_type": "code",
   "execution_count": 70,
   "metadata": {},
   "outputs": [
    {
     "name": "stdout",
     "output_type": "stream",
     "text": [
      "2.89102515139455\n",
      "1.7003014883821488\n"
     ]
    }
   ],
   "source": [
    "# evaluate model with MSE and RMSE\n",
    "print(recmetrics.mse(test_pred_pd.actual, test_pred_pd.cf_predicted))\n",
    "print(recmetrics.rmse(test_pred_pd.actual, test_pred_pd.cf_predicted))"
   ]
  },
  {
   "cell_type": "code",
   "execution_count": 71,
   "metadata": {},
   "outputs": [
    {
     "name": "stdout",
     "output_type": "stream",
     "text": [
      "RMSE: 1.7003\n"
     ]
    },
    {
     "data": {
      "text/plain": [
       "1.7003014883821488"
      ]
     },
     "execution_count": 71,
     "metadata": {},
     "output_type": "execute_result"
    }
   ],
   "source": [
    "# compute RMSE\n",
    "accuracy.rmse((test_pred))"
   ]
  },
  {
   "cell_type": "code",
   "execution_count": 72,
   "metadata": {},
   "outputs": [],
   "source": [
    "# Create model (matrix of predicted values)\n",
    "cf_model = test_pred_pd.pivot_table(index = 'userId', columns = 'productId', values = 'cf_predicted').fillna(0)"
   ]
  },
  {
   "cell_type": "code",
   "execution_count": 73,
   "metadata": {},
   "outputs": [],
   "source": [
    "def get_users_predictions(user_id, n, model):\n",
    "    recommended_items = pd.DataFrame(model.loc[user_id])\n",
    "    recommended_items.columns = ['predicted_rating']\n",
    "    recommended_items = recommended_items.sort_values('predicted_rating', ascending = False)\n",
    "    recommended_items = recommended_items.head(n)\n",
    "    return recommended_items.index.tolist()"
   ]
  },
  {
   "cell_type": "code",
   "execution_count": 74,
   "metadata": {},
   "outputs": [
    {
     "data": {
      "text/plain": [
       "['B001MSU1HG',\n",
       " 'B002JQNXZC',\n",
       " 'B007ARLMI0',\n",
       " 'B000YQT78G',\n",
       " 'B008XG1N72',\n",
       " 'B003CH5346',\n",
       " 'B000R4OUNC',\n",
       " 'B008R6OPJQ',\n",
       " 'B005KG44V0',\n",
       " 'B004O0PAKW']"
      ]
     },
     "execution_count": 74,
     "metadata": {},
     "output_type": "execute_result"
    }
   ],
   "source": [
    "# get example prediction\n",
    "get_users_predictions('A11YIHB6IW352W', 10, cf_model)"
   ]
  },
  {
   "cell_type": "markdown",
   "metadata": {},
   "source": [
    "#### *Comments:*\n",
    "\n",
    "\n",
    "<font color = blue>\n",
    "\n",
    "- These are the products recommended for the user 'A11YIHB6IW352W' in descending order. It means, the 1st product has received the highest rating followed by the other products listed in the above example.\n",
    "- Lets now make this recommendation for the users and products present in the test data.\n"
   ]
  },
  {
   "cell_type": "code",
   "execution_count": 75,
   "metadata": {},
   "outputs": [
    {
     "data": {
      "text/html": [
       "<div>\n",
       "<style scoped>\n",
       "    .dataframe tbody tr th:only-of-type {\n",
       "        vertical-align: middle;\n",
       "    }\n",
       "\n",
       "    .dataframe tbody tr th {\n",
       "        vertical-align: top;\n",
       "    }\n",
       "\n",
       "    .dataframe thead th {\n",
       "        text-align: right;\n",
       "    }\n",
       "</style>\n",
       "<table border=\"1\" class=\"dataframe\">\n",
       "  <thead>\n",
       "    <tr style=\"text-align: right;\">\n",
       "      <th></th>\n",
       "      <th>actual</th>\n",
       "      <th>cf_predictions</th>\n",
       "    </tr>\n",
       "    <tr>\n",
       "      <th>userId</th>\n",
       "      <th></th>\n",
       "      <th></th>\n",
       "    </tr>\n",
       "  </thead>\n",
       "  <tbody>\n",
       "    <tr>\n",
       "      <th>A100UD67AHFODS</th>\n",
       "      <td>[B000ERAOL4, B00176NOCM, B001JIBOLQ, B000233WJ...</td>\n",
       "      <td>[B000Q8UAWY, B009B0MY6S, B0002KVQBA, B0097BEFY...</td>\n",
       "    </tr>\n",
       "    <tr>\n",
       "      <th>A100WO06OQR8BQ</th>\n",
       "      <td>[B0002L5R78, B002R5AM7C, B00AJHDZSI, B004CLYEH...</td>\n",
       "      <td>[B004CLYEH8, B0002CPBWI, B008DWCRQW, B001BRP1K...</td>\n",
       "    </tr>\n",
       "    <tr>\n",
       "      <th>A105S56ODHGJEK</th>\n",
       "      <td>[B00G6CLNCK, B00829TIEK, B00829TIA4, B001O5CCQ...</td>\n",
       "      <td>[B001NTFATI, B001O5CCQK, B00IVFDZBC, B00829TIA...</td>\n",
       "    </tr>\n",
       "    <tr>\n",
       "      <th>A105TOJ6LTVMBG</th>\n",
       "      <td>[B00182CIB8, B002Y32Z5O, B001AZV2WY, B000SEN9U...</td>\n",
       "      <td>[B00182CIB8, B000C77B4O, B004FV67YS, B002Y32Z5...</td>\n",
       "    </tr>\n",
       "    <tr>\n",
       "      <th>A10AFVU66A79Y1</th>\n",
       "      <td>[B007B64ND6, B005H7MXZ6, B003SX0NF8, B00DY2Y28...</td>\n",
       "      <td>[B00DY2Y28M, B004AS3ZQO, B00452V1ZW, B002FL507...</td>\n",
       "    </tr>\n",
       "  </tbody>\n",
       "</table>\n",
       "</div>"
      ],
      "text/plain": [
       "                                                           actual  \\\n",
       "userId                                                              \n",
       "A100UD67AHFODS  [B000ERAOL4, B00176NOCM, B001JIBOLQ, B000233WJ...   \n",
       "A100WO06OQR8BQ  [B0002L5R78, B002R5AM7C, B00AJHDZSI, B004CLYEH...   \n",
       "A105S56ODHGJEK  [B00G6CLNCK, B00829TIEK, B00829TIA4, B001O5CCQ...   \n",
       "A105TOJ6LTVMBG  [B00182CIB8, B002Y32Z5O, B001AZV2WY, B000SEN9U...   \n",
       "A10AFVU66A79Y1  [B007B64ND6, B005H7MXZ6, B003SX0NF8, B00DY2Y28...   \n",
       "\n",
       "                                                   cf_predictions  \n",
       "userId                                                             \n",
       "A100UD67AHFODS  [B000Q8UAWY, B009B0MY6S, B0002KVQBA, B0097BEFY...  \n",
       "A100WO06OQR8BQ  [B004CLYEH8, B0002CPBWI, B008DWCRQW, B001BRP1K...  \n",
       "A105S56ODHGJEK  [B001NTFATI, B001O5CCQK, B00IVFDZBC, B00829TIA...  \n",
       "A105TOJ6LTVMBG  [B00182CIB8, B000C77B4O, B004FV67YS, B002Y32Z5...  \n",
       "A10AFVU66A79Y1  [B00DY2Y28M, B004AS3ZQO, B00452V1ZW, B002FL507...  "
      ]
     },
     "execution_count": 75,
     "metadata": {},
     "output_type": "execute_result"
    }
   ],
   "source": [
    "# format test data\n",
    "test = test_pred_pd.copy().groupby('userId')['productId'].agg(actual =  (lambda x: list(set(x))))\n",
    "\n",
    "# make recommendations for all members in the test data\n",
    "cf_recs = [] = []\n",
    "for user in test.index:\n",
    "    cf_predictions = get_users_predictions(user, 10, cf_model)\n",
    "    cf_recs.append(cf_predictions)\n",
    "    \n",
    "test['cf_predictions'] = cf_recs\n",
    "test.head()"
   ]
  },
  {
   "cell_type": "markdown",
   "metadata": {},
   "source": [
    "\n",
    "<font color = blue>\n",
    "\n",
    "\n",
    "- Actual column shows the products preferred by the corresponding users, and cf_predictions column shows the recommended products by the model for same users.\n"
   ]
  },
  {
   "cell_type": "markdown",
   "metadata": {},
   "source": [
    "## <span style=\"font-family: Cambria; font-weight:bold;font-size:1 em;color:green;\">   7.b. Item-Item Collaborative Model\n",
    "<a id='O3b'></a>"
   ]
  },
  {
   "cell_type": "markdown",
   "metadata": {},
   "source": [
    "### KNNWithMeans"
   ]
  },
  {
   "cell_type": "code",
   "execution_count": 76,
   "metadata": {},
   "outputs": [
    {
     "name": "stdout",
     "output_type": "stream",
     "text": [
      "Computing the msd similarity matrix...\n"
     ]
    },
    {
     "ename": "MemoryError",
     "evalue": "Unable to allocate 10.9 GiB for an array with shape (38257, 38257) and data type float64",
     "output_type": "error",
     "traceback": [
      "\u001b[1;31m---------------------------------------------------------------------------\u001b[0m",
      "\u001b[1;31mMemoryError\u001b[0m                               Traceback (most recent call last)",
      "\u001b[1;32m<ipython-input-76-79097f463872>\u001b[0m in \u001b[0;36m<module>\u001b[1;34m\u001b[0m\n\u001b[0;32m      5\u001b[0m \u001b[1;33m\u001b[0m\u001b[0m\n\u001b[0;32m      6\u001b[0m \u001b[1;33m\u001b[0m\u001b[0m\n\u001b[1;32m----> 7\u001b[1;33m \u001b[0malgo_i\u001b[0m\u001b[1;33m.\u001b[0m\u001b[0mfit\u001b[0m\u001b[1;33m(\u001b[0m\u001b[0mtrainset\u001b[0m\u001b[1;33m)\u001b[0m\u001b[1;33m\u001b[0m\u001b[1;33m\u001b[0m\u001b[0m\n\u001b[0m",
      "\u001b[1;32m~\\anaconda3\\lib\\site-packages\\surprise\\prediction_algorithms\\knns.py\u001b[0m in \u001b[0;36mfit\u001b[1;34m(self, trainset)\u001b[0m\n\u001b[0;32m    176\u001b[0m \u001b[1;33m\u001b[0m\u001b[0m\n\u001b[0;32m    177\u001b[0m         \u001b[0mSymmetricAlgo\u001b[0m\u001b[1;33m.\u001b[0m\u001b[0mfit\u001b[0m\u001b[1;33m(\u001b[0m\u001b[0mself\u001b[0m\u001b[1;33m,\u001b[0m \u001b[0mtrainset\u001b[0m\u001b[1;33m)\u001b[0m\u001b[1;33m\u001b[0m\u001b[1;33m\u001b[0m\u001b[0m\n\u001b[1;32m--> 178\u001b[1;33m         \u001b[0mself\u001b[0m\u001b[1;33m.\u001b[0m\u001b[0msim\u001b[0m \u001b[1;33m=\u001b[0m \u001b[0mself\u001b[0m\u001b[1;33m.\u001b[0m\u001b[0mcompute_similarities\u001b[0m\u001b[1;33m(\u001b[0m\u001b[1;33m)\u001b[0m\u001b[1;33m\u001b[0m\u001b[1;33m\u001b[0m\u001b[0m\n\u001b[0m\u001b[0;32m    179\u001b[0m \u001b[1;33m\u001b[0m\u001b[0m\n\u001b[0;32m    180\u001b[0m         \u001b[0mself\u001b[0m\u001b[1;33m.\u001b[0m\u001b[0mmeans\u001b[0m \u001b[1;33m=\u001b[0m \u001b[0mnp\u001b[0m\u001b[1;33m.\u001b[0m\u001b[0mzeros\u001b[0m\u001b[1;33m(\u001b[0m\u001b[0mself\u001b[0m\u001b[1;33m.\u001b[0m\u001b[0mn_x\u001b[0m\u001b[1;33m)\u001b[0m\u001b[1;33m\u001b[0m\u001b[1;33m\u001b[0m\u001b[0m\n",
      "\u001b[1;32m~\\anaconda3\\lib\\site-packages\\surprise\\prediction_algorithms\\algo_base.py\u001b[0m in \u001b[0;36mcompute_similarities\u001b[1;34m(self)\u001b[0m\n\u001b[0;32m    247\u001b[0m             \u001b[1;32mif\u001b[0m \u001b[0mgetattr\u001b[0m\u001b[1;33m(\u001b[0m\u001b[0mself\u001b[0m\u001b[1;33m,\u001b[0m \u001b[1;34m'verbose'\u001b[0m\u001b[1;33m,\u001b[0m \u001b[1;32mFalse\u001b[0m\u001b[1;33m)\u001b[0m\u001b[1;33m:\u001b[0m\u001b[1;33m\u001b[0m\u001b[1;33m\u001b[0m\u001b[0m\n\u001b[0;32m    248\u001b[0m                 \u001b[0mprint\u001b[0m\u001b[1;33m(\u001b[0m\u001b[1;34m'Computing the {0} similarity matrix...'\u001b[0m\u001b[1;33m.\u001b[0m\u001b[0mformat\u001b[0m\u001b[1;33m(\u001b[0m\u001b[0mname\u001b[0m\u001b[1;33m)\u001b[0m\u001b[1;33m)\u001b[0m\u001b[1;33m\u001b[0m\u001b[1;33m\u001b[0m\u001b[0m\n\u001b[1;32m--> 249\u001b[1;33m             \u001b[0msim\u001b[0m \u001b[1;33m=\u001b[0m \u001b[0mconstruction_func\u001b[0m\u001b[1;33m[\u001b[0m\u001b[0mname\u001b[0m\u001b[1;33m]\u001b[0m\u001b[1;33m(\u001b[0m\u001b[1;33m*\u001b[0m\u001b[0margs\u001b[0m\u001b[1;33m)\u001b[0m\u001b[1;33m\u001b[0m\u001b[1;33m\u001b[0m\u001b[0m\n\u001b[0m\u001b[0;32m    250\u001b[0m             \u001b[1;32mif\u001b[0m \u001b[0mgetattr\u001b[0m\u001b[1;33m(\u001b[0m\u001b[0mself\u001b[0m\u001b[1;33m,\u001b[0m \u001b[1;34m'verbose'\u001b[0m\u001b[1;33m,\u001b[0m \u001b[1;32mFalse\u001b[0m\u001b[1;33m)\u001b[0m\u001b[1;33m:\u001b[0m\u001b[1;33m\u001b[0m\u001b[1;33m\u001b[0m\u001b[0m\n\u001b[0;32m    251\u001b[0m                 \u001b[0mprint\u001b[0m\u001b[1;33m(\u001b[0m\u001b[1;34m'Done computing similarity matrix.'\u001b[0m\u001b[1;33m)\u001b[0m\u001b[1;33m\u001b[0m\u001b[1;33m\u001b[0m\u001b[0m\n",
      "\u001b[1;32m~\\anaconda3\\lib\\site-packages\\surprise\\similarities.pyx\u001b[0m in \u001b[0;36msurprise.similarities.msd\u001b[1;34m()\u001b[0m\n",
      "\u001b[1;31mMemoryError\u001b[0m: Unable to allocate 10.9 GiB for an array with shape (38257, 38257) and data type float64"
     ]
    }
   ],
   "source": [
    "from surprise import KNNWithMeans\n",
    "from surprise import accuracy\n",
    "\n",
    "algo_i = KNNWithMeans(k=12, sim_options={ 'user_based': False})\n",
    " \n",
    "\n",
    "algo_i.fit(trainset)"
   ]
  },
  {
   "cell_type": "markdown",
   "metadata": {},
   "source": [
    "### NB:\n",
    "\n",
    "<font color = blue>\n",
    "\n",
    "\n",
    "- Due to the insufficient memory, machine can't allocate memory for calculation, so we can make it less sparse or dense by taking the users who have rated more than 150 products."
   ]
  },
  {
   "cell_type": "code",
   "execution_count": 160,
   "metadata": {},
   "outputs": [],
   "source": [
    "ratings_150 = dff[dff['userId'].isin(count[count>=157].index)]"
   ]
  },
  {
   "cell_type": "code",
   "execution_count": 161,
   "metadata": {},
   "outputs": [
    {
     "data": {
      "text/plain": [
       "(20888, 3)"
      ]
     },
     "execution_count": 161,
     "metadata": {},
     "output_type": "execute_result"
    }
   ],
   "source": [
    "ratings_150.shape"
   ]
  },
  {
   "cell_type": "code",
   "execution_count": 162,
   "metadata": {},
   "outputs": [
    {
     "data": {
      "text/html": [
       "<div>\n",
       "<style scoped>\n",
       "    .dataframe tbody tr th:only-of-type {\n",
       "        vertical-align: middle;\n",
       "    }\n",
       "\n",
       "    .dataframe tbody tr th {\n",
       "        vertical-align: top;\n",
       "    }\n",
       "\n",
       "    .dataframe thead th {\n",
       "        text-align: right;\n",
       "    }\n",
       "</style>\n",
       "<table border=\"1\" class=\"dataframe\">\n",
       "  <thead>\n",
       "    <tr style=\"text-align: right;\">\n",
       "      <th></th>\n",
       "      <th>0</th>\n",
       "    </tr>\n",
       "  </thead>\n",
       "  <tbody>\n",
       "    <tr>\n",
       "      <th>0</th>\n",
       "      <td>92</td>\n",
       "    </tr>\n",
       "    <tr>\n",
       "      <th>1</th>\n",
       "      <td>12942</td>\n",
       "    </tr>\n",
       "    <tr>\n",
       "      <th>2</th>\n",
       "      <td>5</td>\n",
       "    </tr>\n",
       "  </tbody>\n",
       "</table>\n",
       "</div>"
      ],
      "text/plain": [
       "       0\n",
       "0     92\n",
       "1  12942\n",
       "2      5"
      ]
     },
     "execution_count": 162,
     "metadata": {},
     "output_type": "execute_result"
    }
   ],
   "source": [
    "pd.DataFrame(ratings_150.nunique().values)"
   ]
  },
  {
   "cell_type": "markdown",
   "metadata": {},
   "source": [
    "\n",
    "<font color = blue>\n",
    "\n",
    "- So, we have total 92 users and 12942 products after taking the users who have rated more than 150 items."
   ]
  },
  {
   "cell_type": "code",
   "execution_count": 163,
   "metadata": {},
   "outputs": [
    {
     "data": {
      "image/png": "[encoded data removed]",
      "text/plain": [
       "<Figure size 1080x504 with 1 Axes>"
      ]
     },
     "metadata": {
      "needs_background": "light"
     },
     "output_type": "display_data"
    }
   ],
   "source": [
    "import matplotlib.pyplot as plt\n",
    "fig = plt.figure(figsize=(15, 7))\n",
    "recmetrics.long_tail_plot(df = ratings_150, \n",
    "             item_id_column=\"productId\", \n",
    "             interaction_type=\"item ratings\", \n",
    "             percentage=0.5,\n",
    "             x_labels=False)"
   ]
  },
  {
   "cell_type": "code",
   "execution_count": 164,
   "metadata": {},
   "outputs": [],
   "source": [
    "reader = Reader(rating_scale = (1,5))\n",
    "data_150 = Dataset.load_from_df(ratings_150[['userId', 'productId', 'ratings' ]],reader)"
   ]
  },
  {
   "cell_type": "code",
   "execution_count": 165,
   "metadata": {},
   "outputs": [],
   "source": [
    "trainset_150, testset_150= train_test_split(data_150, test_size = 0.30, random_state = 302578)"
   ]
  },
  {
   "cell_type": "code",
   "execution_count": 166,
   "metadata": {},
   "outputs": [
    {
     "data": {
      "text/plain": [
       "<generator object Trainset.all_ratings at 0x00000000127D6F48>"
      ]
     },
     "execution_count": 166,
     "metadata": {},
     "output_type": "execute_result"
    }
   ],
   "source": [
    "trainset_150.all_ratings()"
   ]
  },
  {
   "cell_type": "code",
   "execution_count": 167,
   "metadata": {},
   "outputs": [
    {
     "name": "stdout",
     "output_type": "stream",
     "text": [
      "A250AXLRBVYKB4\n"
     ]
    }
   ],
   "source": [
    "print(trainset_150.to_raw_uid(0))"
   ]
  },
  {
   "cell_type": "markdown",
   "metadata": {},
   "source": [
    "\n",
    "<font color = blue>\n",
    "\n",
    "    \n",
    "- Let's import the item based collaborative filtering model through KNN with the help of 50 neighbours. In this collaborative filtering model mean ratings of each user is considered."
   ]
  },
  {
   "cell_type": "code",
   "execution_count": 168,
   "metadata": {},
   "outputs": [
    {
     "name": "stdout",
     "output_type": "stream",
     "text": [
      "Computing the msd similarity matrix...\n",
      "Done computing similarity matrix.\n"
     ]
    },
    {
     "data": {
      "text/plain": [
       "<surprise.prediction_algorithms.knns.KNNWithMeans at 0x1358fc48>"
      ]
     },
     "execution_count": 168,
     "metadata": {},
     "output_type": "execute_result"
    }
   ],
   "source": [
    "algo_i = KNNWithMeans(k=50, sim_options={  'user_based': False})\n",
    " \n",
    "\n",
    "algo_i.fit(trainset_150)"
   ]
  },
  {
   "cell_type": "markdown",
   "metadata": {},
   "source": [
    "<font color = blue>\n",
    "\n",
    "- After training the model through trainset, now we will test it and predict the estimated ratings for each user."
   ]
  },
  {
   "cell_type": "code",
   "execution_count": 169,
   "metadata": {},
   "outputs": [
    {
     "data": {
      "text/html": [
       "<div>\n",
       "<style scoped>\n",
       "    .dataframe tbody tr th:only-of-type {\n",
       "        vertical-align: middle;\n",
       "    }\n",
       "\n",
       "    .dataframe tbody tr th {\n",
       "        vertical-align: top;\n",
       "    }\n",
       "\n",
       "    .dataframe thead th {\n",
       "        text-align: right;\n",
       "    }\n",
       "</style>\n",
       "<table border=\"1\" class=\"dataframe\">\n",
       "  <thead>\n",
       "    <tr style=\"text-align: right;\">\n",
       "      <th></th>\n",
       "      <th>uid</th>\n",
       "      <th>iid</th>\n",
       "      <th>r_ui</th>\n",
       "      <th>est</th>\n",
       "      <th>details</th>\n",
       "    </tr>\n",
       "  </thead>\n",
       "  <tbody>\n",
       "    <tr>\n",
       "      <th>0</th>\n",
       "      <td>A1BT6TL7UCIC5Y</td>\n",
       "      <td>B00452V1TS</td>\n",
       "      <td>5.0</td>\n",
       "      <td>4.306887</td>\n",
       "      <td>{'was_impossible': True, 'reason': 'User and/o...</td>\n",
       "    </tr>\n",
       "    <tr>\n",
       "      <th>1</th>\n",
       "      <td>A1ODOGXEYECQQ8</td>\n",
       "      <td>B0050MM40C</td>\n",
       "      <td>5.0</td>\n",
       "      <td>4.306887</td>\n",
       "      <td>{'was_impossible': True, 'reason': 'User and/o...</td>\n",
       "    </tr>\n",
       "    <tr>\n",
       "      <th>2</th>\n",
       "      <td>A3OXHLG6DIBRW8</td>\n",
       "      <td>B00CSDMWGW</td>\n",
       "      <td>5.0</td>\n",
       "      <td>5.000000</td>\n",
       "      <td>{'actual_k': 26, 'was_impossible': False}</td>\n",
       "    </tr>\n",
       "    <tr>\n",
       "      <th>3</th>\n",
       "      <td>A2AY4YUOX2N1BQ</td>\n",
       "      <td>B0044XTJ10</td>\n",
       "      <td>5.0</td>\n",
       "      <td>5.000000</td>\n",
       "      <td>{'actual_k': 1, 'was_impossible': False}</td>\n",
       "    </tr>\n",
       "    <tr>\n",
       "      <th>4</th>\n",
       "      <td>A1ODOGXEYECQQ8</td>\n",
       "      <td>B000B69WVG</td>\n",
       "      <td>5.0</td>\n",
       "      <td>4.306887</td>\n",
       "      <td>{'was_impossible': True, 'reason': 'User and/o...</td>\n",
       "    </tr>\n",
       "  </tbody>\n",
       "</table>\n",
       "</div>"
      ],
      "text/plain": [
       "              uid         iid  r_ui       est  \\\n",
       "0  A1BT6TL7UCIC5Y  B00452V1TS   5.0  4.306887   \n",
       "1  A1ODOGXEYECQQ8  B0050MM40C   5.0  4.306887   \n",
       "2  A3OXHLG6DIBRW8  B00CSDMWGW   5.0  5.000000   \n",
       "3  A2AY4YUOX2N1BQ  B0044XTJ10   5.0  5.000000   \n",
       "4  A1ODOGXEYECQQ8  B000B69WVG   5.0  4.306887   \n",
       "\n",
       "                                             details  \n",
       "0  {'was_impossible': True, 'reason': 'User and/o...  \n",
       "1  {'was_impossible': True, 'reason': 'User and/o...  \n",
       "2          {'actual_k': 26, 'was_impossible': False}  \n",
       "3           {'actual_k': 1, 'was_impossible': False}  \n",
       "4  {'was_impossible': True, 'reason': 'User and/o...  "
      ]
     },
     "execution_count": 169,
     "metadata": {},
     "output_type": "execute_result"
    }
   ],
   "source": [
    "test_i = algo_i.test(testset_150)\n",
    "test_i = pd.DataFrame(test_i)\n",
    "test_i.head()"
   ]
  },
  {
   "cell_type": "markdown",
   "metadata": {},
   "source": [
    "<font color = blue>\n",
    "    \n",
    "- To make it more simplier, we will rename the columns."
   ]
  },
  {
   "cell_type": "code",
   "execution_count": 170,
   "metadata": {},
   "outputs": [
    {
     "data": {
      "text/html": [
       "<div>\n",
       "<style scoped>\n",
       "    .dataframe tbody tr th:only-of-type {\n",
       "        vertical-align: middle;\n",
       "    }\n",
       "\n",
       "    .dataframe tbody tr th {\n",
       "        vertical-align: top;\n",
       "    }\n",
       "\n",
       "    .dataframe thead th {\n",
       "        text-align: right;\n",
       "    }\n",
       "</style>\n",
       "<table border=\"1\" class=\"dataframe\">\n",
       "  <thead>\n",
       "    <tr style=\"text-align: right;\">\n",
       "      <th></th>\n",
       "      <th>userId</th>\n",
       "      <th>productId</th>\n",
       "      <th>actual</th>\n",
       "      <th>cf_predicted</th>\n",
       "      <th>details</th>\n",
       "    </tr>\n",
       "  </thead>\n",
       "  <tbody>\n",
       "    <tr>\n",
       "      <th>0</th>\n",
       "      <td>A1BT6TL7UCIC5Y</td>\n",
       "      <td>B00452V1TS</td>\n",
       "      <td>5.0</td>\n",
       "      <td>4.306887</td>\n",
       "      <td>{'was_impossible': True, 'reason': 'User and/o...</td>\n",
       "    </tr>\n",
       "    <tr>\n",
       "      <th>1</th>\n",
       "      <td>A1ODOGXEYECQQ8</td>\n",
       "      <td>B0050MM40C</td>\n",
       "      <td>5.0</td>\n",
       "      <td>4.306887</td>\n",
       "      <td>{'was_impossible': True, 'reason': 'User and/o...</td>\n",
       "    </tr>\n",
       "    <tr>\n",
       "      <th>2</th>\n",
       "      <td>A3OXHLG6DIBRW8</td>\n",
       "      <td>B00CSDMWGW</td>\n",
       "      <td>5.0</td>\n",
       "      <td>5.000000</td>\n",
       "      <td>{'actual_k': 26, 'was_impossible': False}</td>\n",
       "    </tr>\n",
       "    <tr>\n",
       "      <th>3</th>\n",
       "      <td>A2AY4YUOX2N1BQ</td>\n",
       "      <td>B0044XTJ10</td>\n",
       "      <td>5.0</td>\n",
       "      <td>5.000000</td>\n",
       "      <td>{'actual_k': 1, 'was_impossible': False}</td>\n",
       "    </tr>\n",
       "    <tr>\n",
       "      <th>4</th>\n",
       "      <td>A1ODOGXEYECQQ8</td>\n",
       "      <td>B000B69WVG</td>\n",
       "      <td>5.0</td>\n",
       "      <td>4.306887</td>\n",
       "      <td>{'was_impossible': True, 'reason': 'User and/o...</td>\n",
       "    </tr>\n",
       "  </tbody>\n",
       "</table>\n",
       "</div>"
      ],
      "text/plain": [
       "           userId   productId  actual  cf_predicted  \\\n",
       "0  A1BT6TL7UCIC5Y  B00452V1TS     5.0      4.306887   \n",
       "1  A1ODOGXEYECQQ8  B0050MM40C     5.0      4.306887   \n",
       "2  A3OXHLG6DIBRW8  B00CSDMWGW     5.0      5.000000   \n",
       "3  A2AY4YUOX2N1BQ  B0044XTJ10     5.0      5.000000   \n",
       "4  A1ODOGXEYECQQ8  B000B69WVG     5.0      4.306887   \n",
       "\n",
       "                                             details  \n",
       "0  {'was_impossible': True, 'reason': 'User and/o...  \n",
       "1  {'was_impossible': True, 'reason': 'User and/o...  \n",
       "2          {'actual_k': 26, 'was_impossible': False}  \n",
       "3           {'actual_k': 1, 'was_impossible': False}  \n",
       "4  {'was_impossible': True, 'reason': 'User and/o...  "
      ]
     },
     "execution_count": 170,
     "metadata": {},
     "output_type": "execute_result"
    }
   ],
   "source": [
    "test_i.columns = ['userId', 'productId', 'actual', 'cf_predicted', 'details']\n",
    "test_i.head()"
   ]
  },
  {
   "cell_type": "code",
   "execution_count": 171,
   "metadata": {},
   "outputs": [
    {
     "name": "stdout",
     "output_type": "stream",
     "text": [
      "0.9818158249972551\n",
      "0.990866199341392\n"
     ]
    }
   ],
   "source": [
    "#evaluate model with MSE and RMSE\n",
    "print(recmetrics.mse(test_i.actual, test_i.cf_predicted))\n",
    "print(recmetrics.rmse(test_i.actual, test_i.cf_predicted))"
   ]
  },
  {
   "cell_type": "markdown",
   "metadata": {},
   "source": [
    "<font color = blue>\n",
    "    \n",
    "- The RMSE value has come around 1.0..."
   ]
  },
  {
   "cell_type": "markdown",
   "metadata": {},
   "source": [
    "## <span style=\"font-family: Cambria; font-weight:bold;font-size:1 em;color:green;\">   7.c. User-User Collaborative model\n",
    "<a id='O3c'></a>"
   ]
  },
  {
   "cell_type": "markdown",
   "metadata": {},
   "source": [
    "<font color = blue>\n",
    "    \n",
    "- Let's import the user based collaborative filtering model through KNN with the help of 50 neighbours. In this collaborative filtering model mean ratings of each user is considered."
   ]
  },
  {
   "cell_type": "code",
   "execution_count": 172,
   "metadata": {},
   "outputs": [
    {
     "name": "stdout",
     "output_type": "stream",
     "text": [
      "Computing the msd similarity matrix...\n",
      "Done computing similarity matrix.\n"
     ]
    },
    {
     "data": {
      "text/plain": [
       "<surprise.prediction_algorithms.knns.KNNWithMeans at 0x22d0b088>"
      ]
     },
     "execution_count": 172,
     "metadata": {},
     "output_type": "execute_result"
    }
   ],
   "source": [
    "algo_u = KNNWithMeans(k=50, sim_options={ 'user_based': True})\n",
    " \n",
    "\n",
    "algo_u.fit(trainset_150)"
   ]
  },
  {
   "cell_type": "markdown",
   "metadata": {},
   "source": [
    "<font color = blue>\n",
    "\n",
    "- After training the model through trainset, let's now test it and get the recommendation for the users."
   ]
  },
  {
   "cell_type": "code",
   "execution_count": 173,
   "metadata": {},
   "outputs": [
    {
     "data": {
      "text/html": [
       "<div>\n",
       "<style scoped>\n",
       "    .dataframe tbody tr th:only-of-type {\n",
       "        vertical-align: middle;\n",
       "    }\n",
       "\n",
       "    .dataframe tbody tr th {\n",
       "        vertical-align: top;\n",
       "    }\n",
       "\n",
       "    .dataframe thead th {\n",
       "        text-align: right;\n",
       "    }\n",
       "</style>\n",
       "<table border=\"1\" class=\"dataframe\">\n",
       "  <thead>\n",
       "    <tr style=\"text-align: right;\">\n",
       "      <th></th>\n",
       "      <th>uid</th>\n",
       "      <th>iid</th>\n",
       "      <th>r_ui</th>\n",
       "      <th>est</th>\n",
       "      <th>details</th>\n",
       "    </tr>\n",
       "  </thead>\n",
       "  <tbody>\n",
       "    <tr>\n",
       "      <th>0</th>\n",
       "      <td>A1BT6TL7UCIC5Y</td>\n",
       "      <td>B00452V1TS</td>\n",
       "      <td>5.0</td>\n",
       "      <td>4.306887</td>\n",
       "      <td>{'was_impossible': True, 'reason': 'User and/o...</td>\n",
       "    </tr>\n",
       "    <tr>\n",
       "      <th>1</th>\n",
       "      <td>A1ODOGXEYECQQ8</td>\n",
       "      <td>B0050MM40C</td>\n",
       "      <td>5.0</td>\n",
       "      <td>4.306887</td>\n",
       "      <td>{'was_impossible': True, 'reason': 'User and/o...</td>\n",
       "    </tr>\n",
       "    <tr>\n",
       "      <th>2</th>\n",
       "      <td>A3OXHLG6DIBRW8</td>\n",
       "      <td>B00CSDMWGW</td>\n",
       "      <td>5.0</td>\n",
       "      <td>4.912116</td>\n",
       "      <td>{'actual_k': 4, 'was_impossible': False}</td>\n",
       "    </tr>\n",
       "    <tr>\n",
       "      <th>3</th>\n",
       "      <td>A2AY4YUOX2N1BQ</td>\n",
       "      <td>B0044XTJ10</td>\n",
       "      <td>5.0</td>\n",
       "      <td>5.000000</td>\n",
       "      <td>{'actual_k': 1, 'was_impossible': False}</td>\n",
       "    </tr>\n",
       "    <tr>\n",
       "      <th>4</th>\n",
       "      <td>A1ODOGXEYECQQ8</td>\n",
       "      <td>B000B69WVG</td>\n",
       "      <td>5.0</td>\n",
       "      <td>4.306887</td>\n",
       "      <td>{'was_impossible': True, 'reason': 'User and/o...</td>\n",
       "    </tr>\n",
       "  </tbody>\n",
       "</table>\n",
       "</div>"
      ],
      "text/plain": [
       "              uid         iid  r_ui       est  \\\n",
       "0  A1BT6TL7UCIC5Y  B00452V1TS   5.0  4.306887   \n",
       "1  A1ODOGXEYECQQ8  B0050MM40C   5.0  4.306887   \n",
       "2  A3OXHLG6DIBRW8  B00CSDMWGW   5.0  4.912116   \n",
       "3  A2AY4YUOX2N1BQ  B0044XTJ10   5.0  5.000000   \n",
       "4  A1ODOGXEYECQQ8  B000B69WVG   5.0  4.306887   \n",
       "\n",
       "                                             details  \n",
       "0  {'was_impossible': True, 'reason': 'User and/o...  \n",
       "1  {'was_impossible': True, 'reason': 'User and/o...  \n",
       "2           {'actual_k': 4, 'was_impossible': False}  \n",
       "3           {'actual_k': 1, 'was_impossible': False}  \n",
       "4  {'was_impossible': True, 'reason': 'User and/o...  "
      ]
     },
     "execution_count": 173,
     "metadata": {},
     "output_type": "execute_result"
    }
   ],
   "source": [
    "test_u = algo_u.test(testset_150)\n",
    "test_u = pd.DataFrame(test_u)\n",
    "test_u.head()"
   ]
  },
  {
   "cell_type": "markdown",
   "metadata": {},
   "source": [
    "- For convienience, let's rename the columns"
   ]
  },
  {
   "cell_type": "code",
   "execution_count": 174,
   "metadata": {},
   "outputs": [
    {
     "data": {
      "text/html": [
       "<div>\n",
       "<style scoped>\n",
       "    .dataframe tbody tr th:only-of-type {\n",
       "        vertical-align: middle;\n",
       "    }\n",
       "\n",
       "    .dataframe tbody tr th {\n",
       "        vertical-align: top;\n",
       "    }\n",
       "\n",
       "    .dataframe thead th {\n",
       "        text-align: right;\n",
       "    }\n",
       "</style>\n",
       "<table border=\"1\" class=\"dataframe\">\n",
       "  <thead>\n",
       "    <tr style=\"text-align: right;\">\n",
       "      <th></th>\n",
       "      <th>userId</th>\n",
       "      <th>productId</th>\n",
       "      <th>actual</th>\n",
       "      <th>cf_predicted</th>\n",
       "      <th>details</th>\n",
       "    </tr>\n",
       "  </thead>\n",
       "  <tbody>\n",
       "    <tr>\n",
       "      <th>0</th>\n",
       "      <td>A1BT6TL7UCIC5Y</td>\n",
       "      <td>B00452V1TS</td>\n",
       "      <td>5.0</td>\n",
       "      <td>4.306887</td>\n",
       "      <td>{'was_impossible': True, 'reason': 'User and/o...</td>\n",
       "    </tr>\n",
       "    <tr>\n",
       "      <th>1</th>\n",
       "      <td>A1ODOGXEYECQQ8</td>\n",
       "      <td>B0050MM40C</td>\n",
       "      <td>5.0</td>\n",
       "      <td>4.306887</td>\n",
       "      <td>{'was_impossible': True, 'reason': 'User and/o...</td>\n",
       "    </tr>\n",
       "    <tr>\n",
       "      <th>2</th>\n",
       "      <td>A3OXHLG6DIBRW8</td>\n",
       "      <td>B00CSDMWGW</td>\n",
       "      <td>5.0</td>\n",
       "      <td>4.912116</td>\n",
       "      <td>{'actual_k': 4, 'was_impossible': False}</td>\n",
       "    </tr>\n",
       "    <tr>\n",
       "      <th>3</th>\n",
       "      <td>A2AY4YUOX2N1BQ</td>\n",
       "      <td>B0044XTJ10</td>\n",
       "      <td>5.0</td>\n",
       "      <td>5.000000</td>\n",
       "      <td>{'actual_k': 1, 'was_impossible': False}</td>\n",
       "    </tr>\n",
       "    <tr>\n",
       "      <th>4</th>\n",
       "      <td>A1ODOGXEYECQQ8</td>\n",
       "      <td>B000B69WVG</td>\n",
       "      <td>5.0</td>\n",
       "      <td>4.306887</td>\n",
       "      <td>{'was_impossible': True, 'reason': 'User and/o...</td>\n",
       "    </tr>\n",
       "  </tbody>\n",
       "</table>\n",
       "</div>"
      ],
      "text/plain": [
       "           userId   productId  actual  cf_predicted  \\\n",
       "0  A1BT6TL7UCIC5Y  B00452V1TS     5.0      4.306887   \n",
       "1  A1ODOGXEYECQQ8  B0050MM40C     5.0      4.306887   \n",
       "2  A3OXHLG6DIBRW8  B00CSDMWGW     5.0      4.912116   \n",
       "3  A2AY4YUOX2N1BQ  B0044XTJ10     5.0      5.000000   \n",
       "4  A1ODOGXEYECQQ8  B000B69WVG     5.0      4.306887   \n",
       "\n",
       "                                             details  \n",
       "0  {'was_impossible': True, 'reason': 'User and/o...  \n",
       "1  {'was_impossible': True, 'reason': 'User and/o...  \n",
       "2           {'actual_k': 4, 'was_impossible': False}  \n",
       "3           {'actual_k': 1, 'was_impossible': False}  \n",
       "4  {'was_impossible': True, 'reason': 'User and/o...  "
      ]
     },
     "execution_count": 174,
     "metadata": {},
     "output_type": "execute_result"
    }
   ],
   "source": [
    "test_u.columns = ['userId', 'productId', 'actual', 'cf_predicted', 'details']\n",
    "test_u.head()"
   ]
  },
  {
   "cell_type": "code",
   "execution_count": 175,
   "metadata": {},
   "outputs": [
    {
     "name": "stdout",
     "output_type": "stream",
     "text": [
      "0.9535198241289136\n",
      "0.9764833967502538\n"
     ]
    }
   ],
   "source": [
    "#evaluate model with MSE and RMSE\n",
    "print(recmetrics.mse(test_u.actual, test_u.cf_predicted))\n",
    "print(recmetrics.rmse(test_u.actual, test_u.cf_predicted))"
   ]
  },
  {
   "cell_type": "markdown",
   "metadata": {},
   "source": [
    "\n",
    "<font color = blue>\n",
    "\n",
    "- Here, the RMSE value is 0.98, which is less than the item-item collaborative filtering model."
   ]
  },
  {
   "cell_type": "markdown",
   "metadata": {},
   "source": [
    "## <span style=\"font-family: Times New Roman; font-weight:bold;font-size:1.3em;color:Purple;\"> 8. Get top - K ( K = 5) recommendations to the user\n",
    "<a id='8K'></a>"
   ]
  },
  {
   "cell_type": "markdown",
   "metadata": {},
   "source": [
    "<font color = blue>\n",
    "\n",
    "- Let's get a prediction for specific users and items by using different models."
   ]
  },
  {
   "cell_type": "code",
   "execution_count": 176,
   "metadata": {},
   "outputs": [
    {
     "name": "stdout",
     "output_type": "stream",
     "text": [
      "user: A3BACUOZV1M0WM item: B000066CCU r_ui = 0.00   est = 2.63   {'was_impossible': False}\n"
     ]
    }
   ],
   "source": [
    "uid = str('A3BACUOZV1M0WM')  # raw user id (as in the ratings file). They are **strings**!\n",
    "iid = \"B000066CCU\"  # raw item id (as in the ratings file). They are **strings**!\n",
    "\n",
    "# get a prediction for specific users and items.\n",
    "pred = svd_model.predict(uid, iid, r_ui=0.0, verbose=True)"
   ]
  },
  {
   "cell_type": "markdown",
   "metadata": {},
   "source": [
    "##### *Comments:*\n",
    "<font color = blue>\n",
    "\n",
    "\n",
    "- The above code is used to predict the rating for a product for a single user with the help of SVD model.\n",
    "\n",
    "- Here the predicted rating has come out to be 2.52 and here I'm able to identify neighbours for that individual user. And this rating has come up based on the neighbours of that particular user.\n"
   ]
  },
  {
   "cell_type": "code",
   "execution_count": 177,
   "metadata": {},
   "outputs": [
    {
     "name": "stdout",
     "output_type": "stream",
     "text": [
      "user: AIJQU979J6UFY item: B0044DEDC0 r_ui = 0.00   est = 4.24   {'actual_k': 50, 'was_impossible': False}\n"
     ]
    }
   ],
   "source": [
    "uid = str('AIJQU979J6UFY')  # raw user id (as in the ratings file). They are **strings**!\n",
    "iid = \"B0044DEDC0\"  # raw item id (as in the ratings file). They are **strings**!\n",
    "\n",
    "# get a prediction for specific users and items.\n",
    "pred = algo_i.predict(uid, iid, r_ui=0.0, verbose=True)"
   ]
  },
  {
   "cell_type": "markdown",
   "metadata": {},
   "source": [
    "<font color = blue>\n",
    "    \n",
    "- In the above code, we tried to predict the rating of a particular product by a user with the help of item based collaborative filtering. Here we will be seeing the products that are similar based on the ratings that they have received.\n",
    "\n",
    "- Here the predicted rating has come out to be 4.24, with a neighbour value of 50, it means, the item has 12 number of neighbours with similar kind of ratings for the same user.\n"
   ]
  },
  {
   "cell_type": "code",
   "execution_count": 178,
   "metadata": {},
   "outputs": [
    {
     "name": "stdout",
     "output_type": "stream",
     "text": [
      "user: AIJQU979J6UFY item: B000066CCU r_ui = 0.00   est = 4.31   {'was_impossible': True, 'reason': 'User and/or item is unknown.'}\n"
     ]
    }
   ],
   "source": [
    "uid = str('AIJQU979J6UFY')  # raw user id (as in the ratings file). They are **strings**!\n",
    "iid = \"B000066CCU\"  # raw item id (as in the ratings file). They are **strings**!\n",
    "\n",
    "# get a prediction for specific users and items.\n",
    "pred = algo_i.predict(uid, iid, r_ui=0.0, verbose=True)"
   ]
  },
  {
   "cell_type": "markdown",
   "metadata": {},
   "source": [
    "<font color = blue>\n",
    "\n",
    "- Now, here for the same user, we have given another item, and the rating we received is 4.32, however, this product has no neighbours. It means the item is purely new and unique in nature.\n",
    "\n",
    "- Thus, this is a solid example of Grey Sheep Problem, where the item/user has no neighbour and they are alone in their class.\n"
   ]
  },
  {
   "cell_type": "code",
   "execution_count": 179,
   "metadata": {},
   "outputs": [
    {
     "name": "stdout",
     "output_type": "stream",
     "text": [
      "user: AIJQU979J6UFY item: B0044DEDC0 r_ui = 0.00   est = 4.20   {'actual_k': 3, 'was_impossible': False}\n"
     ]
    }
   ],
   "source": [
    "uid = str('AIJQU979J6UFY')  # raw user id (as in the ratings file). They are **strings**!\n",
    "iid = \"B0044DEDC0\"  # raw item id (as in the ratings file). They are **strings**!\n",
    "\n",
    "# get a prediction for specific users and items.\n",
    "pred = algo_u.predict(uid, iid, r_ui=0.0, verbose=True)"
   ]
  },
  {
   "cell_type": "markdown",
   "metadata": {},
   "source": [
    "<font color = blue>\n",
    "    \n",
    "- In the above code, we tried to predict the rating of a particular product by a user with the help of user based collaborative filtering. Here we will be seeing the users who are similar based on their test of products and ratings that they have given to products or having similar purchasing behaviour.\n",
    "\n",
    "- Here the predicted rating has come out to be 4.20, with a neighbour value of 3, it means, the user has 3 number of neighbours with similar kind of taste / choice and ratings for the same items.\n"
   ]
  },
  {
   "cell_type": "code",
   "execution_count": 180,
   "metadata": {},
   "outputs": [
    {
     "name": "stdout",
     "output_type": "stream",
     "text": [
      "user: AIJQU979J6UFY item: B000066CCU r_ui = 0.00   est = 4.31   {'was_impossible': True, 'reason': 'User and/or item is unknown.'}\n"
     ]
    }
   ],
   "source": [
    "uid = str('AIJQU979J6UFY')  # raw user id (as in the ratings file). They are **strings**!\n",
    "iid = \"B000066CCU\"  # raw item id (as in the ratings file). They are **strings**!\n",
    "\n",
    "# get a prediction for specific users and items.\n",
    "pred = algo_u.predict(uid, iid, r_ui=0.0, verbose=True)"
   ]
  },
  {
   "cell_type": "markdown",
   "metadata": {},
   "source": [
    "<font color = blue>\n",
    "\n",
    "- Now, here for the same user, we have given another item, and the rating we received is 4.32, however, this product has no neighbours. It means the user/item is purely new and unique in nature and we do not have prior knowledge about them.\n",
    "\n",
    "- Once again this is a solid example of Grey Sheep Problem, where the item/user has no neighbour and they are alone in their class.\n"
   ]
  },
  {
   "cell_type": "markdown",
   "metadata": {},
   "source": [
    "### Now Let's get top 5 recommendation to the user"
   ]
  },
  {
   "cell_type": "code",
   "execution_count": 181,
   "metadata": {},
   "outputs": [],
   "source": [
    "pred = pd.DataFrame(test_pred)"
   ]
  },
  {
   "cell_type": "code",
   "execution_count": 182,
   "metadata": {},
   "outputs": [
    {
     "data": {
      "text/html": [
       "<div>\n",
       "<style scoped>\n",
       "    .dataframe tbody tr th:only-of-type {\n",
       "        vertical-align: middle;\n",
       "    }\n",
       "\n",
       "    .dataframe tbody tr th {\n",
       "        vertical-align: top;\n",
       "    }\n",
       "\n",
       "    .dataframe thead th {\n",
       "        text-align: right;\n",
       "    }\n",
       "</style>\n",
       "<table border=\"1\" class=\"dataframe\">\n",
       "  <thead>\n",
       "    <tr style=\"text-align: right;\">\n",
       "      <th></th>\n",
       "      <th>user</th>\n",
       "      <th>productId</th>\n",
       "      <th>actual_rating</th>\n",
       "      <th>predicted_ratings</th>\n",
       "      <th>details</th>\n",
       "    </tr>\n",
       "  </thead>\n",
       "  <tbody>\n",
       "    <tr>\n",
       "      <th>0</th>\n",
       "      <td>ACP9S40H3SHY1</td>\n",
       "      <td>B004J1G2MQ</td>\n",
       "      <td>5.0</td>\n",
       "      <td>1.780432</td>\n",
       "      <td>{'was_impossible': False}</td>\n",
       "    </tr>\n",
       "    <tr>\n",
       "      <th>1</th>\n",
       "      <td>A11YIHB6IW352W</td>\n",
       "      <td>B00008Y1BX</td>\n",
       "      <td>5.0</td>\n",
       "      <td>1.804389</td>\n",
       "      <td>{'was_impossible': False}</td>\n",
       "    </tr>\n",
       "    <tr>\n",
       "      <th>2</th>\n",
       "      <td>A36K2N527TXXJN</td>\n",
       "      <td>B00HR3J65I</td>\n",
       "      <td>4.0</td>\n",
       "      <td>5.000000</td>\n",
       "      <td>{'was_impossible': False}</td>\n",
       "    </tr>\n",
       "    <tr>\n",
       "      <th>3</th>\n",
       "      <td>A3Q4TYJVAM4IRM</td>\n",
       "      <td>B000NBBWNU</td>\n",
       "      <td>5.0</td>\n",
       "      <td>4.261619</td>\n",
       "      <td>{'was_impossible': True, 'reason': 'User and i...</td>\n",
       "    </tr>\n",
       "    <tr>\n",
       "      <th>4</th>\n",
       "      <td>A3BACUOZV1M0WM</td>\n",
       "      <td>B000066CCU</td>\n",
       "      <td>4.0</td>\n",
       "      <td>2.632804</td>\n",
       "      <td>{'was_impossible': False}</td>\n",
       "    </tr>\n",
       "  </tbody>\n",
       "</table>\n",
       "</div>"
      ],
      "text/plain": [
       "             user   productId  actual_rating  predicted_ratings  \\\n",
       "0   ACP9S40H3SHY1  B004J1G2MQ            5.0           1.780432   \n",
       "1  A11YIHB6IW352W  B00008Y1BX            5.0           1.804389   \n",
       "2  A36K2N527TXXJN  B00HR3J65I            4.0           5.000000   \n",
       "3  A3Q4TYJVAM4IRM  B000NBBWNU            5.0           4.261619   \n",
       "4  A3BACUOZV1M0WM  B000066CCU            4.0           2.632804   \n",
       "\n",
       "                                             details  \n",
       "0                          {'was_impossible': False}  \n",
       "1                          {'was_impossible': False}  \n",
       "2                          {'was_impossible': False}  \n",
       "3  {'was_impossible': True, 'reason': 'User and i...  \n",
       "4                          {'was_impossible': False}  "
      ]
     },
     "execution_count": 182,
     "metadata": {},
     "output_type": "execute_result"
    }
   ],
   "source": [
    "pred.columns = ['user', 'productId', 'actual_rating', 'predicted_ratings', 'details']\n",
    "pred.head(5)"
   ]
  },
  {
   "cell_type": "markdown",
   "metadata": {},
   "source": [
    "### - let's recommend top 5 items to the customer / user 'A3BACUOZV1M0WM'"
   ]
  },
  {
   "cell_type": "code",
   "execution_count": 183,
   "metadata": {},
   "outputs": [
    {
     "data": {
      "text/html": [
       "<div>\n",
       "<style scoped>\n",
       "    .dataframe tbody tr th:only-of-type {\n",
       "        vertical-align: middle;\n",
       "    }\n",
       "\n",
       "    .dataframe tbody tr th {\n",
       "        vertical-align: top;\n",
       "    }\n",
       "\n",
       "    .dataframe thead th {\n",
       "        text-align: right;\n",
       "    }\n",
       "</style>\n",
       "<table border=\"1\" class=\"dataframe\">\n",
       "  <thead>\n",
       "    <tr style=\"text-align: right;\">\n",
       "      <th></th>\n",
       "      <th>productId</th>\n",
       "      <th>actual_rating</th>\n",
       "      <th>predicted_ratings</th>\n",
       "    </tr>\n",
       "  </thead>\n",
       "  <tbody>\n",
       "    <tr>\n",
       "      <th>16890</th>\n",
       "      <td>B005Y1UFIM</td>\n",
       "      <td>5.0</td>\n",
       "      <td>4.212708</td>\n",
       "    </tr>\n",
       "    <tr>\n",
       "      <th>19053</th>\n",
       "      <td>B00009R6WO</td>\n",
       "      <td>5.0</td>\n",
       "      <td>5.000000</td>\n",
       "    </tr>\n",
       "    <tr>\n",
       "      <th>5534</th>\n",
       "      <td>B001F8SCRE</td>\n",
       "      <td>5.0</td>\n",
       "      <td>5.000000</td>\n",
       "    </tr>\n",
       "    <tr>\n",
       "      <th>5799</th>\n",
       "      <td>B0018SHJPM</td>\n",
       "      <td>5.0</td>\n",
       "      <td>4.261619</td>\n",
       "    </tr>\n",
       "    <tr>\n",
       "      <th>8121</th>\n",
       "      <td>B004RORMF6</td>\n",
       "      <td>5.0</td>\n",
       "      <td>5.000000</td>\n",
       "    </tr>\n",
       "  </tbody>\n",
       "</table>\n",
       "</div>"
      ],
      "text/plain": [
       "        productId  actual_rating  predicted_ratings\n",
       "16890  B005Y1UFIM            5.0           4.212708\n",
       "19053  B00009R6WO            5.0           5.000000\n",
       "5534   B001F8SCRE            5.0           5.000000\n",
       "5799   B0018SHJPM            5.0           4.261619\n",
       "8121   B004RORMF6            5.0           5.000000"
      ]
     },
     "execution_count": 183,
     "metadata": {},
     "output_type": "execute_result"
    }
   ],
   "source": [
    "pred[pred['user'] == 'A3BACUOZV1M0WM'][['productId', 'actual_rating','predicted_ratings']].sort_values(by = 'actual_rating',ascending = False).head(5)"
   ]
  },
  {
   "cell_type": "code",
   "execution_count": 184,
   "metadata": {},
   "outputs": [
    {
     "name": "stdout",
     "output_type": "stream",
     "text": [
      "\n",
      "Below are the recommended items for user (user_id = 35:\n",
      ")\n",
      "                   user_ratings  user_predictions\n",
      "Recommended Items                                \n",
      "B00LKG1MC8                  5.0          5.000068\n",
      "B000QS3CM4                  5.0          5.000068\n",
      "B000QJ56WW                  5.0          5.000068\n",
      "B000QJ46SW                  5.0          5.000068\n",
      "B000QJ3IIG                  5.0          5.000068\n"
     ]
    }
   ],
   "source": [
    "# Enter 'userId' and 'num_recommendations' for the user\n",
    "\n",
    "userId = 35\n",
    "num_recommendations = 5\n",
    "recommend_items(userId, pivot_df, preds_df, num_recommendations)"
   ]
  },
  {
   "cell_type": "markdown",
   "metadata": {},
   "source": [
    "## <span style=\"font-family: Times New Roman; font-weight:bold;font-size:1.3em;color:Purple;\"> 9. Summary\n",
    "<a id='C'></a>"
   ]
  },
  {
   "cell_type": "markdown",
   "metadata": {},
   "source": [
    "<Span style=\"font-family: Times New Roman;font-size:1.2em;color:purple;\">\n",
    "    \n",
    "> - In some of the collaborative filtering recommendation system, we have encountered Grey Sheep Problem. It means only one user has used the item and rated it, and the same items has not received any other ratings from other users. I.e. the item/user are alone and has no neighbours.\n",
    "\n",
    "> - In this type of case, we will not be able to recognise the test of user, so it's hard to recommend any items based upon his/her choice. Therefore, the best option is to adopt Popularity Based Recommendation System and recommend the items which are widely popular. Or else, we can recommend the items based upon the description of the items rated by user, which is Content Based Recommendation System.\n",
    "\n",
    "- But, this is not a pure form of Collaborative Recommendation System\n"
   ]
  },
  {
   "cell_type": "markdown",
   "metadata": {},
   "source": [
    "<Span style=\"font-family: Times New Roman;font-size:1.2em;color:darkgreen;\">\n",
    "    \n",
    "- Popularity based recommender system is not a personalized recommender system, therefor recommendation for each user remains the same.\n",
    "- And this recommendation engine gives the products based upon the highest ratings provided by other users. Hence, we can infer that, the recommendations are biased towards the highest ratings. It doesn't take count of users into consideration, it also doesn't take time of ratings by users.\n",
    "\n",
    "- We can add factors to this popularised Recommendation system to make it Hybrid Recommendation Engine.\n"
   ]
  },
  {
   "cell_type": "markdown",
   "metadata": {},
   "source": [
    "\n",
    "<Span style=\"font-family: Times New Roman;font-size:1.2em;color:purple;\">\n",
    "\n",
    "> Model-based Collaborative Filtering is a personalised recommender system, the recommendations are based on the past behaviour of \n",
    "The user and it is not dependent on any additional information.\n",
    "\n",
    "> The Popularity-based recommender system is non-personalised and the recommendations are based on frequency counts, which may be not suitable to the user. You can see the difference above for the user id 30, 160 and 40, The Popularity based model has recommended the same set of 5 products to all. But Collaborative Filtering based model has recommended entire different list based on the user past purchase history\n"
   ]
  },
  {
   "cell_type": "markdown",
   "metadata": {},
   "source": [
    "## <span style=\"font-family: Times New Roman; font-weight:bold;font-size:1.3em;color:Teal;\"> 10. Optional\n",
    "<a id='Op'></a>"
   ]
  },
  {
   "cell_type": "markdown",
   "metadata": {},
   "source": [
    "### Summary:\n",
    "\n",
    "<Span style=\"font-family: Times New Roman;font-size:1.2em;color:purple;\">\n",
    "\n",
    "- The receiver Operating Characteristics (ROC) plot is used to visualize the trade-off between benefits (true positives) and costs (False positives) for binary classification. The Area Under the Curve (AUC) is sometimes used as an evaluation metrics."
   ]
  },
  {
   "cell_type": "code",
   "execution_count": 185,
   "metadata": {},
   "outputs": [
    {
     "data": {
      "image/png": "[encoded data removed]",
      "text/plain": [
       "<Figure size 720x360 with 1 Axes>"
      ]
     },
     "metadata": {
      "needs_background": "light"
     },
     "output_type": "display_data"
    }
   ],
   "source": [
    "model_probs = np.concatenate([np.random.normal(loc=.2, scale=0.5, size=500), np.random.normal(loc=.9, scale=0.5, size=500)])\n",
    "actual = [0] * 500\n",
    "class_zero_actual = [1] * 500\n",
    "actual.extend(class_zero_actual)\n",
    "\n",
    "recmetrics.roc_plot(actual, model_probs, model_names=\"Collaborative model\",  figsize=(10, 5))"
   ]
  },
  {
   "cell_type": "markdown",
   "metadata": {},
   "source": [
    "### Summary:\n",
    "\n",
    "<Span style=\"font-family: Times New Roman;font-size:1.2em;color:purple;\">\n",
    "\n",
    "- In this ROC-AUC curve, 0.5 has taken as cut-off value which is default and can't be changed. \n",
    "- Since, the curve is closer to top left corner, we can enjoy higher power with this model. \n",
    "- The model has an AUC value of 0.8408. Which is within the limit."
   ]
  },
  {
   "cell_type": "code",
   "execution_count": 186,
   "metadata": {},
   "outputs": [
    {
     "data": {
      "image/png": "[encoded data removed]",
      "text/plain": [
       "<Figure size 432x432 with 1 Axes>"
      ]
     },
     "metadata": {
      "needs_background": "light"
     },
     "output_type": "display_data"
    }
   ],
   "source": [
    "recmetrics.precision_recall_plot(targs=actual, preds=model_probs)"
   ]
  },
  {
   "cell_type": "markdown",
   "metadata": {},
   "source": [
    "### Summary:\n",
    "\n",
    "<Span style=\"font-family: Times New Roman;font-size:1.2em;color:purple;\">\n",
    "\n",
    "- The precision and Recall plot is used to visualize the trade-off between precision and recall for one class in a classification."
   ]
  },
  {
   "cell_type": "markdown",
   "metadata": {},
   "source": [
    "### Summary:\n",
    "\n",
    "<Span style=\"font-family: Times New Roman;font-size:1.2em;color:purple;\">\n",
    "\n",
    "- Precision is a ratio of the number of true positives divided by the sum of the true positives and false positives. It describes how good a model is at predicting the positive class. Precision is referred to as the positive predictive value.\n",
    "\n",
    "- Recall is calculated as the ratio of the number of true positives divided by the sum of the true positives and the false negatives. Recall is the same as sensitivity.\n",
    "\n",
    "- The area under the curve in Precision - Recall plot is almost equal to the AUC, this signifies our model is good enough to recommend the items/products based on the users choice."
   ]
  },
  {
   "cell_type": "markdown",
   "metadata": {},
   "source": [
    "## <span style=\"font-family: Algerian; font-weight:bold;font-size:1.5em;color:Red; center\">      The End"
   ]
  }
 ],
 "metadata": {
  "kernelspec": {
   "display_name": "Python 3",
   "language": "python",
   "name": "python3"
  },
  "language_info": {
   "codemirror_mode": {
    "name": "ipython",
    "version": 3
   },
   "file_extension": ".py",
   "mimetype": "text/x-python",
   "name": "python",
   "nbconvert_exporter": "python",
   "pygments_lexer": "ipython3",
   "version": "3.7.6"
  }
 },
 "nbformat": 4,
 "nbformat_minor": 4
}
